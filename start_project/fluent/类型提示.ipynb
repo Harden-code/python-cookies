{
 "cells": [
  {
   "cell_type": "markdown",
   "metadata": {},
   "source": [
    "### 重载方法\n",
    "python函数接受不同的参数组,需要在函数上添加`@typing.overload`装饰器.添加了overload的方法必须要实现,否则要抛出异常"
   ]
  },
  {
   "cell_type": "code",
   "execution_count": 1,
   "metadata": {},
   "outputs": [
    {
     "data": {
      "text/plain": [
       "23"
      ]
     },
     "execution_count": 1,
     "metadata": {},
     "output_type": "execute_result"
    }
   ],
   "source": [
    "from typing import overload,Union\n",
    "\n",
    "class Max:\n",
    "    @overload\n",
    "    def max_(self,__Iterate,other)->Union[int,float]:\n",
    "        ...\n",
    "    \n",
    "    def max_(self,__Iterate,other)->Union[int,float] :\n",
    "        print(other)\n",
    "        return max(__Iterate)\n",
    "\n",
    "    @overload\n",
    "    def max_(self,__Iterate,other,flag=False)->Union[int,float]:\n",
    "        ...\n",
    "    # __表示位置参数\n",
    "    def max_(self,__Iterate,other,flag=False)->Union[int,float]:\n",
    "        if flag:\n",
    "            print(other)\n",
    "        return max(__Iterate)\n",
    "\n",
    "m=Max()\n",
    "\n",
    "m.max_([1,23,4],'help')"
   ]
  },
  {
   "cell_type": "markdown",
   "metadata": {},
   "source": [
    "\n",
    "### TypedDict\n",
    "用于类型检查工具而生,有两个作用\n",
    "- 使用与类相似的语法注解字典,为各字段的值提供类型提示\n",
    "- 通过一个构造函数告诉类型检查工具,字段应具有指定的键和指定的值\n",
    "\n",
    "> TypeDict充其算是注释,可以为阅读代码的人提供些许帮助"
   ]
  },
  {
   "cell_type": "code",
   "execution_count": 3,
   "metadata": {},
   "outputs": [
    {
     "data": {
      "text/plain": [
       "['b', 'bin']"
      ]
     },
     "execution_count": 3,
     "metadata": {},
     "output_type": "execute_result"
    }
   ],
   "source": [
    "from typing import TypedDict\n",
    "\n",
    "class BookDict(TypedDict):\n",
    "    title:str\n",
    "    authors:list[str]\n",
    "\n",
    "b=BookDict(title='harden',authors=['b','bin'])\n",
    "b['authors']"
   ]
  },
  {
   "cell_type": "markdown",
   "metadata": {},
   "source": [
    "### 类型校正\n",
    "类型校正使用typing.cast()方法,这是一个特殊方法用于消除类型检查工具发出的警告.在运行时什么也不做"
   ]
  },
  {
   "cell_type": "code",
   "execution_count": 4,
   "metadata": {},
   "outputs": [
    {
     "name": "stdout",
     "output_type": "stream",
     "text": [
      "<class 'int'> <class 'int'>\n"
     ]
    }
   ],
   "source": [
    "from typing import cast\n",
    "i=12\n",
    "cast_i=cast(str,12)\n",
    "print(type(cast_i),type(i))"
   ]
  },
  {
   "cell_type": "markdown",
   "metadata": {},
   "source": [
    "### 在运行时读取类型提示\n",
    "python会在导入时读取函数,类和模块中的类型提示,把类型提示存储在__annotations__属性中.获取属性类型的方法可以用`inspect.get_annotation`(3.10)和`typing.get_type_hints`(3.5)\n",
    "运行时使用注解问题:\n",
    "1. 类型提示过多,那么导入模块使用的CPU和内存会更多\n",
    "2. 引用尚为定义的类型需要使用字符串,而不是真正的类型"
   ]
  },
  {
   "cell_type": "code",
   "execution_count": 8,
   "metadata": {},
   "outputs": [
    {
     "name": "stdout",
     "output_type": "stream",
     "text": [
      "{'i': <class 'int'>, 'j': [set | str], 'return': <class 'str'>}\n",
      "{'i': <class 'int'>, 'j': [set | str], 'return': <class 'str'>}\n"
     ]
    }
   ],
   "source": [
    "import inspect\n",
    "from typing import get_type_hints\n",
    "def annotation(i:int,j:[set|str])->str:\n",
    "    pass\n",
    "\n",
    "\n",
    "print(inspect.get_annotations(annotation))\n",
    "print(get_type_hints(annotation))"
   ]
  },
  {
   "cell_type": "markdown",
   "metadata": {},
   "source": [
    "### 泛化类\n",
    "泛化类声明通常使用多重继承,需要子类化Generic以声明形式类型参数\n",
    "\n",
    "> 协变TypeVar('',covariant=True);逆变TypeVar('',contravariant=True),绑定在类上"
   ]
  },
  {
   "cell_type": "code",
   "execution_count": 13,
   "metadata": {},
   "outputs": [],
   "source": [
    "from typing import Generic,TypeVar\n",
    "T=TypeVar('T')\n",
    "class Book(Generic[T]):\n",
    "    def add(ele:T):\n",
    "        pass\n",
    "\n",
    "b_str=Book[str]\n"
   ]
  },
  {
   "cell_type": "markdown",
   "metadata": {},
   "source": [
    "### 运算符\n",
    "python中运算符特殊方法提供了特殊的分派机制.对于a+b解释器将执行以下步骤\n",
    "1. 如果a有__add__方法,而且不返回NotImplemented,就调用a.__add___(b)返回结果\n",
    "2. 如果a没有__add__方法,或者调用__add__方法返回NotImplemented,就检查b有没有__radd__方法,如果有,而且不返回NotImplemented就调用b.__radd__(a),返回结果\n",
    "3. 如果b没有__radd__方法,或者调用__radd__方法返回NotImplemented,就抛出TypeError并在错误消息中指明不支持操作数的类型"
   ]
  }
 ],
 "metadata": {
  "kernelspec": {
   "display_name": "base",
   "language": "python",
   "name": "python3"
  },
  "language_info": {
   "codemirror_mode": {
    "name": "ipython",
    "version": 3
   },
   "file_extension": ".py",
   "mimetype": "text/x-python",
   "name": "python",
   "nbconvert_exporter": "python",
   "pygments_lexer": "ipython3",
   "version": "3.11.5"
  }
 },
 "nbformat": 4,
 "nbformat_minor": 2
}
