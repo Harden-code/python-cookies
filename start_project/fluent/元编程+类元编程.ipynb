{
 "cells": [
  {
   "cell_type": "markdown",
   "metadata": {},
   "source": [
    "### 处理属性的内置方法\n",
    "- dir(object):列出对象的大多数属性,能列出__dict__属性对象没有的属性,实现__dir__方法可以自定义dir函数的输出\n",
    "- getattr(object,name[,default])从object对象中获取name字符串对应的属.主要用于获取实现不知道的属性,获取的属性可能来自对象所属的类或超类,如果指定的属性不存在,则会抛出attributeError\n",
    "- hasattr(object,name):判断objec是否存在某一属性\n",
    "- setattr(object,name,value):把object对象制定属性设置为value\n",
    "- vars(object):返回obejct对象的__dict__属性\n",
    "\n",
    "### 处理属性的特殊方法\n",
    "- __delattr__:只要使用del语句删除属性,就会调用这个方法\n",
    "- __dir__:在对象上调用dir方法会调用这个方法\n",
    "- __getattr__:仅当获取制定的属性失败,搜索obj,class及超类之后会调用这个方法\n",
    "- __getattibute__:点号表示法与内置函数getattr和hasattr会触发该方法,__getattr__仅在该方法之后,而且仅当它抛出AttributrError时调用.为了在获取obj实例对象属性时不导致递归,该方法应该实现使用supper().__getattribute__\n",
    "- __setattr__:尝试设置指定名称的属性时会调用这个方法\n",
    "- __new__:在python中常把__init__方法称为构造方法(其他语言借鉴的),这个是错误的,因为__init__方法的第一个方法是self,对象已经存在,另外该方法什么都不会返回.调用类创建实例时,为了构建实例,python调用的__new__这个是一个类方法以特殊方式对待,因此不必加@classmethod装饰器,python会把它返回的实例传入__init__的第一个参数self\n"
   ]
  },
  {
   "cell_type": "code",
   "execution_count": 5,
   "metadata": {},
   "outputs": [
    {
     "name": "stdout",
     "output_type": "stream",
     "text": [
      "attribute w\n"
     ]
    },
    {
     "data": {
      "text/plain": [
       "'2'"
      ]
     },
     "execution_count": 5,
     "metadata": {},
     "output_type": "execute_result"
    }
   ],
   "source": [
    "class Attri:\n",
    "\n",
    "    def __getattribute__(self, __name) :\n",
    "        print('attribute',__name)\n",
    "        raise AttributeError('Attri') \n",
    "        # super().__getattribute__(__name)\n",
    "        \n",
    "    def __getattr__(self,key):\n",
    "        print('getattr',key)\n",
    "        return '1'\n",
    "\n",
    "a= Attri()\n",
    "\n",
    "property\n",
    "a.w"
   ]
  },
  {
   "cell_type": "markdown",
   "metadata": {},
   "source": [
    "### 类元编程\n",
    "类元编程指在运行时创建或定制类的技艺,在python中类是一等对象,因此任何时候都可以使用函数新建类,无须使用class关键字\n",
    "\n",
    "type类也是一个元类,即构建类的类"
   ]
  },
  {
   "cell_type": "markdown",
   "metadata": {},
   "source": [
    "### 类也是对象\n",
    "python中类也是对象,python数据模型为每个类定义类很多属性,常见属性:\n",
    "- cls.__bases__:由类的基类构成的元组\n",
    "- cls.__qualname__:类或函数的限定名称,及从模块的全局作用域到类的点分路径\n",
    "- cls.__subclassess_:返回包含类的直接子类列表,列表中说内存里存在的子类,不含尚未导入的模块\n",
    "- mro():获取__mro__对象的超类元组"
   ]
  },
  {
   "cell_type": "code",
   "execution_count": 2,
   "metadata": {},
   "outputs": [
    {
     "name": "stdout",
     "output_type": "stream",
     "text": [
      "(<class '__main__.A'>,) [<class '__main__.B'>, <class '__main__.A'>, <class 'object'>]\n"
     ]
    }
   ],
   "source": [
    "class A:\n",
    "    ...\n",
    "\n",
    "class B(A):\n",
    "    ...\n",
    "\n",
    "print(B.__bases__,B.mro())"
   ]
  },
  {
   "cell_type": "markdown",
   "metadata": {},
   "source": [
    "### type内置的类工厂\n",
    "通常认为type是返回对象的所属类,即type(obj)返回obj.__class__.然而在调用时还会传入3个参数创建类"
   ]
  },
  {
   "cell_type": "code",
   "execution_count": 15,
   "metadata": {},
   "outputs": [
    {
     "name": "stdout",
     "output_type": "stream",
     "text": [
      "a\n"
     ]
    }
   ],
   "source": [
    "\n",
    "MyClass=type('MyClass',(object,),{'x':2,'show':lambda a:print(a)},)\n",
    "MyClass.show('a')"
   ]
  },
  {
   "cell_type": "code",
   "execution_count": null,
   "metadata": {},
   "outputs": [],
   "source": [
    "# NamedTuple and dataclass"
   ]
  },
  {
   "cell_type": "markdown",
   "metadata": {},
   "source": [
    "### 导入时和运行时比较\n",
    "在导入时解释器执行以下操作:\n",
    "\n",
    "1. 从上到下一次性解析完.py模块的源码\n",
    "2. 编译生成用于执行的字节码\n",
    "3. 执行编译后的模块的顶层代码\n",
    "\n",
    "> 如果本地的__pycache__文件夹中有最新的.pyc文件,则变压器会跳过解析和编译步骤\n",
    "\n",
    "> 注意import语句不只是申明而已,首次吧模块引入进程时,所导入模块中的全部顶层代码都将运行.除了import导入还可以使用__import__内置方法导入"
   ]
  },
  {
   "cell_type": "markdown",
   "metadata": {},
   "source": [
    "### 元类\n",
    "元类是制造类的工厂,不是函数而是类.(元类是生产类的类)\n",
    "\n",
    "object类和type类之间的独特关系:object时type的实例,而type是object的子类\n",
    "\n",
    "**元类时type的子类,可以作为制造类的工厂,元类通过实例特殊方法定制实例[元类创建的实例是类]**"
   ]
  },
  {
   "cell_type": "code",
   "execution_count": 5,
   "metadata": {},
   "outputs": [
    {
     "name": "stdout",
     "output_type": "stream",
     "text": [
      "<class 'type'> <class 'type'> <class 'type'>\n",
      "True\n"
     ]
    }
   ],
   "source": [
    "print(type(int),type(type),type(object))\n",
    "print(issubclass(type,object))"
   ]
  }
 ],
 "metadata": {
  "kernelspec": {
   "display_name": "base",
   "language": "python",
   "name": "python3"
  },
  "language_info": {
   "codemirror_mode": {
    "name": "ipython",
    "version": 3
   },
   "file_extension": ".py",
   "mimetype": "text/x-python",
   "name": "python",
   "nbconvert_exporter": "python",
   "pygments_lexer": "ipython3",
   "version": "3.11.5"
  }
 },
 "nbformat": 4,
 "nbformat_minor": 2
}
