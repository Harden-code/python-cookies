{
 "cells": [
  {
   "cell_type": "markdown",
   "metadata": {},
   "source": [
    "### 鸭子类型\n",
    "只需要按照预定行为实现对象所需要的方法即可,比如repr()和str()背后支持的__repr__,`__str__`.还有两个特殊方法__bytes__和__format__可以为对象提供其他表示形式,bytes()函数调用它获取对象的字节序列表示形式,format()和str.format()通过调用obj.`__format__`(format_spec)以特殊的格式化代码显示对象的字符串表示形式"
   ]
  },
  {
   "cell_type": "markdown",
   "metadata": {},
   "source": [
    "### 备选构造函数\n",
    "- classmethod:最常见用途是用来定义备选构造函数,第一个参数是类本身\n",
    "- staticmethod:静态方法就是普通方法,只是碰巧位于类的定义体中,而不是在模块层"
   ]
  },
  {
   "cell_type": "markdown",
   "metadata": {},
   "source": [
    "### 支持位匹配模式\n",
    "需要加`__match_args_=(filed1,filed2)`的类属性,其中顺序上位匹配模式的顺序"
   ]
  },
  {
   "cell_type": "markdown",
   "metadata": {},
   "source": [
    "### python私有属性和‘受保护’的属性\n",
    "python不能像java那样使用private修饰符创建私有属性,但是它有有一个简单的机制,能避免类意外覆盖.在实例属性名前面加两个下划线,python会把属性名存入实例属性__dict__中,而且会在前面加一个下划线和类名,名称改写\n",
    "\n",
    "使用单个下划线的只是一种约定,python不会对它做处理"
   ]
  },
  {
   "cell_type": "code",
   "execution_count": 6,
   "metadata": {},
   "outputs": [
    {
     "name": "stdout",
     "output_type": "stream",
     "text": [
      "(3.0, 4.0)\n",
      "Vector 3.0 4.0\n",
      "(3.0 4.0)\n"
     ]
    },
    {
     "data": {
      "text/plain": [
       "1079245023883434373"
      ]
     },
     "execution_count": 6,
     "metadata": {},
     "output_type": "execute_result"
    }
   ],
   "source": [
    "import math\n",
    "import array\n",
    "class Vector:\n",
    "    typecode='d'\n",
    "\n",
    "    def __init__(self,x,y):\n",
    "        self.__x=float(x)\n",
    "        self.__y=float(y)\n",
    "    \n",
    "    @property\n",
    "    def x(self):\n",
    "        return self.__x\n",
    "    \n",
    "    @property\n",
    "    def y(self):\n",
    "        return self.__y\n",
    "    \n",
    "    #abs()方法调用\n",
    "    def __abs__(self):\n",
    "        return math.sqrt(self.__x**2+self.__y**2)\n",
    "    \n",
    "    def __iter__(self):\n",
    "        return (val for val in (self.__x,self.__y) )\n",
    "    \n",
    "    def __eq__(self, other):\n",
    "        return tuple(self)==tuple(other)\n",
    "    \n",
    "    def __repr__(self):\n",
    "        class_name=type(self).__name__\n",
    "        return f'{class_name} {self.__x} {self.__y}'\n",
    "    \n",
    "    # 内置函数bytes\n",
    "    def __bytes__(self):\n",
    "        return (bytes([ord(self.typecode)])) + bytes(array.array(self.typecode,self))\n",
    "    \n",
    "    def __format__(self,formar_spec=''): \n",
    "        components=(format(c,formar_spec) for c in self)\n",
    "        return '({} {})'.format(*components)\n",
    "\n",
    "    @classmethod\n",
    "    def from_bytes(cls,octets):\n",
    "        type_code=chr(octets[0])\n",
    "        memv=memoryview(octets[1:]).cast(type_code)\n",
    "        return cls(*memv)\n",
    "\n",
    "    # 可hash对象不能改变\n",
    "    def __hash__(self) -> int:\n",
    "        return hash((self.__x,self.__y))\n",
    "\n",
    "v1=Vector(3,4) \n",
    "abs(v1)\n",
    "\n",
    "t=tuple(v1)\n",
    "print(t)\n",
    "\n",
    "bv=bytes(v1)\n",
    "v2=Vector.from_bytes(bv)\n",
    "print(v2)\n",
    "\n",
    "print(format(v2))\n",
    "hash(v1)"
   ]
  },
  {
   "cell_type": "markdown",
   "metadata": {},
   "source": [
    "### 使用__slots__节约空间\n",
    "python把各个实例的属性都存储在一个名为__dict__字典中.可以通过定义一个名为__slots__的类属性,以序列的形式存储属性名称,那么python将使用其他模型存储实例属性\n",
    "\n",
    "注意问题\n",
    "- 每个子类都要重新声明__slots__属性,以防止子类实例有__dict__属性\n",
    "- 实例只能拥有__slots__列出的属性,除非把__dict__属性加入__slots__中(这样也失效)\n",
    "- 有__slots__的类不能使用@cached_propety装饰器,除非把__dict__加入__slots__中\n",
    "- 如果不把__weakref__加入__slots__中,那么实例就不能作为弱引用的目标"
   ]
  },
  {
   "cell_type": "code",
   "execution_count": 14,
   "metadata": {},
   "outputs": [
    {
     "name": "stdout",
     "output_type": "stream",
     "text": [
      "1 2 3\n",
      "{'z': 3}\n"
     ]
    }
   ],
   "source": [
    "class Pixel:\n",
    "    __slots__=('x','y')\n",
    "\n",
    "    def __init__(self,x,y):\n",
    "        self.x=x\n",
    "        self.y=y\n",
    "\n",
    "p=Pixel(1,2)\n",
    "\n",
    "# 声明__slots__以后实例就没有__dict__属性,如果设置没有属性将会ArrtibuteError\n",
    "# p.__dict__ \n",
    "\n",
    "class ColorPixel(Pixel):\n",
    "    # 在子类申请__slots_,子类将没有__dict__\n",
    "    #__slots__=()\n",
    "    def __init__(self,x,y,z):\n",
    "        Pixel.__init__(self,x,y)\n",
    "        self.z=z\n",
    "\n",
    "# \n",
    "c=ColorPixel(1,2,3)\n",
    "print(c.x,c.y,c.z)\n",
    "print(c.__dict__)"
   ]
  }
 ],
 "metadata": {
  "kernelspec": {
   "display_name": "base",
   "language": "python",
   "name": "python3"
  },
  "language_info": {
   "codemirror_mode": {
    "name": "ipython",
    "version": 3
   },
   "file_extension": ".py",
   "mimetype": "text/x-python",
   "name": "python",
   "nbconvert_exporter": "python",
   "pygments_lexer": "ipython3",
   "version": "3.11.5"
  }
 },
 "nbformat": 4,
 "nbformat_minor": 2
}
