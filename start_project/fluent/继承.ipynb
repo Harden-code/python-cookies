{
 "cells": [
  {
   "cell_type": "markdown",
   "metadata": {},
   "source": [
    "### super()函数\n",
    "在python中应使用super()来保证面向对象的可维护性\n",
    "> python中不会像java那样会自动调用超类不接受参数的构造方法\n",
    "> python2中super(type,object)提供了两个参数的super,type表示从哪里搜索实现所需方法的超类"
   ]
  },
  {
   "cell_type": "code",
   "execution_count": 20,
   "metadata": {},
   "outputs": [
    {
     "name": "stdout",
     "output_type": "stream",
     "text": [
      "call C\n",
      "call B\n",
      "call A\n",
      "....\n",
      "call A\n"
     ]
    }
   ],
   "source": [
    "class A:\n",
    "    def __init__(self) :\n",
    "        print('call A')\n",
    "    \n",
    "\n",
    "class B(A):\n",
    "    def __init__(self):\n",
    "        print('call B')\n",
    "        # super()少加self参数\n",
    "        super().__init__()\n",
    "\n",
    "# 错误实例,如果后面修改类基类的名字,或者继承关系,没有更新到该方法将发生错误        \n",
    "class C(B):\n",
    "    def __init__(self):\n",
    "        print('call C')\n",
    "        B.__init__(self) \n",
    "\n",
    "class D(C):\n",
    "    def __init__(self):\n",
    "        super().__init__()\n",
    "        print('....')\n",
    "        super(B,self).__init__() #从B开始向上搜索\n",
    "\n",
    "d=D()"
   ]
  },
  {
   "cell_type": "markdown",
   "metadata": {},
   "source": [
    "### 子类化内置类\n",
    "在python早期版本,内置类不能子类化.从python2.2才开始.内置类使用c语言编写通常不调用用户定义的类覆盖方法.直接子类化内置类容易出错,因此应该继承collections模块中类来扩展,UserDict,UserList,UserString"
   ]
  },
  {
   "cell_type": "code",
   "execution_count": 25,
   "metadata": {},
   "outputs": [
    {
     "name": "stdout",
     "output_type": "stream",
     "text": [
      "{'one': 2, 'two': [2, 2], 'three': 2}\n",
      "{'one': [1, 1], 'three': [3, 3]}\n"
     ]
    }
   ],
   "source": [
    "class DoubleDict(dict):\n",
    "\n",
    "    def __setitem__(self, __key, __value) :\n",
    "        return super().__setitem__(__key, [__value]*2)\n",
    "\n",
    "d=DoubleDict([('one',2)])\n",
    "d['two']=2\n",
    "d.update({'three':2})\n",
    "print(d)\n",
    "\n",
    "from collections import UserDict\n",
    "class DoubleUserDict(UserDict):\n",
    "    def __setitem__(self, key, item) :\n",
    "        return super().__setitem__(key, [item]*2)\n",
    "\n",
    "d1=DoubleUserDict([('one',1)])\n",
    "d1.update({'three':3})\n",
    "\n",
    "print(d1)"
   ]
  },
  {
   "cell_type": "markdown",
   "metadata": {},
   "source": [
    "### 多重继承\n",
    "python中支持多重继承,每个类都有一个名为__mro__属性,它的值是一个元素,按照方法解析顺序列出各个超类,从当前类到object(方法解析顺序用c3).\n",
    "\n",
    "方法的解析顺序不仅考虑继承图,还要考虑子类罗列超类的顺序.另外方法解析顺序只决定了唤醒顺序,至于是否唤醒取决于实现方法时有没有调用super()"
   ]
  },
  {
   "cell_type": "code",
   "execution_count": 7,
   "metadata": {},
   "outputs": [
    {
     "name": "stdout",
     "output_type": "stream",
     "text": [
      "<__main__.LeafAM object at 0x1169e6290> ping root\n",
      "<__main__.LeafAM object at 0x1169e6290> ping LeafA\n",
      "<__main__.LeafAM object at 0x1169e6290> ping Mix\n",
      "<__main__.LeafAM object at 0x1169e6290> ping AM\n",
      "(<class '__main__.LeafAM'>, <class '__main__.Mix'>, <class '__main__.LeafA'>, <class '__main__.Root'>, <class 'object'>)\n"
     ]
    }
   ],
   "source": [
    "class Root:\n",
    "    def ping(self):\n",
    "        print(f'{self} ping','root')\n",
    "\n",
    "class Mix:\n",
    "    def ping(self):\n",
    "        super().ping()\n",
    "        print(f'{self} ping','Mix')\n",
    "\n",
    "class LeafA(Root):\n",
    "    def ping(self):\n",
    "        super().ping()\n",
    "        print(f'{self} ping','LeafA')\n",
    "\n",
    "# 混入类\n",
    "class LeafAM(Mix,LeafA):\n",
    "    def ping(self):\n",
    "        super().ping()\n",
    "        print(f'{self} ping','AM')\n",
    "\n",
    "o=LeafAM()\n",
    "o.ping()\n",
    "print(LeafAM.__mro__)"
   ]
  },
  {
   "cell_type": "markdown",
   "metadata": {},
   "source": [
    "### 混入类\n",
    "混入类在多重继承中会连同其他类一起被子类化,混入类不能作为具体类的唯一基类,因为混入类不为具体对象提供全部功能,而是增加或定制同级类行为.\n"
   ]
  },
  {
   "cell_type": "markdown",
   "metadata": {},
   "source": [
    "### @final\n",
    "这个装饰器可以修饰在类或者方法上,IDE或类型检查工具看到它就知道不该子类化类和方法"
   ]
  },
  {
   "cell_type": "code",
   "execution_count": null,
   "metadata": {},
   "outputs": [],
   "source": [
    "from typing import final\n",
    "\n",
    "class FinalClass:\n",
    "\n",
    "    @final\n",
    "    def show(self):\n",
    "        ...\n",
    "\n",
    "class Leaf(FinalClass):\n",
    "    # def show(self):\n",
    "    #     print \n",
    "    ..."
   ]
  }
 ],
 "metadata": {
  "kernelspec": {
   "display_name": "base",
   "language": "python",
   "name": "python3"
  },
  "language_info": {
   "codemirror_mode": {
    "name": "ipython",
    "version": 3
   },
   "file_extension": ".py",
   "mimetype": "text/x-python",
   "name": "python",
   "nbconvert_exporter": "python",
   "pygments_lexer": "ipython3",
   "version": "3.11.5"
  }
 },
 "nbformat": 4,
 "nbformat_minor": 2
}
