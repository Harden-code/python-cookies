{
 "cells": [
  {
   "cell_type": "markdown",
   "metadata": {},
   "source": [
    "### pip命令\n",
    "\n",
    "升级pip\n",
    "\n",
    "    pip3 install --upgrade pip\n",
    "\n",
    "安装包\n",
    "    安装可使用==,>=,<=,>,<来指定版本号\n",
    "```python\n",
    "    pip3 install 'package'\n",
    "    pip3 install 'package'==1.0.4\n",
    "    pip3 install 'package'>=1.0.4\n",
    "```\n",
    "\n",
    "升级包\n",
    "    pip3 install --upgrade 'package'==1.4\n",
    "\n",
    "镜像\n",
    "\n",
    "- 临时指定\n",
    "    pip3 install -i https://pypi.tuna.tsinghua.edu.cn/simple  'package'\n",
    "\n",
    "- 默认设置\n",
    "    pip3 install pip -U\n",
    "\n",
    "    pip3 config set global.index-url https://pypi.tuna.tsinghua.edu.cn/simple\n",
    "\n",
    "> 也可通过在~/.pip/pip.conf文件里进行修改(index-url='' trusted-host='')\n",
    "\n",
    "卸载包\n",
    "    pip3 uninstall ‘package’\n",
    "\n",
    "搜索包\n",
    "    pip3 search 'package\n",
    "\n",
    "列出已安装,可升级包\n",
    "    pip3 list\n",
    "\n",
    "    pip3 list -o\n",
    "\n",
    "显示包信息\n",
    "    pip3 show -f ‘package’\n",
    "\n",
    "将已经安装的包保存到文本文件\n",
    "    pip3 freeze > requirments.txt\n",
    "\n",
    "根据依赖文件匹配安装库\n",
    "    pip3 install -r requirments.txt\n",
    "    "
   ]
  },
  {
   "cell_type": "markdown",
   "metadata": {},
   "source": []
  }
 ],
 "metadata": {
  "language_info": {
   "name": "python"
  }
 },
 "nbformat": 4,
 "nbformat_minor": 2
}
