{
 "cells": [
  {
   "cell_type": "markdown",
   "metadata": {},
   "source": [
    "### 数据类\n",
    "\n",
    "tuple的子类\n",
    "- colllections.namedtuple\n",
    "- typing.NameTuple\n",
    "装饰器类\n",
    "- @dataclass\n",
    "> 这些都会提供必要的方法__init__,__repr__,__eq__等方法 \n",
    "\n",
    "### 主要功能\n",
    "1. 可变实例\n",
    "    collecions.namedtuple和typing.NamedTuple构建的类时tuple的子类,因此实例是不可变的.@dataclass默认构建的是可变类,可以用frozen参数来控制\n",
    "2. class语句语法\n",
    "    typing.NamedTuple和@dataclass支持常规class语句\n",
    "3. 构造字典\n",
    "    两个具名元组都提供了构造dict对象的方法(._asdict),可根据数据类实例字段构造字典;dataclasses模块也提供了构造字典的函数dataclass.asdict\n",
    "4. 获取字段名称和默认值\n",
    "    3个类构建器都支持获取字段名称和可能配置的默认值,具名元组类原数据在._fields和._fields_defaults中.对于使用dataclass修饰的类,则使用dataclasses模块中fields函数获取,fields函数返回一个由Field对象构成的元组\n",
    "5. 获取字段类型\n",
    "    typing.NamedTuple和@dataclass定义的类有一个__annotations__类属性,最好不要直接获取,可使用typing.get_type_hints函数\n",
    "6. 更改之后创建新的实例\n",
    "    对于具名元组实例x,可以用x._replace(**kwargs)根据指定关键字参数替换某些属性值返回一个新实例.dataclass修饰的类则用\n",
    "    dataclasses.replace(x,**kwargs)\n",
    "7. 运行时定义新类 \n",
    "    collections.namedtuple和typing.NamedTuple可以在运行生成类,dataclasses模块也提供了make_dataclass方法来实现\n"
   ]
  },
  {
   "cell_type": "code",
   "execution_count": null,
   "metadata": {},
   "outputs": [],
   "source": [
    "from collections import namedtuple\n",
    "Coordinate=namedtuple('Coordinate','lat,lon')\n",
    "c1=Coordinate(1,2)\n",
    "print(c1)\n",
    "\n",
    "from typing import NamedTuple\n",
    "class TypeCoordinate(NamedTuple):\n",
    "    lat:float\n",
    "    lon:float\n",
    "\n",
    "c2=TypeCoordinate(1.0,2.0)\n",
    "print(c2)\n",
    "print(issubclass(Coordinate,tuple),issubclass(TypeCoordinate,tuple))\n",
    "\n",
    "from dataclasses import dataclass\n",
    "@dataclass\n",
    "class ClCoordinate():\n",
    "    lat:float\n",
    "    lon:float\n",
    "\n",
    "c3=ClCoordinate(1.2,2.2)\n",
    "print(c3)\n",
    "\n",
    "@dataclass(frozen=True)\n",
    "class FrozenCoordinate():\n",
    "    lat:float\n",
    "    lon:float\n",
    "c4=FrozenCoordinate(1,2)\n",
    "print(c4)\n",
    "# c4.lat=12 @dataclass 添加frozen=True让对象不可变"
   ]
  },
  {
   "cell_type": "markdown",
   "metadata": {},
   "source": [
    "### namedtuple额外方法\n",
    "- ._fields:返回存储类的字段名称\n",
    "- ._make(iterabel):根据可迭代对象构建实例\n",
    "- ._asdict:将元组实例构造成dict对象"
   ]
  },
  {
   "cell_type": "code",
   "execution_count": 22,
   "metadata": {},
   "outputs": [
    {
     "name": "stdout",
     "output_type": "stream",
     "text": [
      "_asditc() <bound method Coordinate._asdict of Coordinate(lat=1, lon=2, name='coor')>\n",
      "Coordinate(lat=3, lon=3, name=2)\n",
      "_field() ('lat', 'lon', 'name')\n",
      "_field_default() {'name': 'coor'}\n"
     ]
    }
   ],
   "source": [
    "from collections import namedtuple\n",
    "# namedtuple 接受defulats参数,值为一个可迭代对象,为从右开始计算\n",
    "Coordinate=namedtuple('Coordinate','lat,lon,name',defaults=['coor'])\n",
    "\n",
    "c1=Coordinate(1,2)\n",
    "\n",
    "print('_asditc()',c1._asdict)\n",
    "c2=Coordinate._make((3,3,2))\n",
    "print(c2)\n",
    "print('_field()',Coordinate._fields)\n",
    "print('_field_default()',Coordinate._field_defaults)\n",
    "\n"
   ]
  },
  {
   "cell_type": "markdown",
   "metadata": {},
   "source": [
    "### 类型提示\n",
    "类型提示也叫类型注解,声明函数参数,返回值,变量和属性的期望类型.python字节码编译器和解释器根本不强制提供类型信息.也就是运行时不检查类型,类型主要为第三方类型检查工具提供支持,mypy和ide内置的额类型检查器\n",
    "`mypy test.py`\n",
    "\n",
    "**注解语法**\n",
    "在class语句中定义语法\n",
    "    > var: type\n",
    "容器化类型\n",
    "    > list[str],tuple[str,float]\n",
    "可选类型\n",
    "    > typing.Optional,Optional[str],申明一个字段类型可以是str或None\n",
    "\n",
    "**注解的意义**\n",
    "类型提示在运行时没有用,在python导入模块会读取类型,构建__annotation__字典,供其他工具使用"
   ]
  },
  {
   "cell_type": "code",
   "execution_count": 10,
   "metadata": {},
   "outputs": [
    {
     "name": "stdout",
     "output_type": "stream",
     "text": [
      "{'a': <class 'int'>, 'b': <class 'float'>}\n",
      "_tuplegetter(0, 'Alias for field number 0')\n",
      "span\n",
      "c span\n"
     ]
    }
   ],
   "source": [
    "class DemoClass:\n",
    "    a: int # a 被放弃因为类没有为a名称的属性\n",
    "    b: float = 1.1 # b是一个类属性,值为1.1\n",
    "    c = 'span' # c是普通类属性没注解\n",
    "\n",
    "print(DemoClass.__annotations__)\n",
    "\n",
    "from typing import NamedTuple\n",
    "class DemoNdClass(NamedTuple):\n",
    "    a:int # a是注解也是实例属性\n",
    "    b:float=1.1 # b是注解也是实例属性,默认值1.1\n",
    "    c='span'  # 普通类属性,没有注解\n",
    "\n",
    "print(DemoNdClass.a)\n",
    "print(DemoNdClass.c)\n",
    "d3=DemoNdClass(2)\n",
    "# 类里面的值是只读属性,不能进行赋值,因为实例毕竟时元组\n",
    "\n",
    "from dataclasses import dataclass\n",
    "@dataclass\n",
    "class DemoDataClass:\n",
    "    a: int # 注解,实例属性\n",
    "    b: float = 1.1 # 注解,实例属性,默认值为1.1 \n",
    "    c = 'span' # 普通类属性,没注解\n",
    "\n",
    "d4=DemoDataClass(1)\n",
    "d4.c='c'\n",
    "print(d4.c,DemoDataClass.c)"
   ]
  },
  {
   "cell_type": "markdown",
   "metadata": {},
   "source": [
    "### @dataclass\n",
    "`@dataclass(*,init=True,repr=True,eq=True,order=False,unsafe_hash=False,frozen=False)`\n",
    "\n",
    "- init:生成__init__方法,如果自己实现,则忽略该参数\n",
    "- repr:生成__repr__方法,\n",
    "- eq:生成__eq__方法,\n",
    "- order:生成__lt__,__le__,__gt__,__ge__,如果设置为True,eq=false自行定义或继承其他用于比较的方法,则抛出异常\n",
    "- unsafe_hash:生成__hash__\n",
    "- frozen:防止更改实例\n",
    "\n",
    "> 如果eq和frozen都为True,那么@dataclass将生成一个合适的__hash__方法,确保实例是可哈希;反之frozen为false,@dataclass把__hash__设置为None,覆盖从任何超类继承的__hash__方法.\n",
    "\n",
    "> **python规定带默认值的参数后面不能有不带默认值的参数,因此为一个字段声明默认值后,余下的字段都要有默认值**\n",
    "\n",
    "### field\n",
    "为定义的数据类添加默认参数\n",
    "- default:字段的默认值;_MISSING_TYPE\n",
    "- default_factory:不接受参数的函数,用于产生默认值;_MISSING_TYPE\n",
    "- init:把字段作为参数传给__init__,True\n",
    "- repr:在__repr__中使用字段,True\n",
    "- compare:在__eq__,__lt__等比较方法中使用字段,True\n",
    "- hash:在__hash__方法中使用字段计算hash,None\n",
    "- metadate:用户定义的数据映射,@dataclass忽略该参数,None\n",
    "\n",
    "### 初始化后处理\n",
    "在__init__方法只做一件事,把传入的参数及默认值赋值给实例属性,在调用方后最后还调用__post_init__\n",
    "\n",
    "### 带类型的类属性\n",
    "使用typing.ClassVar伪类型\n",
    "\n",
    "\n",
    "### 初始化不作为字段的变量\n",
    "使用typing.InitVar阻止把字段作为常规字段 "
   ]
  },
  {
   "cell_type": "code",
   "execution_count": 15,
   "metadata": {},
   "outputs": [
    {
     "name": "stdout",
     "output_type": "stream",
     "text": [
      "['13', 1]\n",
      "[]\n",
      "out\n"
     ]
    }
   ],
   "source": [
    "from dataclasses import dataclass,field\n",
    "\n",
    "@dataclass\n",
    "class Member:\n",
    "    name:str\n",
    "    guests:list=field(default_factory=list,init=False)\n",
    "    vip:bool=field(default=False,init=False)\n",
    "\n",
    "    def __post_init__(self):\n",
    "        self.guests.append('13')\n",
    "\n",
    "m1=Member('21')\n",
    "m1.guests.append(1)\n",
    "print(m1.guests)\n",
    "\n",
    "\n",
    "from typing import ClassVar\n",
    "from dataclasses import InitVar\n",
    "\n",
    "@dataclass\n",
    "class VarClass:\n",
    "    out:ClassVar[str]='out'\n",
    "    init:InitVar[list[str]]=list()\n",
    "\n",
    "var=VarClass()\n",
    "print(var.init)\n",
    "print(VarClass.out)"
   ]
  }
 ],
 "metadata": {
  "kernelspec": {
   "display_name": "base",
   "language": "python",
   "name": "python3"
  },
  "language_info": {
   "codemirror_mode": {
    "name": "ipython",
    "version": 3
   },
   "file_extension": ".py",
   "mimetype": "text/x-python",
   "name": "python",
   "nbconvert_exporter": "python",
   "pygments_lexer": "ipython3",
   "version": "3.11.5"
  }
 },
 "nbformat": 4,
 "nbformat_minor": 2
}
