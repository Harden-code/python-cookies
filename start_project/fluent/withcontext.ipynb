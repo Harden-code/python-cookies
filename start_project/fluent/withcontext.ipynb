{
 "cells": [
  {
   "cell_type": "markdown",
   "metadata": {},
   "source": [
    "### 上下文管理器和with\n",
    "with语句的目的简化一些常用try/finally结构,保证代码运行完毕后执行某项操作,即便那段代码由于return,异常,sys.exit调用而终止也执行指定操作.上下文接口包含`__enter__`和`__exit__`两个方法,with开始运行`__enter__`方法结束时运行`__exit__`方法.with后面的表达式as绑定的是`__enter__`返回的对象,as子句是可选的,有些上下文管理器返回None"
   ]
  },
  {
   "cell_type": "code",
   "execution_count": 4,
   "metadata": {},
   "outputs": [
    {
     "name": "stdout",
     "output_type": "stream",
     "text": [
      "start\n",
      "exit\n",
      "exit\n",
      "exit\n"
     ]
    }
   ],
   "source": [
    "class Looking:\n",
    "\n",
    "    def __enter__(self):\n",
    "        return 'start'\n",
    "    # exc_type异常类 exc_value异常实例 traceback对象\n",
    "    def __exit__(self,exc_type,exc_value,traceback):\n",
    "        print('exit')\n",
    "\n",
    "with Looking() as lo:\n",
    "    print(lo)\n",
    "\n",
    "# with携带多个管理器\n",
    "with (Looking() as l1,\n",
    "      Looking() as l2):\n",
    "    pass"
   ]
  },
  {
   "cell_type": "markdown",
   "metadata": {},
   "source": [
    "### contextlib下的管理器\n",
    "- closing:为只提供close方法的提供管理\n",
    "- suppress:临时忽略指定异常管理器\n",
    "- nullcontext:什么也不做的管理器\n",
    "- @contextmanage:这个装饰器把简单生成器函数变成上下文管理器,免得创建类去实现上下文管理器协议\n",
    "\n",
    "@contextmanage:好处不用编写一个完整的类来定义`__enter__`和`__exit__`方法,而只需要一个含有yield语句的生成器生成让`__enter__`方法返回的值.yield把主体分成两个部分"
   ]
  },
  {
   "cell_type": "code",
   "execution_count": 6,
   "metadata": {},
   "outputs": [
    {
     "name": "stdout",
     "output_type": "stream",
     "text": [
      "close\n",
      "start\n",
      "yield\n",
      "end\n"
     ]
    }
   ],
   "source": [
    "import contextlib\n",
    "class Closer:\n",
    "    def close(self):\n",
    "        print('close')\n",
    "with contextlib.closing(Closer()):\n",
    "    pass\n",
    "\n",
    "@contextlib.contextmanager\n",
    "def look():\n",
    "    print('start')\n",
    "    yield 'yield'\n",
    "    print('end')\n",
    "\n",
    "with look() as l:\n",
    "    print(l)"
   ]
  },
  {
   "cell_type": "markdown",
   "metadata": {},
   "source": [
    "### if之外的else\n",
    "- for:仅当for循环完毕时(for循环没有被break)才运行else\n",
    "- while:仅当while循环因为False退出时(while循环没被break)才运行else\n",
    "- try:仅当try没有抛出异常时才运行else"
   ]
  }
 ],
 "metadata": {
  "kernelspec": {
   "display_name": "base",
   "language": "python",
   "name": "python3"
  },
  "language_info": {
   "codemirror_mode": {
    "name": "ipython",
    "version": 3
   },
   "file_extension": ".py",
   "mimetype": "text/x-python",
   "name": "python",
   "nbconvert_exporter": "python",
   "pygments_lexer": "ipython3",
   "version": "3.11.5"
  }
 },
 "nbformat": 4,
 "nbformat_minor": 2
}
