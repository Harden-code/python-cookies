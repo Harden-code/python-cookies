{
 "cells": [
  {
   "cell_type": "markdown",
   "metadata": {},
   "source": [
    "### 两种协议\n",
    "python中的协议是一种非正式接口,是隐含的按照约定定义,比如一个序列协议,python对象的表现就的像一个序列需要提供的方法(鸭子类型).\n",
    "\n",
    "- 动态协议:由解析器支持(鸭子类型)\n",
    "- 静态协议:3.8的typing.Protocl约定"
   ]
  },
  {
   "cell_type": "code",
   "execution_count": 5,
   "metadata": {},
   "outputs": [
    {
     "name": "stdout",
     "output_type": "stream",
     "text": [
      "B\n"
     ]
    },
    {
     "data": {
      "text/plain": [
       "True"
      ]
     },
     "execution_count": 5,
     "metadata": {},
     "output_type": "execute_result"
    }
   ],
   "source": [
    "class Vowels:\n",
    "\n",
    "    def __getitem__(self,i):\n",
    "        return 'ABCD'[i]\n",
    "\n",
    "v= Vowels()\n",
    "print(v[1])\n",
    "'B' in v # 会通过调用__getitem__特殊方法来支持"
   ]
  },
  {
   "cell_type": "markdown",
   "metadata": {},
   "source": [
    "### 鸭子类型利用\n",
    "1. python喜欢序列:\n",
    "    \n",
    "    python的数据模型的哲学是尽量支持基本的动态协议,对序列来说即便是最简单的也会力求做到最好.如上面的Vowels对象,没有继承abc.Sequence只实现了__getitem__方法都支持部分序列功能,没有__contains__方法也能使用in运算符.\n",
    "\n",
    "    >python解释器和list,str等内置序列根本不依赖那个抽象,collection.abc.MutableSequence为了说明序列该支持什么操作(mutable 易变)\n",
    "\n",
    "    >collections.abc模块中的大多数抽象基类存在的目的是确立由内置对象实现并且由解释器隐式支持的接口\n",
    "\n",
    "2. 猴子补丁实现运行协议\n",
    "\n",
    "    在运行时修改类或者模块的代码,而不动源代码\n",
    "    \n",
    "3. 防御性编程和快速失败\n",
    "    对于动态语言而言,快速失败可以提高程序的安全性,让程序更易于维护,快速失败尽可能早抛出错误\n",
    "\n",
    "    技巧:\n",
    "\n",
    "     - 如果函数是一个可迭代对象,按照列表处理就不通过类型检查强制要求传入一个列表list(args)\n",
    "     - 如果可迭代对象数据太多或者像shuffle这样原地处理函数,list()这种方式就不使用,应该用isinstance(obj,abc.MutableSequence)\n",
    "     - 如果传入是无穷生成器,则可先用len()先获取长度(遇到无效参数直接报错)\n",
    "    \n"
   ]
  },
  {
   "cell_type": "code",
   "execution_count": 15,
   "metadata": {},
   "outputs": [],
   "source": [
    "from collections.abc import *\n",
    "from random import shuffle\n",
    "# shuffle 洗牌\n",
    "# 猴子补丁\n",
    "class Card:\n",
    "\n",
    "    def __init__(self) :\n",
    "        self._arr=[i for i in range(10)]\n",
    "    \n",
    "    def __iter__(self):\n",
    "        return self._arr\n",
    "    \n",
    "    def __getitem__(self,i):\n",
    "        return self._arr[i]\n",
    "    \n",
    "    def __len__(self):\n",
    "        return len(self._arr)\n",
    "\n",
    "def set_item(self,i,v):\n",
    "    self._arr[i]=v\n",
    "\n",
    "card=Card()\n",
    "Card.__setitem__=set_item\n",
    "\n",
    "shuffle(card)        "
   ]
  },
  {
   "cell_type": "markdown",
   "metadata": {},
   "source": [
    "### 大鹅类型\n",
    "python中没有interface接口,通过使用抽象基类定义接口,在运行时显式检查.抽象基类时对鸭子类型的补充,提供了一种定义接口的方式.相比使用hasattr()方式识别,抽象基类可以使用isinstance()和issubclass()来识别.**抽象基类引入了虚拟子类,这种类不继承其他类却能被isinstance()和issubclass()识别**\n",
    "\n",
    "> 抽象基类最重要的优势,使用register类方法在代码中把某个类声明为一个抽象基类的虚拟子类"
   ]
  },
  {
   "cell_type": "code",
   "execution_count": 11,
   "metadata": {},
   "outputs": [
    {
     "name": "stdout",
     "output_type": "stream",
     "text": [
      "True\n",
      "True\n",
      "1,None,None,None,None,None,None,None,None,None\n"
     ]
    }
   ],
   "source": [
    "from collections.abc import (MutableSequence,Sized)\n",
    "\n",
    "hasattr(MutableSequence,'__getitem__')\n",
    "\n",
    "# 抽象基类的本质就是实现特殊方法\n",
    "class Len:\n",
    "    def __len__(self):return 1\n",
    "\n",
    "# Sized __subclasshook__方法 hook钩子\n",
    "print(issubclass(Len,Sized))\n",
    "l=Len()\n",
    "print(isinstance(l,Sized))\n",
    "\n",
    "# 如果子类化一个抽象基类没有实现它的方法,那在运行时将会抛出TypeError\n",
    "class Deck(MutableSequence):\n",
    "    def __init__(self):\n",
    "        self.arr=[None]*10\n",
    "    \n",
    "    def insert(self, index, value ):\n",
    "         self.arr[index] =value\n",
    "\n",
    "    def __delitem__(self,index):\n",
    "        del self.arr[index]\n",
    "\n",
    "    def __setitem__(self,index,val):\n",
    "        self.arr[index]=val\n",
    "    \n",
    "    def __len__(self):\n",
    "        return len(self.arr)\n",
    "\n",
    "    def __getitem__(self,index):\n",
    "        return self.arr[index]\n",
    "    \n",
    "    def __repr__(self):\n",
    "        return ','.join((f'{val}' for val in self.arr))\n",
    "d=Deck()\n",
    "d.insert(0,1)\n",
    "print(d)"
   ]
  },
  {
   "cell_type": "markdown",
   "metadata": {},
   "source": [
    "### 标准库中的抽象基类\n",
    "标准库的抽象基类都在collection.abc中,io和numbers包中也有一些抽象基类.另外每个抽象基类都依赖于abc模块中ABC类\n",
    "\n",
    "- Iterable,Container,Sized:分别通过`__iter__`,`__contains__`,`__len__`支持\n",
    "- Collection:自身没方法\n",
    "- Sequence,Mapping,Set:主要是不可变容器,都有对应的Mutable***容器\n",
    "- MappingView:映射方法items(),keys(),values()分别返回实现了ItemsView,KeysView,ValueView\n",
    "- Iterator:Iterable子类\n",
    "- Callable,Hashable:可调用,可哈希\n",
    "\n",
    "> 使用isinstance检查Iterable,Hashable可能不准确,isinstanc(obj,Hashable)obj可能是不可哈希元组,最好使用hash(),isinstance(obj,Iterable)可能返回false,obj对象可以通过__getitem__特殊方法来迭代,最好调用iter()"
   ]
  },
  {
   "cell_type": "markdown",
   "metadata": {},
   "source": [
    "### 抽象基类语法详解\n",
    "声明抽象基类的标准方式时继承abc.ABC或其他抽象基类,除了ABC基类和@abstracmethod装饰器,abc模块还定义了@abstractclassmethod,@abstractstaticmethod,@abstractproperty装饰器,后面3个装饰器在3.3中已经弃用.**@absractmethod叠放装饰器的顺序很重要,它应该放在最里面**"
   ]
  },
  {
   "cell_type": "code",
   "execution_count": 5,
   "metadata": {},
   "outputs": [],
   "source": [
    "from abc import ABC,abstractmethod\n",
    "\n",
    "class AbstractWork(ABC):\n",
    "    def __init__(self):\n",
    "        self._arr=[None]*10\n",
    "\n",
    "    @abstractmethod\n",
    "    def add_work(self,i):\n",
    "        print('supper')\n",
    "        ...\n",
    "\n",
    "    def display(self):\n",
    "        for i in self._arr:\n",
    "            print(i)    \n",
    "    \n",
    "class Work(AbstractWork):\n",
    "\n",
    "    def add_work(self, i):\n",
    "        return self._arr.append(i)\n",
    "\n",
    "w=Work()\n",
    "w.add_work('s')"
   ]
  },
  {
   "cell_type": "markdown",
   "metadata": {},
   "source": [
    "### 抽象基类的虚拟子类\n",
    "**大鹅类型的基本特征是即便不继承,也有办法把一个类注册为抽象基类的虚拟子类**.这样做会承诺注册的类忠实地实现了抽象类定义的接口,python会相信我们,不在检查,但是如果是错误的注册在运行时会抛出异常.注册虚拟子类的方式时在抽象基类上调用register类方法,这么做之后,注册的类就变成了抽象基类的虚拟子类,而且issubclass函数也能识别这个关系,但是注册的类不会从它抽象基类中基础任何方法或属性.(另外register可以当做装饰器调用)\n",
    "\n",
    "### __subclasshook__方法注册虚拟子类"
   ]
  },
  {
   "cell_type": "code",
   "execution_count": 16,
   "metadata": {},
   "outputs": [
    {
     "data": {
      "text/plain": [
       "True"
      ]
     },
     "execution_count": 16,
     "metadata": {},
     "output_type": "execute_result"
    }
   ],
   "source": [
    "from abc import ABC\n",
    "class A(ABC):\n",
    "\n",
    "    @classmethod\n",
    "    def __subclasshook__(cls,C):\n",
    "        if any(\"__a__\" in B.__dict__ for B in C.__mro__):\n",
    "            return True\n",
    "        return NotImplemented # 返回NotImplemented,让子类继续查下去\n",
    "    \n",
    "# 必须是大鹅类才能将它注册为虚拟子类\n",
    "@A.register\n",
    "class B:\n",
    "    pass\n",
    "\n",
    "class MyA:\n",
    "    def __a__(self):\n",
    "        ...\n",
    "\n",
    "issubclass(MyA,A)\n",
    "     "
   ]
  },
  {
   "cell_type": "markdown",
   "metadata": {},
   "source": [
    "### 静态协议\n",
    "使用继承typing.Protocol实现静态鸭子类型,可以通过@runtime_checkable装饰器让协议支持在运行时使用isinstance/issubclass检查(背后原因typing.Protocol支持__subclasshook__)\n",
    "\n",
    "> 充分利用鸭子类型\n",
    "> ```\n",
    "> isinstance(o,(complex,SupportsComlex))\n",
    "> isinstance(o,numbers.Complex)\n",
    "> try:\n",
    ">    c=complex(v)\n",
    "> except TypeError as exc\n",
    ">    raise TypeError('')\n",
    "> ```\n",
    "\n",
    "### 运行时协议检查的局限性\n",
    "比如实现__float__方法的类在运行时被认定为SupportFloat的虚拟子类,不管__float__方法返回是一个float值.类似的isinstance或issubclass只检查有没有特点的方法,不检查方法的签名,更不会检查方法的类型注解\n",
    "\n",
    "### 实现一个静态协议\n",
    "创建一个类然后继承typing.Protocol类,添加协议方法"
   ]
  },
  {
   "cell_type": "code",
   "execution_count": 18,
   "metadata": {},
   "outputs": [
    {
     "data": {
      "text/plain": [
       "True"
      ]
     },
     "execution_count": 18,
     "metadata": {},
     "output_type": "execute_result"
    }
   ],
   "source": [
    "from typing import Protocol,runtime_checkable\n",
    "\n",
    "@runtime_checkable # 支持运行时检查,可以使用isinstance,issubclass进行检查\n",
    "class SupportLen(Protocol):\n",
    "    def __len__(self):...\n",
    "\n",
    "arr=[]\n",
    "\n",
    "isinstance(arr,SupportLen)"
   ]
  }
 ],
 "metadata": {
  "kernelspec": {
   "display_name": "base",
   "language": "python",
   "name": "python3"
  },
  "language_info": {
   "codemirror_mode": {
    "name": "ipython",
    "version": 3
   },
   "file_extension": ".py",
   "mimetype": "text/x-python",
   "name": "python",
   "nbconvert_exporter": "python",
   "pygments_lexer": "ipython3",
   "version": "3.11.5"
  }
 },
 "nbformat": 4,
 "nbformat_minor": 2
}
