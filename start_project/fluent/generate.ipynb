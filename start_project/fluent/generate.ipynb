{
 "cells": [
  {
   "cell_type": "markdown",
   "metadata": {},
   "source": [
    "### 序列可迭代的原因\n",
    "需要迭代对象x时,python会自动调用iter(x).内置函数iter执行以下操作\n",
    "1. 检查对象是否实现__iter__方法,如果实现就调用它,获取一个迭代对象\n",
    "2. 如果没有实现__iter__方法,但实现了__getitem__方法,那么iter()创建一个迭代器,尝试从索引为0的获取项\n",
    "3. 如果尝试失败,则python抛出TypeError\n",
    "\n",
    "> 如果对象指实现了__getitem__没实现__iter__,将无法使用isinstance(abc.Iterable,obj)来判断是不是可迭代对象.\n",
    "Iterable实现了__subclasshook__"
   ]
  },
  {
   "cell_type": "code",
   "execution_count": 15,
   "metadata": {},
   "outputs": [
    {
     "name": "stdout",
     "output_type": "stream",
     "text": [
      "0\n",
      "[]\n",
      "False True\n"
     ]
    }
   ],
   "source": [
    "class Spam:\n",
    "    def __getitem__(self,index):\n",
    "        print(index)\n",
    "        raise IndexError()\n",
    "\n",
    "i1=iter(Spam())\n",
    "arr1=list(i1)\n",
    "print(arr1)\n",
    "\n",
    "class IterSpam:\n",
    "    def __iter__(self):\n",
    "        yield 1\n",
    "\n",
    "i2=iter(IterSpam())\n",
    "\n",
    "from collections.abc import Iterable\n",
    "print(isinstance(Spam(),Iterable),isinstance(IterSpam(),Iterable))\n",
    "\n"
   ]
  },
  {
   "cell_type": "markdown",
   "metadata": {},
   "source": [
    "### 使用iter处理可调用对象\n",
    "调用iter()传入两个参数,第一是可调用对象重复调用产生值,第二个哨符,即一种标记值如果可调用对象返回哨符,则迭代器抛出StopIteration"
   ]
  },
  {
   "cell_type": "code",
   "execution_count": 19,
   "metadata": {},
   "outputs": [
    {
     "name": "stdout",
     "output_type": "stream",
     "text": [
      "3\n",
      "1\n",
      "4\n",
      "1\n"
     ]
    },
    {
     "ename": "StopIteration",
     "evalue": "",
     "output_type": "error",
     "traceback": [
      "\u001b[0;31m---------------------------------------------------------------------------\u001b[0m",
      "\u001b[0;31mStopIteration\u001b[0m                             Traceback (most recent call last)",
      "\u001b[1;32m/Users/harden/python/start_project/fluent/generate.ipynb Cell 4\u001b[0m line \u001b[0;36m6\n\u001b[1;32m      <a href='vscode-notebook-cell:/Users/harden/python/start_project/fluent/generate.ipynb#W5sZmlsZQ%3D%3D?line=2'>3</a>\u001b[0m     \u001b[39mreturn\u001b[39;00m random\u001b[39m.\u001b[39mrandint(\u001b[39m1\u001b[39m,\u001b[39m6\u001b[39m)\n\u001b[1;32m      <a href='vscode-notebook-cell:/Users/harden/python/start_project/fluent/generate.ipynb#W5sZmlsZQ%3D%3D?line=4'>5</a>\u001b[0m e6\u001b[39m=\u001b[39m\u001b[39miter\u001b[39m(make,\u001b[39m6\u001b[39m)\n\u001b[0;32m----> <a href='vscode-notebook-cell:/Users/harden/python/start_project/fluent/generate.ipynb#W5sZmlsZQ%3D%3D?line=5'>6</a>\u001b[0m \u001b[39mwhile\u001b[39;00m (i\u001b[39m:=\u001b[39m\u001b[39mnext\u001b[39m(e6)) \u001b[39m!=\u001b[39m\u001b[39m6\u001b[39m:\n\u001b[1;32m      <a href='vscode-notebook-cell:/Users/harden/python/start_project/fluent/generate.ipynb#W5sZmlsZQ%3D%3D?line=6'>7</a>\u001b[0m     \u001b[39mprint\u001b[39m(i)\n",
      "\u001b[0;31mStopIteration\u001b[0m: "
     ]
    }
   ],
   "source": [
    "import random\n",
    "def make():\n",
    "    return random.randint(1,6)\n",
    "\n",
    "e6=iter(make,6)\n",
    "while (i:=next(e6)) !=6:\n",
    "    print(i) \n",
    "     "
   ]
  },
  {
   "cell_type": "markdown",
   "metadata": {},
   "source": [
    "### 可迭代对象与迭代器\n",
    "\n",
    "可迭代对象:使用内置函数iter可以获取迭代器的对象,如果对象实现了能返回迭代器的__iter__方法,那么对象就是可迭代的.实现了__getitem__方法,而且接受从0开始索引,这种对象也是可迭代的\n",
    "\n",
    "> python从迭代对象中获取迭代器\n",
    "\n",
    "python标准中迭代器接口有以下两个方法:\n",
    "- `__next__`:返回序列中的下一项,如果没有项则抛出StopIteration\n",
    "- `__iter__`:返回self,以便在预期可迭代对象的地方使用迭代器\n",
    "\n",
    "**迭代器是一次性的,如果在想迭代必须重构迭代器**"
   ]
  },
  {
   "cell_type": "code",
   "execution_count": 3,
   "metadata": {},
   "outputs": [
    {
     "name": "stdout",
     "output_type": "stream",
     "text": [
      "a\n",
      "b\n",
      "c\n"
     ]
    }
   ],
   "source": [
    "# 经典迭代器\n",
    "\n",
    "class MyIter:\n",
    "    def __init__(self,words):\n",
    "        self.words=words\n",
    "\n",
    "    def __iter__(self):\n",
    "        return IterInstance(self.words)\n",
    "\n",
    "class IterInstance:\n",
    "    def __init__(self,words):\n",
    "        self.words=words\n",
    "        self.index=0\n",
    "        \n",
    "    def __iter__(self):\n",
    "        return self\n",
    "    \n",
    "    def __next__(self):\n",
    "        i=self.index\n",
    "        if self.index==len(self.words):\n",
    "            raise StopIteration()\n",
    "        self.index+=1\n",
    "        return self.words[i]\n",
    "\n",
    "words=['a','b','c']\n",
    "\n",
    "m=MyIter(words)\n",
    "mi=iter(m)\n",
    "for i in mi:\n",
    "    print(i)"
   ]
  },
  {
   "cell_type": "markdown",
   "metadata": {},
   "source": [
    "### 生成器\n",
    "只要python函数的主体中有yield关键字,该函数就是生成器函数.调用生成器函数,返回一个生成器对象.yield可以使用多个,生成器函数创建一个生成器对象,包装生成器函数的主体,把生成器对象传给next()函数时,生成器函数提前执行函数主体的下一个yield,返回产出的值并在函数主体的当前位置暂停,最终函数主体返回时,python创建外层生成器对象抛出StopIteration异常\n",
    "\n",
    "迭代器和生成器对比:\n",
    "- 迭代器:泛指实现`__next__`方法的对象,可通过for循环方式,或者使用next()来驱动迭代器\n",
    "- 生成器:由python编译器构建的迭代器,为了创建生成器不必实现`__next__`方法,而使用yield关键字得到生成器函数"
   ]
  },
  {
   "cell_type": "code",
   "execution_count": 12,
   "metadata": {},
   "outputs": [
    {
     "name": "stdout",
     "output_type": "stream",
     "text": [
      "start..\n",
      "A\n",
      "gen A \n",
      "B\n",
      "gen B \n",
      "start..\n",
      "<class 'generator'>\n",
      "<class 'generator'>\n",
      "0\n",
      "1\n",
      "2\n",
      "3\n",
      "4\n",
      "5\n",
      "6\n",
      "7\n",
      "8\n",
      "9\n",
      "9\n"
     ]
    }
   ],
   "source": [
    "def gen():\n",
    "    print('start..')\n",
    "    yield 'A'\n",
    "    print('gen A ')\n",
    "    yield 'B'\n",
    "    print('gen B ')\n",
    "    print('start..')\n",
    "\n",
    "for c in gen():\n",
    "    print(c)\n",
    "\n",
    "print(type(gen()))\n",
    "arr=(i for i in range(1))\n",
    "print(type(arr))\n",
    "\n",
    "class Arithmetic:\n",
    "    def __init__(self,begin,end,step):\n",
    "        self.begin=begin\n",
    "        self.end=end\n",
    "        self.step=step\n",
    "    \n",
    "    def __iter__(self):\n",
    "        i=self.begin\n",
    "        j=self.end\n",
    "        k=self.step\n",
    "        while i < j:\n",
    "            yield i\n",
    "            i+=k\n",
    "\n",
    "a=Arithmetic(0,10,1)\n",
    "\n",
    "for i in a:\n",
    "    print(i) \n",
    "\n",
    "import itertools\n",
    "# itertools.count(begin,step) 会不停生成\n",
    "for i in itertools.takewhile(lambda val :val < 10,itertools.count(step=1)):\n",
    "    # print(i)\n",
    "    pass\n",
    "\n",
    "        "
   ]
  },
  {
   "cell_type": "markdown",
   "metadata": {},
   "source": [
    "### itertools标准库的生成器函数"
   ]
  },
  {
   "cell_type": "code",
   "execution_count": null,
   "metadata": {},
   "outputs": [],
   "source": []
  },
  {
   "cell_type": "markdown",
   "metadata": {},
   "source": [
    "### yield from从子生产器中产出\n",
    "yiled from 把一个生成器的工作委托给一个子生成器"
   ]
  },
  {
   "cell_type": "code",
   "execution_count": null,
   "metadata": {},
   "outputs": [],
   "source": [
    "def gen():\n",
    "    yield 'start'\n",
    "    yield from sub_gen()\n",
    "    yield 'end'\n",
    "\n",
    "def sub_gen():\n",
    "    for i in range(10):\n",
    "        yield i\n",
    "\n",
    "for v in gen():\n",
    "    print(v)\n",
    "\n",
    "\n",
    "def chain(*iterables):\n",
    "    for iter in iterables:\n",
    "        yield from iter\n",
    "a=[0,1,2,3]\n",
    "b=[6,7,8]\n",
    "\n",
    "for i in chain(a,b):\n",
    "    print(i)\n"
   ]
  },
  {
   "cell_type": "markdown",
   "metadata": {},
   "source": [
    "### 泛化可迭代类型\n",
    "可迭代对象的泛化参数collections.abc.Iterable\n",
    "\n",
    "> Iterator类型用于yield关键字和__next__方法的迭代类,这个很少在用,还有一个collections.abc.Generator"
   ]
  },
  {
   "cell_type": "code",
   "execution_count": 17,
   "metadata": {},
   "outputs": [
    {
     "data": {
      "text/plain": [
       "1"
      ]
     },
     "execution_count": 17,
     "metadata": {},
     "output_type": "execute_result"
    }
   ],
   "source": [
    "from collections.abc import Iterable\n",
    "\n",
    "from typing import TypeAlias\n",
    "\n",
    "From:TypeAlias=[str,str]\n",
    "\n",
    "def zip(elements:[str])->Iterable[From]:\n",
    "    pass\n",
    "\n",
    "\n"
   ]
  },
  {
   "cell_type": "markdown",
   "metadata": {},
   "source": [
    "### 协程\n",
    "协程就是生成器函数,通过主体中含有yield关键字函数创建.协程对象就是生成器对象.在使用协程时必须先出示,可以使用next或gen.send(None)这个过程叫'预激携程'.激活后协程停在yield处,等待发送值到来然后在赋值给yield等号的变量\n",
    "\n",
    "停止协程直接调用close方法,调用close方法后的协程,再调用send就会抛出StopInteration.close方法在暂停的yield处抛出GeneratorExit,如果协程函数没有处理则该异常终止协程,而GeneratorExit被包装协程的生成器对象捕获\n",
    "\n",
    "> collections.abc.Generator[YieldType,SendType,ReturnType]"
   ]
  },
  {
   "cell_type": "code",
   "execution_count": 10,
   "metadata": {},
   "outputs": [
    {
     "name": "stdout",
     "output_type": "stream",
     "text": [
      "2 0.0 0\n",
      "2 2.0 1\n",
      "5 4.0 2\n",
      "2.0 2.0 3.0\n",
      "Result(count=3.0, average=2)\n"
     ]
    }
   ],
   "source": [
    "def avg():\n",
    "    val=0.\n",
    "    count=0\n",
    "    result=0.\n",
    "    while True:\n",
    "        receive=yield result # 如果这里有接收值不能调用next来驱动协程[这里]\n",
    "        print(receive,val,count)\n",
    "        val+=receive\n",
    "        count+=1\n",
    "        result=val/count\n",
    "\n",
    "a=avg() \n",
    "# 预启动 执行到第一个yield\n",
    "next(a)       \n",
    "\n",
    "i1=a.send(2)\n",
    "i2=a.send(2)\n",
    "i3=a.send(5)\n",
    "print(i1,i2,i3)\n",
    "\n",
    "# 带有返回值\n",
    "from typing import NamedTuple\n",
    "class Result(NamedTuple):\n",
    "    count:int\n",
    "    average:float\n",
    "\n",
    "class Sentinel:\n",
    "    def __repr__(self) -> str:\n",
    "        return f'<Sentinel>'\n",
    "\n",
    "from typing import Union\n",
    "from collections.abc import Generator\n",
    "STOP=Sentinel()\n",
    "\n",
    "SendType=Union[float,Sentinel]\n",
    "\n",
    "# 带有返回值的协程,如果通过close来关闭协程,它直接在yield出抛出GeneratorExit异常不执行result\n",
    "def avg2()->Generator[None,SendType,Result]:\n",
    "    val=0.\n",
    "    count=0\n",
    "    result=0.\n",
    "    while True:\n",
    "        receive=yield \n",
    "        if isinstance(receive,Sentinel):\n",
    "            break\n",
    "        val+=receive\n",
    "        count+=1\n",
    "        result=val/count\n",
    "    return Result(result,count) \n",
    "a2=avg2()\n",
    "a2.send(None)\n",
    "\n",
    "a2.send(4)\n",
    "a2.send(2)\n",
    "try:\n",
    "    a2.send(STOP) # 跳出异常协程包装器将抛出StopIteration异常\n",
    "except StopIteration as ex:\n",
    "    print(ex.value) # 通过获取StopIteration的value值来获结果\n"
   ]
  }
 ],
 "metadata": {
  "kernelspec": {
   "display_name": "base",
   "language": "python",
   "name": "python3"
  },
  "language_info": {
   "codemirror_mode": {
    "name": "ipython",
    "version": 3
   },
   "file_extension": ".py",
   "mimetype": "text/x-python",
   "name": "python",
   "nbconvert_exporter": "python",
   "pygments_lexer": "ipython3",
   "version": "3.11.5"
  }
 },
 "nbformat": 4,
 "nbformat_minor": 2
}
