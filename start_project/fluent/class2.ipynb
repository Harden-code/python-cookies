{
 "cells": [
  {
   "cell_type": "markdown",
   "metadata": {},
   "source": [
    "### 序列特殊方法\n",
    "在python中创建完善的序列类型不需要使用继承,只用实现符合序列协议的方法即可,只需要实现`__len__`和`__getitem__`;支持切片的操作当调用arr[1:2]时,会传递一个slice对象给`__getitem__`函数,slice是一个内置函数,它里面有三个属性start,stop,step这个三个属性,还有个indices方法返回这个三个属性indices->(start,stop,step)\n",
    "\n",
    "### 动态获取属性\n",
    "属性查找路径,my.x会先检查实例有没有x属性,如果没有就在my.__class__里找,如果还没有继续向上查找,再找不到就调用定义的__getattr__方法,(__setattr__大多数情况配套使用)"
   ]
  },
  {
   "cell_type": "code",
   "execution_count": 25,
   "metadata": {},
   "outputs": [
    {
     "name": "stdout",
     "output_type": "stream",
     "text": [
      "array('b', [1, 2, 3, 5, 6, ...])\n",
      "b'd\\x00\\x00\\x00\\x00\\x00\\x00\\xf0?\\x00\\x00\\x00\\x00\\x00\\x00\\x00@\\x00\\x00\\x00\\x00\\x00\\x00\\x08@'\n",
      "2\n",
      "3 3.0\n",
      "slice(1, 2, None)\n"
     ]
    },
    {
     "data": {
      "text/plain": [
       "True"
      ]
     },
     "execution_count": 25,
     "metadata": {},
     "output_type": "execute_result"
    }
   ],
   "source": [
    "import reprlib # reprlib省略过多的数据\n",
    "from array import array\n",
    "import functools\n",
    "from operator import xor\n",
    "\n",
    "arr=array('b',[1,2,3,5,6,6])\n",
    "a=reprlib.repr(arr)\n",
    "print(a)\n",
    "class Vector:\n",
    "    typecode='d'    \n",
    "    def __init__(self,components):\n",
    "        # self._components=array('d',components)\n",
    "        self._components=array('d',components)\n",
    "\n",
    "    def __iter__(self):\n",
    "        return iter(self._components)\n",
    "\n",
    "    def __repr__(self):\n",
    "        return reprlib.repr(self._components) \n",
    "\n",
    "    def __bytes__(self):\n",
    "        return bytes([ord(Vector.typecode)])+bytes(self._components)\n",
    "    \n",
    "    def __len__(self):\n",
    "        return len(self._components)\n",
    "\n",
    "    def __getitem__(self,index):\n",
    "        print(index)\n",
    "        return self._components[index]\n",
    "    \n",
    "    def __eq__(self,other):\n",
    "        if len(self) !=len(other):\n",
    "            return False\n",
    "\n",
    "        for o1,o2 in zip(self,other):\n",
    "            if o1!=o2:\n",
    "                return False\n",
    "        # len(self)==len(other) and any((v1==v2 for v1,v2 in zip(self,other)))\n",
    "        return True\n",
    "    \n",
    "    def __hash__(self):\n",
    "        hashs=(hash(x) for x in self._components)\n",
    "        return functools.reduce(xor,self,0 )#防止为空的初始值\n",
    "        \n",
    "\n",
    "    @classmethod\n",
    "    def from_vector(cls,arr):\n",
    "        bytecode=chr(arr[0])\n",
    "        memv=memoryview(arr[1:]).cast(bytecode)\n",
    "        return cls(memv)\n",
    "\n",
    "v=Vector((1,2,3))\n",
    "print(bytes(v))\n",
    "b=bytes(v)\n",
    "\n",
    "v2=Vector.from_vector(b)\n",
    "print(len(v2),v2[2])\n",
    "\n",
    "v2[1:2]\n",
    "\n",
    "v==v2"
   ]
  }
 ],
 "metadata": {
  "kernelspec": {
   "display_name": "base",
   "language": "python",
   "name": "python3"
  },
  "language_info": {
   "codemirror_mode": {
    "name": "ipython",
    "version": 3
   },
   "file_extension": ".py",
   "mimetype": "text/x-python",
   "name": "python",
   "nbconvert_exporter": "python",
   "pygments_lexer": "ipython3",
   "version": "3.11.5"
  }
 },
 "nbformat": 4,
 "nbformat_minor": 2
}
