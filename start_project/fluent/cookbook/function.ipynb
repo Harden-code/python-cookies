{
 "cells": [
  {
   "cell_type": "markdown",
   "metadata": {},
   "source": [
    "### 接受任意参数函数\n",
    "注意,一个*参数只能出现在函数定义中最后一个位置,**参数只能出现在最后一个参数.*参数前也可以定义其他参数.单个/表示/前面的为位置参数,单个*表示后面为字典参数"
   ]
  },
  {
   "cell_type": "code",
   "execution_count": 8,
   "metadata": {},
   "outputs": [
    {
     "name": "stdout",
     "output_type": "stream",
     "text": [
      "<class 'tuple'> <class 'dict'>\n"
     ]
    }
   ],
   "source": [
    "def func_a(x,/,**kargs):\n",
    "    pass\n",
    "\n",
    "# key在*后面表示只接受,关键字参数\n",
    "def func_b(x,*,key):\n",
    "    pass\n",
    "\n",
    "# func_a(x=1,**{'1':2}) required positional argument\n",
    "func_b(1,key=2)\n",
    "\n",
    "def func_c(*arg,**kargs):\n",
    "    print(type(arg),type(kargs))\n",
    "\n",
    "func_c()"
   ]
  },
  {
   "cell_type": "markdown",
   "metadata": {},
   "source": [
    "### 返回多个值的函数"
   ]
  },
  {
   "cell_type": "code",
   "execution_count": null,
   "metadata": {},
   "outputs": [],
   "source": [
    "# 返回是一个元组\n",
    "def func():\n",
    "    return 1,2,3"
   ]
  },
  {
   "cell_type": "markdown",
   "metadata": {},
   "source": [
    "### 定义匿名函数\n",
    "使用lambda定义简单的匿名函数,lambda使用有限制,只能指定单个表达式,不能包含其他语言特性(if..else..;while)"
   ]
  },
  {
   "cell_type": "code",
   "execution_count": 9,
   "metadata": {},
   "outputs": [],
   "source": [
    "strings=['123','1','2345']\n",
    "# sored 非原地会返回一个新的排序的数组\n",
    "new=sorted(strings,key=lambda x:len(x))"
   ]
  },
  {
   "cell_type": "markdown",
   "metadata": {},
   "source": [
    "### 匿名函数在定义时捕获到值"
   ]
  },
  {
   "cell_type": "code",
   "execution_count": 12,
   "metadata": {},
   "outputs": [
    {
     "name": "stdout",
     "output_type": "stream",
     "text": [
      "30\n",
      "30\n",
      "4\n",
      "4\n",
      "4\n",
      "4\n",
      "4\n"
     ]
    }
   ],
   "source": [
    "x=10\n",
    "func=lambda y:x+y\n",
    "func_=lambda y,x=x:x+y\n",
    "x=20\n",
    "funb=lambda y:x+y\n",
    "print(func(10)) # 30 \n",
    "print(funb(10)) # 30\n",
    "# x是自由变量,在运行才进行绑定.要想使用必须定义成默认参数\n",
    "\n",
    "funcs=[lambda n:n+i for i in range(5)]\n",
    "# i是存放的最后一个值\n",
    "for fun in funcs:\n",
    "    print(fun(0))"
   ]
  },
  {
   "cell_type": "markdown",
   "metadata": {},
   "source": [
    "### 减少调用对象参数个数\n",
    "functools.partial()\n",
    "> partial 不完整"
   ]
  },
  {
   "cell_type": "code",
   "execution_count": 2,
   "metadata": {},
   "outputs": [
    {
     "name": "stdout",
     "output_type": "stream",
     "text": [
      "1 2 3 4 1\n"
     ]
    }
   ],
   "source": [
    "from functools import partial\n",
    "\n",
    "def many(a,b,c,d,e):\n",
    "    print(a,b,c,d,e)\n",
    "\n",
    "one = partial(many,1,2,3,4)\n",
    "\n",
    "one(1)"
   ]
  },
  {
   "cell_type": "markdown",
   "metadata": {},
   "source": [
    "### 带额外状态信息的回调函数\n",
    "- 使用一个ResultHandler类\n",
    "- 使用必包捕获状态\n",
    "- 使用携程的send"
   ]
  },
  {
   "cell_type": "code",
   "execution_count": 19,
   "metadata": {},
   "outputs": [
    {
     "name": "stdout",
     "output_type": "stream",
     "text": [
      "3\n",
      "[2] 4\n",
      "[2] 4\n"
     ]
    }
   ],
   "source": [
    "def apply_async(func,args,*,callback):\n",
    "    result=func(*args)\n",
    "    callback(result)\n",
    "\n",
    "def print_result(args):\n",
    "    print(f'{args}')\n",
    "\n",
    "def add(x,y):\n",
    "    return x+y\n",
    "\n",
    "\n",
    "apply_async(add,(1,2),callback=print_result)\n",
    "\n",
    "# 使用类来扩展信息\n",
    "class ResultHandler:\n",
    "    def __init__(self,i) -> None:\n",
    "        self.i=i\n",
    "    \n",
    "    def handler(self,result):\n",
    "        self.i+=1\n",
    "        print(f'[{self.i}] {result}')\n",
    "handler=ResultHandler(1)\n",
    "apply_async(add,(2,2),callback=handler.handler)\n",
    "\n",
    "# 使用必包来扩展信息\n",
    "def make_handler():\n",
    "    i=1\n",
    "    def wrapper(args):\n",
    "       nonlocal i\n",
    "       i+=1\n",
    "       print(f'[{i}] {args}') \n",
    "\n",
    "    return wrapper\n",
    "\n",
    "apply_async(add,(2,2),callback=make_handler())\n",
    "\n",
    "#todo 使用协程"
   ]
  },
  {
   "cell_type": "markdown",
   "metadata": {},
   "source": [
    "### 利用必包将单个类转换为函数"
   ]
  },
  {
   "cell_type": "code",
   "execution_count": null,
   "metadata": {},
   "outputs": [],
   "source": [
    "from urllib.request import urlopen\n",
    "\n",
    "class UrlTemplate:\n",
    "    def __init__(self,template):\n",
    "        self.template=template\n",
    "    \n",
    "    def open(self,**kargs):\n",
    "        return urlopen(self.template.format_map(kargs))\n",
    "\n",
    "baidu=UrlTemplate('www.baidu.com?s={name}')\n",
    "baidu.open(name='name')\n",
    "\n",
    "def open(template):\n",
    "    def wrapper(**kargs):\n",
    "        return urlopen(template.format_map(kargs))\n",
    "    return wrapper"
   ]
  },
  {
   "cell_type": "markdown",
   "metadata": {},
   "source": [
    "### 访问闭包中定义的变量\n",
    "通过在闭包定义get,set方法然后再把这个方法,赋值到返回的functon对象上"
   ]
  },
  {
   "cell_type": "code",
   "execution_count": 3,
   "metadata": {},
   "outputs": [
    {
     "name": "stdout",
     "output_type": "stream",
     "text": [
      "1\n",
      "2\n"
     ]
    }
   ],
   "source": [
    "def simple():\n",
    "    i=0\n",
    "    def wrapper():\n",
    "        nonlocal i\n",
    "        i+=1\n",
    "        print(i)\n",
    "\n",
    "    def set_i(value):\n",
    "        nonlocal i\n",
    "        i=value\n",
    "\n",
    "    def get_i():\n",
    "        nonlocal i\n",
    "        return i\n",
    "\n",
    "    wrapper.get_i=get_i\n",
    "    wrapper.set_i=set_i\n",
    "    return wrapper\n",
    "    \n",
    "func=simple()\n",
    "func()\n",
    "\n",
    "func.set_i(2)\n",
    "print(func.get_i())\n"
   ]
  },
  {
   "cell_type": "code",
   "execution_count": 21,
   "metadata": {},
   "outputs": [
    {
     "data": {
      "text/plain": [
       "1"
      ]
     },
     "execution_count": 21,
     "metadata": {},
     "output_type": "execute_result"
    }
   ],
   "source": [
    "#  利用sys._getframe(1).f_locals() 获取上一个栈中的方法\n",
    "import sys\n",
    "\n",
    "class ClosureInstance:\n",
    "    def __init__(self,local=None):\n",
    "        if not local:\n",
    "            local=sys._getframe(1).f_locals #dic\n",
    "            # update dict\n",
    "        self.__dict__.update((key,val)for key,val in local.items() if callable(val))\n",
    "\n",
    "\n",
    "    \n",
    "    def __len__(self):\n",
    "        return self.__dict__['__len__']\n",
    "    \n",
    "\n",
    "def func():\n",
    "    items=[]\n",
    "    def push(item):\n",
    "        items.append(item)\n",
    "    \n",
    "    def pop():\n",
    "        return items.pop()\n",
    "    \n",
    "    return ClosureInstance()\n",
    "\n",
    "stack=func()\n",
    "\n",
    "stack.push(1)\n",
    "stack.pop()"
   ]
  },
  {
   "cell_type": "code",
   "execution_count": null,
   "metadata": {},
   "outputs": [],
   "source": []
  }
 ],
 "metadata": {
  "kernelspec": {
   "display_name": "base",
   "language": "python",
   "name": "python3"
  },
  "language_info": {
   "codemirror_mode": {
    "name": "ipython",
    "version": 3
   },
   "file_extension": ".py",
   "mimetype": "text/x-python",
   "name": "python",
   "nbconvert_exporter": "python",
   "pygments_lexer": "ipython3",
   "version": "3.11.5"
  }
 },
 "nbformat": 4,
 "nbformat_minor": 2
}
