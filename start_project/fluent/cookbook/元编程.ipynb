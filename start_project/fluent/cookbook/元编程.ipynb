{
 "cells": [
  {
   "cell_type": "markdown",
   "metadata": {},
   "source": [
    "### 在函数上添加包装器\n",
    "在包导入的时候装饰器就会执行.原来的函数命名会存储被装饰的函数func=wrapper(func)\n",
    "\n",
    "### 创建装饰器时保留函数元信息\n",
    "利用functools.wrap装饰器来注解底层包装函数\n",
    "\n",
    "> @wrap还有一个重要特征可以通过__wrapped__直接访问被包装的函数.它还可以被装饰函数正确暴露底层的参数签名信息"
   ]
  },
  {
   "cell_type": "code",
   "execution_count": 11,
   "metadata": {},
   "outputs": [
    {
     "name": "stdout",
     "output_type": "stream",
     "text": [
      "exec  2.1457672119140625e-06\n",
      "<function countdown at 0x103bdfe20>\n",
      "(n)\n"
     ]
    }
   ],
   "source": [
    "from functools import wraps\n",
    "import time\n",
    "def timeit_func(func):\n",
    "\n",
    "    @wraps(func) # 保留原函数信息\n",
    "    def inner(*args,**kwargs): # 强调装饰器不会修改原始函数签名和返回值\n",
    "        start=time.time()\n",
    "        ret=func(*args,**kwargs)\n",
    "        print('exec ',time.time()-start)\n",
    "        return ret\n",
    "    return inner\n",
    "\n",
    "@timeit_func\n",
    "def countdown(n):\n",
    "    while n >0:\n",
    "        n-=1\n",
    "    \n",
    "countdown(10)\n",
    "\n",
    "print(countdown.__wrapped__)\n",
    "from inspect import signature\n",
    "print(signature(countdown)) # 暴露签名信息"
   ]
  },
  {
   "cell_type": "markdown",
   "metadata": {},
   "source": [
    "### 解除一个装饰器\n",
    "假设装饰器通过wrap来实现的,可以通过访问__wrapped__属性来访问原始函数\n",
    "\n",
    "> 如果有多个装饰器,采用__wrapped__属性行为可能不可预知\n",
    "\n",
    "### 带参数装饰器\n",
    "9.4,9.5"
   ]
  },
  {
   "cell_type": "code",
   "execution_count": 17,
   "metadata": {},
   "outputs": [
    {
     "name": "stdout",
     "output_type": "stream",
     "text": [
      "decorator1\n"
     ]
    }
   ],
   "source": [
    "from functools import wraps\n",
    "\n",
    "def decorator1(func):\n",
    "    @wraps(func)\n",
    "    def wrapper(*args,**kwargs):\n",
    "        func(*args,**kwargs)\n",
    "        print('decorator1')\n",
    "    return wrapper\n",
    "\n",
    "def decorator2(func):\n",
    "    @wraps(func)\n",
    "    def wrapper(*args,**kwargs):\n",
    "        func(*args,**kwargs)\n",
    "        print('decorator2')\n",
    "    return wrapper\n",
    "\n",
    "@decorator2\n",
    "@decorator1\n",
    "def foo():\n",
    "    ...\n",
    "\n",
    "foo.__wrapped__()"
   ]
  },
  {
   "cell_type": "markdown",
   "metadata": {},
   "source": [
    "### 可选参数装饰器\n",
    "在装饰器上加了参数要注意其写法.必须在装饰器后加括号.\n",
    "```python\n",
    "    @logger(level=INFO) \n",
    "    def func():\n",
    "        ...\n",
    "    \n",
    "    # 等价于\n",
    "    func=logger(level)(func)\n",
    "```"
   ]
  },
  {
   "cell_type": "markdown",
   "metadata": {},
   "source": [
    "### 利用装饰器强制函数上的类型检查"
   ]
  },
  {
   "cell_type": "code",
   "execution_count": 19,
   "metadata": {},
   "outputs": [
    {
     "name": "stdout",
     "output_type": "stream",
     "text": [
      "{'x': <class 'int'>, 'y': <class 'int'>}\n"
     ]
    },
    {
     "data": {
      "text/plain": [
       "3"
      ]
     },
     "execution_count": 19,
     "metadata": {},
     "output_type": "execute_result"
    }
   ],
   "source": [
    "from inspect import signature\n",
    "def type_check(*ty_args,**k_ty_args):\n",
    "    def decorator(func):\n",
    "       sig=signature(func)\n",
    "       # 获取argument类型\n",
    "       bound_type=sig.bind_partial(*ty_args,**k_ty_args).arguments\n",
    "       @wraps(func)\n",
    "       def wrapper(*args,**kwargs):\n",
    "            bound_value=sig.bind(*args,**kwargs)\n",
    "            for name,value in bound_value.arguments.items():\n",
    "                if  name in bound_type:\n",
    "                    if not isinstance(value,bound_type[name]):\n",
    "                        raise TypeError('type must be',bound_type)\n",
    "            return func(*args,**kwargs)\n",
    "       return wrapper\n",
    "    return decorator\n",
    "\n",
    "@type_check(int,int)\n",
    "def add(x,y):\n",
    "    return x+y\n",
    "\n",
    "add(1,2)"
   ]
  },
  {
   "cell_type": "markdown",
   "metadata": {},
   "source": [
    "### 将装饰器定义为类的部分\n",
    "类上的装饰器看上去很奇怪,但是在标准库上却有很多比如@property装饰器"
   ]
  },
  {
   "cell_type": "code",
   "execution_count": 24,
   "metadata": {},
   "outputs": [
    {
     "name": "stdout",
     "output_type": "stream",
     "text": [
      "static...\n",
      "instance...\n"
     ]
    }
   ],
   "source": [
    "class A:\n",
    "\n",
    "    def instance_wrapper(self,func):\n",
    "        def wrapper(*args,**kwargs):\n",
    "            print('instance...')\n",
    "            return func(*args,**kwargs)\n",
    "        return wrapper\n",
    "\n",
    "    @classmethod\n",
    "    def static_wrapper(cls,func):\n",
    "        def wrapper(*args,**kwargs):\n",
    "            print('static...')\n",
    "            return func(*args,**kwargs)\n",
    "        return wrapper\n",
    "  \n",
    "@A.static_wrapper\n",
    "def foo():\n",
    "    ...\n",
    "a=A()\n",
    "foo()\n",
    "\n",
    "@a.instance_wrapper\n",
    "def foo():\n",
    "    ...\n",
    "foo()"
   ]
  },
  {
   "cell_type": "markdown",
   "metadata": {},
   "source": [
    "### 将装饰器定义为类\n"
   ]
  }
 ],
 "metadata": {
  "kernelspec": {
   "display_name": "base",
   "language": "python",
   "name": "python3"
  },
  "language_info": {
   "codemirror_mode": {
    "name": "ipython",
    "version": 3
   },
   "file_extension": ".py",
   "mimetype": "text/x-python",
   "name": "python",
   "nbconvert_exporter": "python",
   "pygments_lexer": "ipython3",
   "version": "3.11.5"
  }
 },
 "nbformat": 4,
 "nbformat_minor": 2
}
