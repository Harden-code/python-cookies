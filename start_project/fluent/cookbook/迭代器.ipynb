{
 "cells": [
  {
   "cell_type": "code",
   "execution_count": null,
   "metadata": {},
   "outputs": [],
   "source": [
    "# 迭代器原理\n",
    "with open('/etc/passwd', 'r') as fd:\n",
    "    while 1:\n",
    "        try:\n",
    "            line = next(fd)\n",
    "            # print(line)\n",
    "        except StopIteration:\n",
    "            break\n",
    "\n",
    "num = [1, 2, 3]\n",
    "it = iter(num)  # 变成迭代器\n",
    "next(it)\n",
    "next(it)\n",
    "next(it)\n",
    "next(it)  # 抛出StopIteration表示遍历结束"
   ]
  },
  {
   "cell_type": "code",
   "execution_count": 8,
   "metadata": {},
   "outputs": [
    {
     "name": "stdout",
     "output_type": "stream",
     "text": [
      "1\n",
      "2\n",
      "3\n"
     ]
    }
   ],
   "source": [
    "# 迭代器实现\n",
    "\n",
    "class Node:\n",
    "\n",
    "    def __init__(self) -> None:\n",
    "        self._arr = []\n",
    "\n",
    "    def add(self, *val) -> None:\n",
    "        self._arr.extend(val)\n",
    "\n",
    "    def __iter__(self):\n",
    "        '''\n",
    "            返回一个实现__next__方法的迭代器对象\n",
    "        '''\n",
    "        return iter(self._arr)\n",
    "\n",
    "\n",
    "n = Node()\n",
    "n.add(1)\n",
    "n.add(2, 3)\n",
    "for i in n:\n",
    "    print(i)"
   ]
  },
  {
   "cell_type": "code",
   "execution_count": 2,
   "metadata": {},
   "outputs": [
    {
     "name": "stdout",
     "output_type": "stream",
     "text": [
      "1\n",
      "2\n"
     ]
    }
   ],
   "source": [
    "# 用生成器生成迭代模型\n",
    "# 生成器函数调用只会返回一个生成器,它只能用来遍历\n",
    "\n",
    "def range_num(start, end, step=1):\n",
    "    while start < end:\n",
    "        yield start\n",
    "        start += step\n",
    "\n",
    "\n",
    "for i in range_num(1, 3):\n",
    "    print(i)"
   ]
  },
  {
   "cell_type": "code",
   "execution_count": 4,
   "metadata": {},
   "outputs": [
    {
     "name": "stdout",
     "output_type": "stream",
     "text": [
      "<class 'map'>\n",
      "2\n",
      "1\n",
      "0\n"
     ]
    }
   ],
   "source": [
    "# reserved方法反向迭代,只有__reserve__方法的类可使用\n",
    "num = [i for i in range(3)]\n",
    "\n",
    "m = map(lambda a: print(a), reversed(num))"
   ]
  },
  {
   "cell_type": "code",
   "execution_count": null,
   "metadata": {},
   "outputs": [],
   "source": [
    "# 带有外部状态的迭代器\n",
    "import os\n",
    "from collections import deque\n",
    "\n",
    "\n",
    "class LineHistory:\n",
    "    def __init__(self, data):\n",
    "        self.history = deque(maxlen=4)\n",
    "        self.data = data\n",
    "\n",
    "    def __iter__(self):\n",
    "        for i in self.data:\n",
    "            yield i\n",
    "            self.history.append(i)\n",
    "\n",
    "\n",
    "paths = os.listdir('/')\n",
    "\n",
    "his = LineHistory(paths)\n",
    "items = iter(his)\n",
    "\n",
    "for i in items:\n",
    "    print(i)\n",
    "\n",
    "\n",
    "print(his.history)"
   ]
  },
  {
   "cell_type": "code",
   "execution_count": 7,
   "metadata": {},
   "outputs": [
    {
     "name": "stdout",
     "output_type": "stream",
     "text": [
      "5\n",
      "6\n",
      "7\n"
     ]
    }
   ],
   "source": [
    "# 生成器切片器\n",
    "import itertools\n",
    "\n",
    "num = (i for i in range(10))\n",
    "\n",
    "for i in itertools.islice(num, 5, 8):\n",
    "    print(i)"
   ]
  },
  {
   "cell_type": "code",
   "execution_count": null,
   "metadata": {},
   "outputs": [],
   "source": [
    "# 生成器跳过开头\n",
    "import itertools\n",
    "with open('/etc/passwd') as fd:\n",
    "    for line in itertools.dropwhile(lambda i: i.startswith('#'), fd):\n",
    "        print(line)"
   ]
  },
  {
   "cell_type": "code",
   "execution_count": 11,
   "metadata": {},
   "outputs": [
    {
     "name": "stdout",
     "output_type": "stream",
     "text": [
      "('a', 'b')\n",
      "('a', 'c')\n",
      "('b', 'a')\n",
      "('b', 'c')\n",
      "('c', 'a')\n",
      "('c', 'b')\n"
     ]
    }
   ],
   "source": [
    "# 排列组合\n",
    "import itertools\n",
    "arr=['a','b','c']\n",
    "# itertools.combinations\n",
    "for i in itertools.permutations(arr,2):\n",
    "    print(i)"
   ]
  },
  {
   "cell_type": "code",
   "execution_count": 13,
   "metadata": {},
   "outputs": [
    {
     "name": "stdout",
     "output_type": "stream",
     "text": [
      "1 a\n",
      "2 b\n",
      "1 a\n",
      "2 b\n",
      "3 None\n"
     ]
    }
   ],
   "source": [
    "# 合并迭代\n",
    "\n",
    "idx=[1,2,3]\n",
    "arr=['a','b']\n",
    "\n",
    "for i,j in zip(idx,arr):\n",
    "    print(i,j)\n",
    "\n",
    "import itertools \n",
    "for i,j in itertools.zip_longest(idx,arr):\n",
    "    print(i,j)"
   ]
  },
  {
   "cell_type": "code",
   "execution_count": 14,
   "metadata": {},
   "outputs": [
    {
     "name": "stdout",
     "output_type": "stream",
     "text": [
      "1\n",
      "2\n",
      "3\n",
      "a\n",
      "b\n"
     ]
    }
   ],
   "source": [
    "# 合并其他集合迭代\n",
    "import itertools\n",
    "\n",
    "for i in itertools.chain(idx,arr):\n",
    "    print(i)"
   ]
  },
  {
   "cell_type": "code",
   "execution_count": 19,
   "metadata": {},
   "outputs": [
    {
     "data": {
      "text/plain": [
       "[1, 2, 3, 4, 5, 6]"
      ]
     },
     "execution_count": 19,
     "metadata": {},
     "output_type": "execute_result"
    }
   ],
   "source": [
    "# 展开生成器\n",
    "arr=[1,2,[3,4],[[5],[6]]]\n",
    "from typing import Iterable\n",
    "def flatten(arr):\n",
    "    for i in arr:\n",
    "     if isinstance(i,Iterable):\n",
    "         yield from flatten(i)\n",
    "     else:\n",
    "         yield i\n",
    "\n",
    "[i for i in flatten(arr)]\n",
    "    "
   ]
  },
  {
   "cell_type": "code",
   "execution_count": 17,
   "metadata": {},
   "outputs": [
    {
     "data": {
      "text/plain": [
       "[1, 3, 4, 9, 7]"
      ]
     },
     "execution_count": 17,
     "metadata": {},
     "output_type": "execute_result"
    }
   ],
   "source": [
    "# 合并迭代器,并且有序\n",
    "import heapq\n",
    "\n",
    "a=[1,3,4]\n",
    "b=[9,7]\n",
    "\n",
    "merge=heapq.merge(a,b)\n",
    "[i for i in merge]"
   ]
  }
 ],
 "metadata": {
  "kernelspec": {
   "display_name": "base",
   "language": "python",
   "name": "python3"
  },
  "language_info": {
   "codemirror_mode": {
    "name": "ipython",
    "version": 3
   },
   "file_extension": ".py",
   "mimetype": "text/x-python",
   "name": "python",
   "nbconvert_exporter": "python",
   "pygments_lexer": "ipython3",
   "version": "3.11.5"
  }
 },
 "nbformat": 4,
 "nbformat_minor": 2
}
