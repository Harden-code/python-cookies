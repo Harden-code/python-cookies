{
 "cells": [
  {
   "cell_type": "markdown",
   "metadata": {},
   "source": [
    "### 启动与停止线程\n",
    "threading库可以在单独的线程中执行任何在python中可以调用的对象,创建一个Thread对象传递可调用对象.通过start,join来控制线程\n",
    "\n",
    "> 由于全局解释锁(GIL)的原因,Python的线程被限制到同一时刻只允许一个线程执行,如果想要利用多核推荐使用multiprocessing或concurrent.futures.ProcessPoolExecutor.想要同时运行多个I/O这个模型是可以的"
   ]
  },
  {
   "cell_type": "code",
   "execution_count": 6,
   "metadata": {},
   "outputs": [
    {
     "name": "stdout",
     "output_type": "stream",
     "text": [
      "\\,|,/,\\,|,/,\\,|,/,\\,join end\n",
      "7\n"
     ]
    },
    {
     "data": {
      "text/plain": [
       "<_MainThread(MainThread, started 8623595008)>"
      ]
     },
     "execution_count": 6,
     "metadata": {},
     "output_type": "execute_result"
    }
   ],
   "source": [
    "from itertools import cycle\n",
    "import time \n",
    "from threading import Thread\n",
    "import threading\n",
    "def spin(i):\n",
    "    for s in cycle(['\\\\','|','/']):\n",
    "        print(s)   \n",
    "        # time.sleep(1)     \n",
    "        i-=1\n",
    "        if not i:\n",
    "            break\n",
    "# spin(10)\n",
    "\n",
    "t1=Thread(target=spin,args=[10])\n",
    "t1.start()\n",
    "t1.join()\n",
    "print('join end')\n",
    "# 获取当线程个数\n",
    "print(threading.active_count())\n",
    "# \n",
    "threading.current_thread()"
   ]
  },
  {
   "cell_type": "markdown",
   "metadata": {},
   "source": [
    "### 判断线程是否已启动\n",
    "使用threading库下的Event对象,Event对象包含一个可由线程设置的信号标志,它运行线程等待某些事件发,在初始情况下,event对象中标志为假,为假这个线程将会被一直等待,直到为true\n",
    "\n",
    "> event对象最好单独使用,尽管可以用clear()来清楚"
   ]
  },
  {
   "cell_type": "code",
   "execution_count": 8,
   "metadata": {},
   "outputs": [
    {
     "name": "stdout",
     "output_type": "stream",
     "text": [
      "start...\n",
      "5\n",
      "t start...\n"
     ]
    },
    {
     "data": {
      "text/plain": [
       "True"
      ]
     },
     "execution_count": 8,
     "metadata": {},
     "output_type": "execute_result"
    },
    {
     "name": "stdout",
     "output_type": "stream",
     "text": [
      "4\n",
      "3\n",
      "2\n",
      "1\n"
     ]
    }
   ],
   "source": [
    "from threading import *\n",
    "\n",
    "ev=Event()\n",
    "\n",
    "def print_msg(ev,t):\n",
    "    print('msg start...')\n",
    "    ev.set()\n",
    "    while t:\n",
    "        print(t)\n",
    "        import time\n",
    "        time.sleep(0.5)\n",
    "        t-=1\n",
    "\n",
    "t=Thread(target=print_msg,args=[ev,5])\n",
    "\n",
    "t.start()\n",
    "print('t start...')\n",
    "\n",
    "ev.wait()"
   ]
  },
  {
   "cell_type": "markdown",
   "metadata": {},
   "source": [
    "### 线程间的通信\n",
    "从一个线程向另一个线程发送数据最安全方法使用queue库Queue对象,线程通过使用put和get操作来向队列中添加或删除元素\n",
    "\n",
    "> Queue对象已经包含了锁的所以是线程安全\n",
    "\n",
    "- Queue.put(item, block=True, timeout=None)\n",
    "- Queue.put_nowait(item)\n",
    "- Queue.get_nowait()\n",
    "- Queue.get(block=True, timeout=None)\n",
    "- Queue.join():阻塞至队列里所有元素都被接受不和处理完毕"
   ]
  },
  {
   "cell_type": "code",
   "execution_count": 13,
   "metadata": {},
   "outputs": [
    {
     "name": "stdout",
     "output_type": "stream",
     "text": [
      "2t1 start\n",
      "push wait\n",
      "\n",
      "poll\n",
      "end\n",
      "2\n"
     ]
    }
   ],
   "source": [
    "from threading import *\n",
    "from queue import Queue\n",
    "import time\n",
    "q=Queue()\n",
    "\n",
    "t1=Thread(target=lambda q:q.put(2),args=[q])\n",
    "t2=Thread(target=lambda q:print(q.get(2)),args=[q])\n",
    "t1.start()\n",
    "time.sleep(1)\n",
    "t2.start()\n",
    "\n",
    "\n",
    "class BlockQueue:\n",
    "\n",
    "    def __init__(self,size):\n",
    "        self._queue=[]\n",
    "        self._size=size\n",
    "        self._condi=Condition()\n",
    "\n",
    "    def push(self,ele):\n",
    "        with self._condi:\n",
    "            while len(self._queue)==self._size:\n",
    "                print('push wait')\n",
    "                self._condi.wait()\n",
    "            self._queue.append(ele)\n",
    "            self._condi.notify_all()\n",
    "    \n",
    "    def poll(self):\n",
    "        with self._condi:\n",
    "            while len(self._queue)==0:\n",
    "                self._condi.wait()\n",
    "            self._condi.notify_all()\n",
    "            print('poll')\n",
    "            return self._queue.pop()\n",
    "\n",
    "b=BlockQueue(1)\n",
    "\n",
    "def show_pop(queue):\n",
    "    time.sleep(3)\n",
    "    queue.poll()\n",
    "    print('end')\n",
    "\n",
    " \n",
    "\n",
    "t1=Thread(target=show_pop,args=[b])\n",
    "\n",
    "b.push(1)\n",
    "t1.start()\n",
    "print('t1 start')\n",
    "b.push(2)\n",
    "print('2')\n"
   ]
  },
  {
   "cell_type": "markdown",
   "metadata": {},
   "source": [
    "### 加锁\n",
    "多线程加锁使用的是threading库中Lock对象,Lock对象可以与with语句块一起使用来保证互斥执行"
   ]
  },
  {
   "cell_type": "code",
   "execution_count": null,
   "metadata": {},
   "outputs": [],
   "source": [
    "import threading\n",
    "\n",
    "class Counter:\n",
    "\n",
    "    # 累锁每次只能一个线程进入该对象\n",
    "    _lock=threading.Lock()\n",
    "\n",
    "    def __init__(self) -> None:\n",
    "        self._i=0\n",
    "\n",
    "    def incr(self,i=1):\n",
    "        with Counter._lock:\n",
    "            self._i+=1\n",
    "        \n",
    "    \n",
    "    def decr(self,i=1):\n",
    "        with Counter._lock:\n",
    "            self._i-=i\n"
   ]
  },
  {
   "cell_type": "markdown",
   "metadata": {},
   "source": [
    "### 防止死锁的加锁机制\n",
    "造成死锁的原因由于线程同时获取多个锁造成的,比如一个线程获取一个锁,然后在获取第二锁的时候发生了阻塞,在此上已经有一个线程获取第二锁,阻塞获取第一个锁就会造成死锁现象.\n",
    "\n",
    "解决死锁的方法:顺序加锁"
   ]
  },
  {
   "cell_type": "code",
   "execution_count": 16,
   "metadata": {},
   "outputs": [
    {
     "name": "stdout",
     "output_type": "stream",
     "text": [
      "step1 lock-><locked _thread.lock object at 0x109018380>\n",
      "step1 lock-><locked _thread.lock object at 0x1090c4800>\n"
     ]
    }
   ],
   "source": [
    "import threading\n",
    "import time\n",
    "def die_lock(left_lock,right_lock):\n",
    "    with left_lock:\n",
    "        print(f'step1 lock->{left_lock}',flush=True)\n",
    "        time.sleep(1) \n",
    "        with right_lock:\n",
    "            print(f'step2 lock->{right_lock}',flush=True)\n",
    "l=threading.Lock()       \n",
    "r=threading.Lock()\n",
    "\n",
    "t1=threading.Thread(target=die_lock,args=[l,r])\n",
    "\n",
    "t2=threading.Thread(target=die_lock,args=[r,l])\n",
    "\n",
    "t1.start()\n",
    "t2.start()\n",
    "\n",
    "# contextlib.contextmanger 生成器装饰with\n",
    "from contextlib import contextmanager\n",
    "# 把锁的最小值存储在该变量上\n",
    "_thread_local=threading.local()\n",
    "def acquired(*locks):\n",
    "    locks=sorted(locks,key=lambda a:id(a)) \n",
    "    \n",
    "    acquired=getattr(_thread_local,'acquired',[])\n",
    "    if acquired and max(id(acquired) for l in acquired)>=id(local[0]):\n",
    "        raise RuntimeError('lock order error')\n",
    "    \n",
    "    acquired.extend(locks)\n",
    "    _thread_local.acquired=acquired\n",
    "    try:\n",
    "        # 正着加锁\n",
    "        for l in locks:\n",
    "            l.acquire()\n",
    "    finally:\n",
    "        for l in reversed(locks):\n",
    "            # 反着解锁\n",
    "            l.release()\n",
    "        del acquired[-len(locks):]"
   ]
  },
  {
   "cell_type": "markdown",
   "metadata": {},
   "source": [
    "### 保存线程的状态信息\n",
    "通过threading.local()来创建一个本地线层存储对象,这个对象的属性的保持和读取操作只会对执行线程可见,其他线程不可见.\n",
    "\n",
    "> local()实例为每个线程维护着一个单独实例字典,也就是说每个线程使用一个独立的字典就可以保证数据隔离"
   ]
  },
  {
   "cell_type": "code",
   "execution_count": 22,
   "metadata": {},
   "outputs": [
    {
     "name": "stdout",
     "output_type": "stream",
     "text": [
      "10 4446460544\n",
      "0 4446460544\n"
     ]
    }
   ],
   "source": [
    "import threading\n",
    "\n",
    "main_local=threading.local()\n",
    "main_local.i=10\n",
    "def print_local(__local):\n",
    "    print(getattr(__local,'i',0),id(__local))\n",
    "print_local(main_local)\n",
    "\n",
    "t1=threading.Thread(target=print_local,args=[main_local])\n",
    "\n",
    "t1.start()\n",
    "\n",
    "t1.join()"
   ]
  },
  {
   "cell_type": "markdown",
   "metadata": {},
   "source": [
    "### 线程池\n",
    "concurrent.futures函数库有一个ThreadPoolExecutor线程池对象\n",
    "\n",
    "它是父类为Executor对象\n",
    "- submit(fn,/,*args,**kwargs)方法,返回一个Future对象\n",
    "- map(fn,*iterables,timeout)类似于map(func,*iterables)\n",
    "- shutdown(wait=True),wait为True等待所有future对象执行完毕\n",
    "\n",
    "> ProcessPoolExecutor另外一个子类管理进程的,map类似与fork-join,\n",
    "\n",
    "> threading.stack_size() 控制栈大小"
   ]
  },
  {
   "cell_type": "code",
   "execution_count": 2,
   "metadata": {},
   "outputs": [
    {
     "name": "stdout",
     "output_type": "stream",
     "text": [
      "200\n"
     ]
    }
   ],
   "source": [
    "import requests\n",
    "from concurrent.futures import ThreadPoolExecutor\n",
    "def web():\n",
    "    resp=requests.get('http://www.baidu.com')\n",
    "    print(resp.status_code)\n",
    "\n",
    "with ThreadPoolExecutor(max_workers=1) as pool:\n",
    "    fu=pool.submit(web)\n",
    "    fu.result()"
   ]
  },
  {
   "cell_type": "markdown",
   "metadata": {},
   "source": [
    "### python全局锁问题\n",
    "\n",
    "尽管Python完全支持多线程编程， 但是解释器的C语言实现部分在完全并行执行时并不是线程安全的。 实际上，解释器被一个全局解释器锁保护着，它确保任何时候都只有一个Python线程执行。 GIL最大的问题就是Python的多线程程序并不能利用多核CPU的优势 "
   ]
  },
  {
   "cell_type": "code",
   "execution_count": null,
   "metadata": {},
   "outputs": [
    {
     "name": "stdout",
     "output_type": "stream",
     "text": [
      "12"
     ]
    },
    {
     "name": "stderr",
     "output_type": "stream",
     "text": [
      "Exception in thread Thread-7 (invoke):\n",
      "Traceback (most recent call last):\n",
      "  File \"/Users/harden/anaconda3/lib/python3.11/threading.py\", line 1038, in _bootstrap_inner\n"
     ]
    },
    {
     "name": "stdout",
     "output_type": "stream",
     "text": [
      "\n",
      "13\n"
     ]
    },
    {
     "name": "stderr",
     "output_type": "stream",
     "text": [
      "    self.run()\n",
      "  File \"/Users/harden/anaconda3/lib/python3.11/threading.py\", line 975, in run\n",
      "    self._target(*self._args, **self._kwargs)\n",
      "  File \"/var/folders/m4/fgyn19bn1cb4vzrvd9hbd2xr0000gn/T/ipykernel_929/740105043.py\", line 14, in invoke\n"
     ]
    },
    {
     "name": "stderr",
     "output_type": "stream",
     "text": [
      "RuntimeError: invoke end\n"
     ]
    }
   ],
   "source": [
    "#Actor 模型 \n",
    "import queue\n",
    "import threading\n",
    "\n",
    "class Actor():\n",
    "    def __init__(self):\n",
    "        self.queue=queue.Queue()\n",
    "        self.t=threading.Thread(target=self.invoke)\n",
    "\n",
    "    def invoke(self):\n",
    "        while True:\n",
    "            res=self.rev()\n",
    "            if res==1:\n",
    "                raise RuntimeError('invoke end')\n",
    "            func,args=res\n",
    "            func(args)\n",
    "\n",
    "    def send(self,act):\n",
    "        self.queue.put(act)\n",
    "    \n",
    "    def rev(self):\n",
    "        return self.queue.get()\n",
    "    \n",
    "    def start(self):\n",
    "        self.t.start() \n",
    "\n",
    "a=Actor()\n",
    "\n",
    "a.start()\n",
    "\n",
    "a.send((print,'12'))\n",
    "a.send((print,'13'))\n",
    "a.send(1)\n",
    "a.send((print,'14'))\n",
    "\n",
    "\n"
   ]
  }
 ],
 "metadata": {
  "kernelspec": {
   "display_name": "base",
   "language": "python",
   "name": "python3"
  },
  "language_info": {
   "codemirror_mode": {
    "name": "ipython",
    "version": 3
   },
   "file_extension": ".py",
   "mimetype": "text/x-python",
   "name": "python",
   "nbconvert_exporter": "python",
   "pygments_lexer": "ipython3",
   "version": "3.11.5"
  }
 },
 "nbformat": 4,
 "nbformat_minor": 2
}
