{
 "cells": [
  {
   "cell_type": "markdown",
   "metadata": {},
   "source": [
    "### 改变对象的字符串显示\n",
    "重新定义__str__() 和__repr__()方法,对应的函数str()和repr()"
   ]
  },
  {
   "cell_type": "code",
   "execution_count": 1,
   "metadata": {},
   "outputs": [
    {
     "data": {
      "text/plain": [
       "'point 1.0 and 2.0'"
      ]
     },
     "execution_count": 1,
     "metadata": {},
     "output_type": "execute_result"
    }
   ],
   "source": [
    "class Point:\n",
    "\n",
    "    def __init__(self) -> None:\n",
    "        self.x=1.0\n",
    "        self.y=2.0\n",
    "    \n",
    "    def __str__(self) -> str:\n",
    "        return f'point {self.x} and {self.y}'\n",
    "    \n",
    "    def __repr__(self) -> str:\n",
    "        return self.__str__()\n",
    "    \n",
    "\n",
    "p=Point()\n",
    "repr(p)"
   ]
  },
  {
   "cell_type": "markdown",
   "metadata": {},
   "source": [
    "### 自定义字符串格式化\n",
    "调用format方法会调用类的__format__方法"
   ]
  },
  {
   "cell_type": "code",
   "execution_count": 4,
   "metadata": {},
   "outputs": [
    {
     "name": "stdout",
     "output_type": "stream",
     "text": [
      "2012-11-11\n"
     ]
    }
   ],
   "source": [
    "from datetime import *\n",
    "d=date(2012,11,11)\n",
    "\n",
    "print(d)"
   ]
  },
  {
   "cell_type": "markdown",
   "metadata": {},
   "source": [
    "### 上下文管理器\n",
    "通过实现__enter__()和__exit__()生成上下文管理器\n",
    "\n",
    "### 节约类空间\n",
    "通过定义__slots__=[''],python会使用更加紧凑的内存布局,注意python很多特性都是基于字典实现的,定义类slots就不在支持普通类型\n",
    "\n",
    "### 封装属性名\n",
    "python通过方法命名来规约达到封装效果,单下划线开头表示内部实现,使用双下滑线会变成私有命名比如__private +> _B__private"
   ]
  },
  {
   "cell_type": "markdown",
   "metadata": {},
   "source": [
    "### 创建可管理对象属性\n",
    "通过@property装饰器来管理对象属性.property的关键特征它看上去跟普通的attribute没什么两样,但是访问它的时候自动触发getter,setter,delete方法.三个装饰修饰的方法名字应该相同\n",
    "\n",
    "> 一个property属性其实就是一系列相关绑定方法的集合,可以直接在类中绑定`property(fget,fset,fdel)`"
   ]
  },
  {
   "cell_type": "code",
   "execution_count": 8,
   "metadata": {},
   "outputs": [
    {
     "name": "stdout",
     "output_type": "stream",
     "text": [
      "set\n"
     ]
    },
    {
     "data": {
      "text/plain": [
       "<function __main__.Person.name(self)>"
      ]
     },
     "execution_count": 8,
     "metadata": {},
     "output_type": "execute_result"
    }
   ],
   "source": [
    "\n",
    "class Person:\n",
    "\n",
    "    def __init__(self,name) :\n",
    "       self._name=name\n",
    "\n",
    "    @property \n",
    "    def name(self):\n",
    "        return self._name\n",
    "\n",
    "    @name.setter\n",
    "    def name(self,name):\n",
    "        if not isinstance(name,str):\n",
    "            raise TypeError('must be str')\n",
    "        self._name=name\n",
    "\n",
    "    @name.deleter\n",
    "    def name(self):\n",
    "        raise AttributeError('can‘t del')\n",
    "    \n",
    "    def set_age(self,a):\n",
    "        print('set')\n",
    "        self._age=a\n",
    "\n",
    "    def get_age(self):\n",
    "        return self._age\n",
    "\n",
    "    age=property(get_age,set_age)\n",
    "p=Person('harden')\n",
    "p.age=1\n",
    "\n",
    "Person.name.fget\n",
    "Person.name.fset\n",
    "Person.name.fdet"
   ]
  },
  {
   "cell_type": "markdown",
   "metadata": {},
   "source": [
    "### 调用父类方法\n",
    "\n",
    "调用父类的方法一般是使用supper,避免A.__init___(self).使用supper还可以让类起到混合类作用.\n",
    "\n",
    "> 为了实现继承,python会在MRO上从左到右开始找基类,直到找到一个匹配这个属性对象为止,MRO列表通过C3算法来实现的,三条准则.1.子类会优先于父类被检查;2.多个父类会根据它们在列表中的顺序被检查;3.如果对下一个类存在合法选择,选择第一个父类;\n",
    "\n",
    "> 当使用supper时,python会在MRO列表上基础搜索下一个类,只要每个重定义的统一使用supper那么控制流会遍历完整个MRO列表,每个方法只会被调用一次"
   ]
  },
  {
   "cell_type": "code",
   "execution_count": 8,
   "metadata": {},
   "outputs": [
    {
     "name": "stdout",
     "output_type": "stream",
     "text": [
      "['a', 'b'] <__main__.B object at 0x106b49190>\n",
      "(<class '__main__.B'>, <class '__main__.Proxy'>, <class '__main__.A'>, <class 'object'>)\n",
      "A\n",
      "Proxy\n"
     ]
    }
   ],
   "source": [
    "class A:\n",
    "    _filed=[]\n",
    "    def __init__(self) -> None:\n",
    "        print(self._filed,self)\n",
    "\n",
    "    def max_f(self):\n",
    "        print(A.__name__)\n",
    "\n",
    "# 混合类\n",
    "class Proxy(A):\n",
    "\n",
    "    def max_f(self):\n",
    "        super().max_f()\n",
    "        print(Proxy.__name__)\n",
    "\n",
    "class B(Proxy,A):\n",
    "    _filed=['a','b']\n",
    "\n",
    "    def __init__(self) -> None:\n",
    "        super().__init__()\n",
    "b=B()\n",
    "print(B.__mro__)\n",
    "b.max_f()"
   ]
  },
  {
   "cell_type": "markdown",
   "metadata": {},
   "source": [
    "### 子类扩展property\n"
   ]
  },
  {
   "cell_type": "code",
   "execution_count": 55,
   "metadata": {},
   "outputs": [
    {
     "name": "stdout",
     "output_type": "stream",
     "text": [
      "set A\n",
      "sub A\n",
      "<class 'str'>\n",
      "<property object at 0x1080afe20> <property object at 0x1080afce0>\n"
     ]
    }
   ],
   "source": [
    "class A:\n",
    "\n",
    "    @property\n",
    "    def a(self):\n",
    "        print('get A')\n",
    "        return '1'\n",
    "    \n",
    "    @a.setter\n",
    "    def a(self,val):\n",
    "        print('set A')\n",
    "\n",
    "    @a.deleter\n",
    "    def a(self):\n",
    "        print('del A')\n",
    "\n",
    "class SubA(A):\n",
    "    \n",
    "    # 重新 覆盖A类的a\n",
    "    @property\n",
    "    def a(self):\n",
    "       super().a\n",
    "       return 'a' \n",
    "\n",
    "    @a.setter\n",
    "    def a(self,val):\n",
    "        # property属于类属性,supper(type,type_or_obj)\n",
    "        super(SubA,SubA).a.__set__(self,val)\n",
    "        print('sub A')\n",
    "\n",
    "# 覆盖单个\n",
    "class SubA1(A):\n",
    "    @A.a.getter\n",
    "    def a(self):\n",
    "        print('SubA1')\n",
    "        return '_14'\n",
    "\n",
    "a=SubA()\n",
    "a.a=2\n",
    "\n"
   ]
  },
  {
   "cell_type": "markdown",
   "metadata": {},
   "source": [
    "### 创建新的类或实例属性\n",
    "用描述器在类的属性上检查功类型\n",
    "> 描述器就是一个实现了三个核心饿属性访问操作的类(get,set,delete),分别对应的__get__,__set__,__delete__三个特殊方法.使用描述器需要将它作为实例放到类的定义中\n",
    "> https://docs.python.org/zh-cn/3/howto/descriptor.html#primer\n",
    "\n",
    "### 延迟计算\n",
    "利用装饰器的get来实现"
   ]
  },
  {
   "cell_type": "code",
   "execution_count": 8,
   "metadata": {},
   "outputs": [
    {
     "name": "stdout",
     "output_type": "stream",
     "text": [
      "<class '__main__.Point'>\n"
     ]
    },
    {
     "data": {
      "text/plain": [
       "2"
      ]
     },
     "execution_count": 8,
     "metadata": {},
     "output_type": "execute_result"
    }
   ],
   "source": [
    "class TypeCheck:\n",
    "    def __init__(self,name,type_) :\n",
    "        self.name=name\n",
    "        self.type_=type_\n",
    "\n",
    "    def __get__(self,instance,cls):\n",
    "        print(cls)\n",
    "        if not instance:\n",
    "            return self\n",
    "        return instance.__dict__[self.name]\n",
    "\n",
    "    def __set__(self,instance,value):\n",
    "        if not isinstance(value,self.type_):\n",
    "            raise TypeError('not support type')\n",
    "        instance.__dict__[self.name]=value\n",
    "\n",
    "    def __delete__(self,instance):\n",
    "        del instance.__dict__[self.name]\n",
    "\n",
    "class Point:\n",
    "    x=TypeCheck('x',int)\n",
    "    y=TypeCheck('y',int)\n",
    "\n",
    "    def __init__(self,x,y):\n",
    "        self.x=x\n",
    "        self.y=y\n",
    "\n",
    "p=Point(1,2)\n",
    "p.x\n",
    "\n",
    "\n",
    "# 利用装饰器来实现延迟加载\n",
    "class LazyLoader:\n",
    "\n",
    "    def __init__(self,func):\n",
    "        self.func_=func\n",
    "\n",
    "    def __get__(self,instance,cls):\n",
    "        if not instance:\n",
    "            return self\n",
    "        val=self.func_(instance)\n",
    "        setattr(instance,self.func_.__name__,val)\n",
    "        return val\n",
    "\n",
    "class F:\n",
    "\n",
    "    @LazyLoader\n",
    "    def a(self):\n",
    "        return 1*2\n",
    "    \n",
    "f=F()\n",
    "f.a"
   ]
  },
  {
   "cell_type": "markdown",
   "metadata": {},
   "source": [
    "### 简化数据结构的初始化"
   ]
  },
  {
   "cell_type": "code",
   "execution_count": 17,
   "metadata": {},
   "outputs": [
    {
     "data": {
      "text/plain": [
       "'13'"
      ]
     },
     "execution_count": 17,
     "metadata": {},
     "output_type": "execute_result"
    }
   ],
   "source": [
    "class Stucture:\n",
    "    _filed={}\n",
    "\n",
    "    def __init__(self,*args,**kwargs): \n",
    "\n",
    "        if len(args)>len(self._filed):\n",
    "            raise TypeError('len')\n",
    "\n",
    "        # self._filed子类找     \n",
    "        for k,v in zip(self._filed,args):\n",
    "            setattr(self,k,v)\n",
    "\n",
    "       \n",
    "        diff=self._filed&kwargs.keys()\n",
    "        for name in diff:\n",
    "            # 为什么不使用__dict__.update.如果类使用__slots__就没有用了\n",
    "            setattr(self,name,kwargs.pop(name))\n",
    "            \n",
    "        # keyword必须清空\n",
    "        if kwargs:\n",
    "            raise TypeError('int') \n",
    "\n",
    "\n",
    "class Person(Stucture):\n",
    "    _filed={'name','age'}\n",
    "\n",
    "    def __init__(self, *args, **kwargs):\n",
    "        super().__init__(*args, **kwargs)\n",
    "\n",
    "p=Person('harden',age='13')\n",
    "p.age\n"
   ]
  },
  {
   "cell_type": "markdown",
   "metadata": {},
   "source": [
    "### 定义接口或者抽象基类\n",
    "只需要继承abc.ABC\n",
    "> 尽管ABC可以很方便的做类型检查,但在代码中最好必要过多使用它,因为python本质上一门动态编程语言,其目的为了更加灵活"
   ]
  },
  {
   "cell_type": "code",
   "execution_count": null,
   "metadata": {},
   "outputs": [],
   "source": [
    "from abc import ABC,abstractmethod\n",
    "\n",
    "class AbcstractClass(ABC):\n",
    "    @abstractmethod\n",
    "    def fun(self):\n",
    "        pass\n"
   ]
  },
  {
   "cell_type": "markdown",
   "metadata": {},
   "source": [
    "### 数据模型的类型约束\n",
    "8.13\n",
    "\n",
    "### 实现自定义容器\n",
    "使用collections下的抽象基类\n",
    "\n",
    "### 属性的代理访问\n",
    "利用__getattr__方法,__getattr__方法是在找不到attribute属性时被调用\n"
   ]
  },
  {
   "cell_type": "code",
   "execution_count": 19,
   "metadata": {},
   "outputs": [
    {
     "name": "stdout",
     "output_type": "stream",
     "text": [
      "func_a\n"
     ]
    }
   ],
   "source": [
    "class ReadDo:\n",
    "\n",
    "    def func_a(self):\n",
    "        print('func_a')\n",
    "\n",
    "    def func_b(self):\n",
    "        print('func_b')\n",
    "\n",
    "    def func_c(self):\n",
    "        print('func_c')\n",
    "\n",
    "class Wrapper:\n",
    "\n",
    "    def __init__(self,obj):\n",
    "        self._obj=obj\n",
    "\n",
    "    def __getattr__(self,name):\n",
    "        return getattr(self._obj,name)\n",
    "\n",
    "w=Wrapper(ReadDo())\n",
    "w.func_a()"
   ]
  },
  {
   "cell_type": "markdown",
   "metadata": {},
   "source": [
    "### 在类中定义多个构造器\n",
    "使用@classmethod装饰器来装饰一个方法,并且该方法的第一个参数是cls对象\n",
    "\n",
    "### 创建不调用init方法的实例\n",
    "可以通过class.__new__(class)来创建实例,以此来绕过__init__方法\n",
    "\n",
    "> 在反序列化对象或实现某个方法构造函数时可能绕过init\n",
    "> 使用这种方法创建实例时,最好不要用__dict__访问数据,以防类使用__slots__"
   ]
  },
  {
   "cell_type": "code",
   "execution_count": 23,
   "metadata": {},
   "outputs": [],
   "source": [
    "class Date:\n",
    "\n",
    "    def __init__(self,year,mouth):\n",
    "        self.year=year\n",
    "        self.mouth=mouth\n",
    "    \n",
    "    @classmethod\n",
    "    def now(cls):\n",
    "        import time\n",
    "        t=time.localtime()\n",
    "        return cls(t.tm_year,t.tm_mon)\n",
    "\n",
    "d=Date.now()\n",
    "\n",
    "# __new__绕过__init__\n",
    "d1=Date.__new__(Date)\n"
   ]
  },
  {
   "cell_type": "markdown",
   "metadata": {},
   "source": [
    "### 利用Mixins扩展类功能"
   ]
  },
  {
   "cell_type": "code",
   "execution_count": 2,
   "metadata": {},
   "outputs": [
    {
     "name": "stdout",
     "output_type": "stream",
     "text": [
      "name ->  1\n"
     ]
    },
    {
     "data": {
      "text/plain": [
       "'2'"
      ]
     },
     "execution_count": 2,
     "metadata": {},
     "output_type": "execute_result"
    }
   ],
   "source": [
    "# 扩展映射对象,给他添加日志\n",
    "\n",
    "class LonggerMixins:\n",
    "    # 混入类没有实例变量\n",
    "    __slots__=[]\n",
    "\n",
    "    def __getitem__(self,key):\n",
    "        print('name -> ',key)\n",
    "        return super().__getitem__(key)\n",
    "    \n",
    "    def __setitem__(self,key,value):\n",
    "        return super().__setitem__(key,value)\n",
    "    \n",
    "    def __delitem__(self,key):\n",
    "        return super().__delitem__(key)\n",
    "\n",
    "class MyDict(LonggerMixins,dict):\n",
    "    pass\n",
    "\n",
    "d=MyDict([('1','2')])\n",
    "d['1']"
   ]
  },
  {
   "cell_type": "markdown",
   "metadata": {},
   "source": [
    "### 实现状态对象\n",
    "\n",
    "\n",
    "```python\n",
    "class Connection:\n",
    "    \"\"\"普通方案，好多个判断语句，效率低下~~\"\"\"\n",
    "\n",
    "    def __init__(self):\n",
    "        self.state = 'CLOSED'\n",
    "\n",
    "    def read(self):\n",
    "        if self.state != 'OPEN':\n",
    "            raise RuntimeError('Not open')\n",
    "        print('reading')\n",
    "\n",
    "    def write(self, data):\n",
    "        if self.state != 'OPEN':\n",
    "            raise RuntimeError('Not open')\n",
    "        print('writing')\n",
    "\n",
    "    def open(self):\n",
    "        if self.state == 'OPEN':\n",
    "            raise RuntimeError('Already open')\n",
    "        self.state = 'OPEN'\n",
    "\n",
    "    def close(self):\n",
    "        if self.state == 'CLOSED':\n",
    "            raise RuntimeError('Already closed')\n",
    "        self.state = 'CLOSED'\n",
    "```"
   ]
  },
  {
   "cell_type": "code",
   "execution_count": null,
   "metadata": {},
   "outputs": [],
   "source": [
    "\n",
    "class Connection:\n",
    "\n",
    "    def __init__(self):\n",
    "        ... # close\n",
    "\n",
    "    def read(self):\n",
    "        self._state.read()\n",
    "\n",
    "    def write(self, data):\n",
    "        self._state.write(data)\n",
    "    \n",
    "    def open(self):\n",
    "        self._state.open()\n",
    "    \n",
    "    def close(self):\n",
    "        self._state.close()\n",
    "    \n",
    "    def new_state(self,state):\n",
    "        self._state=state\n",
    "\n",
    "class State:\n",
    "    @staticmethod\n",
    "    def read(con):\n",
    "        raise NotImplementedError()        \n",
    "    \n",
    "    @staticmethod\n",
    "    def write(con):\n",
    "        raise NotImplementedError()        \n",
    "    \n",
    "    @staticmethod\n",
    "    def open(con):\n",
    "        raise NotImplementedError()        \n",
    "\n",
    "    @staticmethod\n",
    "    def close(con):\n",
    "        raise NotImplementedError()        \n",
    "class OpenState:\n",
    "\n",
    "    @staticmethod\n",
    "    def read(con):\n",
    "        raise NotImplementedError()        \n",
    "\n",
    "    @staticmethod\n",
    "    def write(con):\n",
    "        raise NotImplementedError()        \n",
    "\n",
    "    @staticmethod\n",
    "    def open(con):\n",
    "        con.new_state(OpenState)\n",
    "\n",
    "    @staticmethod \n",
    "    def close(con):\n",
    "        raise NotImplementedError()        "
   ]
  },
  {
   "cell_type": "markdown",
   "metadata": {},
   "source": [
    "### 通过字符串调用对象方法\n",
    "- 通过getattr()方法:调用一个方法实际上两部独立操作,第一步查找属性,第二部函数调用\n",
    "- operator.methodcaller()创建一个可调用对象,并同时提供必要参数,然后将实例传递给它\n",
    "\n",
    "8.21\n",
    "8.22"
   ]
  },
  {
   "cell_type": "code",
   "execution_count": 6,
   "metadata": {},
   "outputs": [
    {
     "name": "stdout",
     "output_type": "stream",
     "text": [
      "3\n",
      "3\n"
     ]
    }
   ],
   "source": [
    "import operator\n",
    "class Foo:\n",
    "\n",
    "    def add(self,a,b):\n",
    "        return a+b\n",
    "\n",
    "f=Foo()\n",
    "print(getattr(f,'add')(1,2))\n",
    "print(operator.methodcaller('add',1,2)(f))"
   ]
  },
  {
   "cell_type": "markdown",
   "metadata": {},
   "source": [
    "### 循环引用数据结构内存管理\n",
    "比如,循环引用数据结构就是一个树形结构,双亲节点都有指针指向孩子节点,孩子节点又返回来指向双亲节点.这种情况下使用weakref库的弱引用\n",
    "\n",
    "> 循环引用是python中很棘手的问题,因为正常的垃圾回收机制不适应这种情形.python使用引用计数,当对象引用数据变成0时才会被删除,这种情况下可以使用gc.colletion()来处理\n",
    "\n",
    "> 弱引用就是一个对象指针,他不会增加它引用计数\n",
    "\n",
    "\n",
    "### 让类支持比较操作\n",
    "想让某个类的实例支持标准的运算,不想实现一大丢特殊方法.可通过functools.total_ordering来简化处理,使用它来装饰一个类,只需定义一个__eq__方法,和其(__lt__,__le__,__gt__,__or__,__ge__)中的一个即可,装饰器会自动为它们填充\n",
    "\n",
    "### 创建换成实例\n",
    "使用weakref.WeakValueDictionary()"
   ]
  }
 ],
 "metadata": {
  "kernelspec": {
   "display_name": "base",
   "language": "python",
   "name": "python3"
  },
  "language_info": {
   "codemirror_mode": {
    "name": "ipython",
    "version": 3
   },
   "file_extension": ".py",
   "mimetype": "text/x-python",
   "name": "python",
   "nbconvert_exporter": "python",
   "pygments_lexer": "ipython3",
   "version": "3.11.5"
  }
 },
 "nbformat": 4,
 "nbformat_minor": 2
}
