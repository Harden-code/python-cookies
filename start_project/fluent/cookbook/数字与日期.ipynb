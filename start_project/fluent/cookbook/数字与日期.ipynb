{
 "cells": [
  {
   "cell_type": "code",
   "execution_count": 3,
   "metadata": {},
   "outputs": [
    {
     "data": {
      "text/plain": [
       "3.14"
      ]
     },
     "execution_count": 3,
     "metadata": {},
     "output_type": "execute_result"
    }
   ],
   "source": [
    "# 浮点向上取整\n",
    "pi=3.136\n",
    "round(pi,2)"
   ]
  },
  {
   "cell_type": "code",
   "execution_count": 6,
   "metadata": {},
   "outputs": [
    {
     "name": "stdout",
     "output_type": "stream",
     "text": [
      "True\n",
      "1.4\n"
     ]
    }
   ],
   "source": [
    "# 高精度计算\n",
    "\n",
    "from decimal import localcontext\n",
    "from decimal import Decimal\n",
    "a=Decimal('3.4')\n",
    "b=Decimal('2.4')\n",
    "print(a+b==Decimal('5.8'))\n",
    "\n",
    "with localcontext() as ctx:\n",
    "    ctx.prec=2\n",
    "    print(a/b)\n"
   ]
  },
  {
   "cell_type": "code",
   "execution_count": 13,
   "metadata": {},
   "outputs": [
    {
     "name": "stdout",
     "output_type": "stream",
     "text": [
      "0b10000 0o20 0x10\n",
      "10000 20 10\n",
      "16 16\n"
     ]
    }
   ],
   "source": [
    "# 二八十六进制的转换\n",
    "num=16\n",
    "b=bin(num)\n",
    "o=oct(num)\n",
    "x=hex(num)\n",
    "print(b,o,x)\n",
    "\n",
    "# 格式化前面b,o,x\n",
    "print(format(num,'b'),format(num,'o'),format(num,'x'))\n",
    "\n",
    "# 转换成十进制#\n",
    "print(int(o,8),int(x,16))"
   ]
  },
  {
   "cell_type": "code",
   "execution_count": 27,
   "metadata": {},
   "outputs": [
    {
     "data": {
      "text/plain": [
       "69120565665751139577663547927094891008"
      ]
     },
     "execution_count": 27,
     "metadata": {},
     "output_type": "execute_result"
    }
   ],
   "source": [
    "# 字节到数组\n",
    "x=1\n",
    "x.to_bytes(2) # 转换成字节数组\n",
    "\n",
    "data = b'\\x00\\x124V\\x00x\\x90\\xab\\x00\\xcd\\xef\\x01\\x00#\\x004'\n",
    "int.from_bytes(data,'little') # byte 转换成int"
   ]
  },
  {
   "cell_type": "code",
   "execution_count": 33,
   "metadata": {},
   "outputs": [
    {
     "name": "stdout",
     "output_type": "stream",
     "text": [
      "True\n"
     ]
    }
   ],
   "source": [
    "# 无穷大\n",
    "nan=float('nan')\n",
    "inf=float('-inf')\n",
    "nan\n",
    "\n",
    "import math\n",
    "math.isinf(nan)\n",
    "\n",
    "print(math.isinf(inf))"
   ]
  },
  {
   "cell_type": "code",
   "execution_count": 36,
   "metadata": {},
   "outputs": [
    {
     "name": "stdout",
     "output_type": "stream",
     "text": [
      "1/2\n"
     ]
    },
    {
     "data": {
      "text/plain": [
       "1"
      ]
     },
     "execution_count": 36,
     "metadata": {},
     "output_type": "execute_result"
    }
   ],
   "source": [
    "# 分数计算\n",
    "from fractions import Fraction\n",
    "a=Fraction(1,2)\n",
    "print(a)\n",
    "a.numerator #分子\n",
    "a.denominator #分母 "
   ]
  },
  {
   "cell_type": "code",
   "execution_count": 8,
   "metadata": {},
   "outputs": [
    {
     "data": {
      "text/plain": [
       "9"
      ]
     },
     "execution_count": 8,
     "metadata": {},
     "output_type": "execute_result"
    }
   ],
   "source": [
    "# 选取随机数\n",
    "import random\n",
    "num=[i for i in range(6)]\n",
    "\n",
    "random.choice(num)\n",
    "\n",
    "random.sample(num,3)#选不同的参数\n",
    "\n",
    "random.shuffle(num) # 洗牌\n",
    "\n",
    "random.randint(1,10) # 随机生成整数"
   ]
  },
  {
   "cell_type": "code",
   "execution_count": 12,
   "metadata": {},
   "outputs": [
    {
     "data": {
      "text/plain": [
       "'2024-03-28'"
      ]
     },
     "execution_count": 12,
     "metadata": {},
     "output_type": "execute_result"
    }
   ],
   "source": [
    "# 时间函数\n",
    "from datetime import timedelta,datetime\n",
    "\n",
    "a=timedelta(days=1,hours=2)\n",
    "b=timedelta(hours=1)\n",
    "a+b\n",
    "\n",
    "\n",
    "datetime(2011,2,3)\n",
    "\n",
    "# 时间转换成字符串\n",
    "\n",
    "now=datetime.now()\n",
    "datetime.strftime(now,'%Y-%m-%d')\n",
    "# timezone 时区"
   ]
  }
 ],
 "metadata": {
  "kernelspec": {
   "display_name": "base",
   "language": "python",
   "name": "python3"
  },
  "language_info": {
   "codemirror_mode": {
    "name": "ipython",
    "version": 3
   },
   "file_extension": ".py",
   "mimetype": "text/x-python",
   "name": "python",
   "nbconvert_exporter": "python",
   "pygments_lexer": "ipython3",
   "version": "3.11.5"
  }
 },
 "nbformat": 4,
 "nbformat_minor": 2
}
