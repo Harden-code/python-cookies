{
 "cells": [
  {
   "cell_type": "markdown",
   "metadata": {},
   "source": [
    "### 包和模块\n",
    "包可以看成文件系统中的目录,模块看成目录中的文件.需要注意的是包是一种特殊模块,具有`__path__`属性的模块都会被当成包\n",
    "\n",
    "\n",
    "常规包 -> 通常以一个包含__init__.py文件的目录形式实现,当一个常规包被导入时,这个__init__.py会隐式执行.没有该文件的话会默认\n",
    "新建一个新的"
   ]
  },
  {
   "cell_type": "code",
   "execution_count": 2,
   "metadata": {},
   "outputs": [
    {
     "data": {
      "text/plain": [
       "['/Users/harden/anaconda3/lib/python3.11/site-packages/matplotlib']"
      ]
     },
     "execution_count": 2,
     "metadata": {},
     "output_type": "execute_result"
    }
   ],
   "source": [
    "import matplotlib\n",
    "\n",
    "matplotlib.__path__"
   ]
  },
  {
   "cell_type": "code",
   "execution_count": null,
   "metadata": {},
   "outputs": [],
   "source": [
    "# 通过在parent的__init__中from . import model 来减少导入"
   ]
  },
  {
   "cell_type": "code",
   "execution_count": null,
   "metadata": {},
   "outputs": [],
   "source": [
    "# 通过在模块中定义__all__属性,限制from package import *\n",
    "__all__=['']"
   ]
  },
  {
   "cell_type": "markdown",
   "metadata": {},
   "source": [
    "```\n",
    "mypackage/\n",
    "    __init__.py\n",
    "    A/\n",
    "        __init__.py\n",
    "        spam.py\n",
    "        grok.py\n",
    "    B/\n",
    "        __init__.py\n",
    "        bar.py\n",
    "```"
   ]
  },
  {
   "cell_type": "code",
   "execution_count": null,
   "metadata": {},
   "outputs": [],
   "source": [
    "# 使用相对目录导包,比如在A包下的spam.py导入grok.py\n",
    "from . import grok"
   ]
  },
  {
   "cell_type": "markdown",
   "metadata": {},
   "source": [
    "\n",
    "\n",
    "``` python\n",
    "# mymodule.py\n",
    "class A:\n",
    "    def spam(self):\n",
    "        print('A.spam')\n",
    "\n",
    "class B(A):\n",
    "    def bar(self):\n",
    "        print('B.bar')\n",
    "```\n",
    "\n",
    "将mymodule分成两个模块,并不影响之前调用\n",
    "\n",
    "``` python\n",
    "# a.py\n",
    "class A:\n",
    "    def spam(self):\n",
    "        print('A.spam')\n",
    "\n",
    "# b.py\n",
    "class B(A):\n",
    "    def bar(self):\n",
    "        print('B.bar')\n",
    "\n",
    "```\n",
    "\n",
    "```\n",
    "# 在模块中的 __init__.py\n",
    "from .a import A\n",
    "from .b import B\n",
    "```"
   ]
  }
 ],
 "metadata": {
  "kernelspec": {
   "display_name": "base",
   "language": "python",
   "name": "python3"
  },
  "language_info": {
   "codemirror_mode": {
    "name": "ipython",
    "version": 3
   },
   "file_extension": ".py",
   "mimetype": "text/x-python",
   "name": "python",
   "nbconvert_exporter": "python",
   "pygments_lexer": "ipython3",
   "version": "3.11.5"
  }
 },
 "nbformat": 4,
 "nbformat_minor": 2
}
