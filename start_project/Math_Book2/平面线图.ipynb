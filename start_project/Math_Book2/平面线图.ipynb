{
 "cells": [
  {
   "cell_type": "markdown",
   "metadata": {},
   "source": [
    "### 线条装饰\n",
    "粗细(linewidth,lw),样式(linestyle),颜色(color),标记(marker),透明度(alpha)\n",
    "\n",
    "> 线条样式\n",
    "\n",
    "> https://matplotlib.org/stable/gallery/lines_bars_and_markers/linestyles. html\n",
    "\n",
    "标记marker调整其大小(markersize),边缘颜(markeredgecolor),边缘线宽度(markeredgewidth),填充颜色(markerfacecolor)\n",
    "\n",
    "> https://matplotlib.org/stable/gallery/lines_bars_and_markers/markevery_d emo.html\n",
    "\n",
    "> ax.set_prop_cycle()修饰颜色序列循环"
   ]
  },
  {
   "cell_type": "code",
   "execution_count": null,
   "metadata": {},
   "outputs": [],
   "source": []
  }
 ],
 "metadata": {
  "kernelspec": {
   "display_name": "base",
   "language": "python",
   "name": "python3"
  },
  "language_info": {
   "name": "python",
   "version": "3.11.5"
  }
 },
 "nbformat": 4,
 "nbformat_minor": 2
}
