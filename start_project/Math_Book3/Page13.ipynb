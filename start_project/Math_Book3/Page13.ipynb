{
 "cells": [
  {
   "cell_type": "markdown",
   "metadata": {},
   "source": [
    "### 二元一次函数 平面\n",
    "> $y=f(x_1,x_2)=w_1x_1+w_2x_2+b$\n",
    "\n",
    "当w1和w2均为0时,$f(x_1,x_2)=b$为二元常数函数,图像平行于$x_1x_2$平面.矩阵乘法如下\n",
    "\n",
    "> $y=f(x_1,x_2)=w^tx+b$\n",
    "\n",
    "当y取一定值时,如y=c平面退化成一条直线,从另一个角度c相当于$f(x_1,x_2)$平面某条等高线\n",
    ">$w_1x_1+w_2x_2+b=c$"
   ]
  },
  {
   "cell_type": "code",
   "execution_count": 1,
   "metadata": {},
   "outputs": [],
   "source": [
    "import matplotlib.pyplot as plt\n",
    "from matplotlib import cm\n",
    "import numpy as np\n",
    "def mesh_square(x1_0,x2_0,r,num):\n",
    "    x=np.linspace(-r,r,num=num)\n",
    "\n",
    "    xx1,xx2=np.meshgrid(x,x)\n",
    "    xx1=xx1+x1_0\n",
    "    xx2=xx2+x2_0\n",
    "    return xx1,xx2\n",
    "# caption说明 normalize 标准化\n",
    "def plot_surf(xx1,xx2,ff,caption):\n",
    "    norm_plt=plt.Normalize(ff.min(),ff.max())\n",
    "    colors=cm.coolwarm(norm_plt(ff))\n",
    "\n",
    "    fig,ax=plt.subplots(subplot_kw={'projection':'3d'})\n",
    " \n",
    "    # shade\n",
    "    surf=ax.plot_surface(xx1,xx2,ff,facecolors=colors,shade=False)\n",
    "    surf.set_facecolor((0,0,0,0))\n",
    "\n",
    "    plt.tight_layout()\n",
    "    ax.set_xlabel('$\\it{x_1}$')\n",
    "    ax.set_ylabel('$\\it{x_2}$')\n",
    "    ax.set_zlabel('$\\it{f}($\\it{x_1},$\\it{x_2})$')\n",
    "\n",
    "    ax.set_title(caption)\n",
    "\n",
    "    ax.xaxis._axinfo[\"grid\"].update({\"linewidth\":0.25, \"linestyle\" : \":\"})\n",
    "    ax.yaxis._axinfo[\"grid\"].update({\"linewidth\":0.25, \"linestyle\" : \":\"})\n",
    "    ax.zaxis._axinfo[\"grid\"].update({\"linewidth\":0.25, \"linestyle\" : \":\"})\n",
    "\n",
    "    plt.rcParams[\"font.family\"] = \"Times New Roman\"\n",
    "    plt.rcParams[\"font.size\"] = \"10\"\n",
    "    plt.show()\n",
    "\n",
    "def plot_contourf(xx1,xx2,ff,caption):\n",
    "    fig,ax=plt.subplots()\n",
    "\n",
    "    cntr2=ax.contourf(xx1,xx2,ff,levels=[15],cmap='RdBu_r')\n",
    "    fig.colorbar(cntr2,ax=ax)\n",
    "\n",
    "    ax.set_xlabel('$\\it{x_1}$')\n",
    "    ax.set_ylabel('$\\it{x_2}$')\n",
    "    ax.set_title(caption)\n",
    "\n",
    "    ax.grid(linestyple='--',linewidth=0.25,color=[0.5,0.5,0.5])\n",
    "    plt.show()\n"
   ]
  },
  {
   "cell_type": "markdown",
   "metadata": {},
   "source": [
    "$f(x_1,x_2)=x_1+x_2=\\begin{bmatrix}\n",
    "                1 \\\\\n",
    "                1\n",
    "                \\end{bmatrix}^t \n",
    "                \\begin{bmatrix}\n",
    "                x_1\\\\\n",
    "                x_2\n",
    "                \\end{bmatrix}$"
   ]
  },
  {
   "cell_type": "code",
   "execution_count": null,
   "metadata": {},
   "outputs": [],
   "source": []
  },
  {
   "cell_type": "markdown",
   "metadata": {},
   "source": [
    "$f(x_1,x_2)=-x_1+x_2=\\begin{bmatrix}\n",
    "-1 \\\\\n",
    "1\n",
    "\\end{bmatrix}^t \\begin{bmatrix}\n",
    "x_1 \\\\\n",
    "x_2\n",
    "\\end{bmatrix}$"
   ]
  },
  {
   "cell_type": "code",
   "execution_count": null,
   "metadata": {},
   "outputs": [],
   "source": []
  },
  {
   "cell_type": "markdown",
   "metadata": {},
   "source": [
    "$f(x_1,x_2)=x_2=\\begin{bmatrix}\n",
    "0 \\\\\n",
    "1\n",
    "\\end{bmatrix}^t \\begin{bmatrix}\n",
    "x_1 \\\\\n",
    "x_2\n",
    "\\end{bmatrix}$"
   ]
  },
  {
   "cell_type": "code",
   "execution_count": null,
   "metadata": {},
   "outputs": [],
   "source": []
  },
  {
   "cell_type": "markdown",
   "metadata": {},
   "source": [
    "### 正圆抛物面 等高线为正圆\n",
    "正圆抛物面(circular paraboloid)是抛物面的一种特殊形式,它的等高线为正圆\n",
    "> $f(x_1,x_2)=a(x_1^2+x_2^2)$\n",
    "\n",
    "矩阵形式\n",
    "> $f(x_1,x_2)=\\begin{bmatrix}\n",
    "    x_1\\\\\n",
    "    x_2\n",
    "\\end{bmatrix}^T \\begin{bmatrix}\n",
    "a & 0\\\\\n",
    "0 & a\n",
    "\\end{bmatrix} \\begin{bmatrix}\n",
    "x_1 \\\\\n",
    "x_2 \n",
    "\\end{bmatrix} = a\\begin{bmatrix}\n",
    "    x_1\\\\\n",
    "    x_2\n",
    "\\end{bmatrix}^T \\begin{bmatrix}\n",
    "    x_1\\\\\n",
    "    x_2\n",
    "\\end{bmatrix}=ax^Tx=a\\lVert x \\rVert$\n",
    "\n",
    "向量的模,$\\lVert x \\rVert$.向量x理解为平面上有方向的线段,它有大小和方向两个性质.定义为$\\lVert x \\rVert=\\sqrt{x_1^2+x_1^2}$"
   ]
  },
  {
   "cell_type": "markdown",
   "metadata": {},
   "source": [
    "### 开口朝上"
   ]
  },
  {
   "cell_type": "markdown",
   "metadata": {},
   "source": [
    "### 开口朝下"
   ]
  },
  {
   "cell_type": "markdown",
   "metadata": {},
   "source": [
    "### 平移"
   ]
  }
 ],
 "metadata": {
  "kernelspec": {
   "display_name": "base",
   "language": "python",
   "name": "python3"
  },
  "language_info": {
   "codemirror_mode": {
    "name": "ipython",
    "version": 3
   },
   "file_extension": ".py",
   "mimetype": "text/x-python",
   "name": "python",
   "nbconvert_exporter": "python",
   "pygments_lexer": "ipython3",
   "version": "3.11.5"
  }
 },
 "nbformat": 4,
 "nbformat_minor": 2
}
