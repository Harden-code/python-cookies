{
 "cells": [
  {
   "cell_type": "markdown",
   "metadata": {},
   "source": [
    "### 指数函数\n",
    "> $f(x)=b^x$\n",
    "\n",
    "其中b为底数(base),自变量x为指数(exponent).当b>1函数单调递减;当0<b<1时函数单调递增.numpy.power(b,x)来计算指数函数\n",
    "\n",
    "更多情况下指数函数指的是自然指数函数(natural exponential function),自然指的是自然常数e为底数,$e \\approx2.718$\n",
    "> $f(x)=e^x=exp(x)$\n",
    "\n",
    "> $y=f(x)=b^x=e^{\\ln {b.x}}=exp((\\ln b)x)$"
   ]
  },
  {
   "cell_type": "markdown",
   "metadata": {},
   "source": [
    "### 对数函数(logarithmic function)\n",
    "> $y=f(x)=\\log_{b} x$\n",
    "\n",
    "其中b为对数底数(logarithmic base),b>0且b!=1,函数定义域x>0.当b>1在定义域上单调递增,当0<b<1在定义域上单调递减\n",
    "\n",
    "自然对数\n",
    "> $y=f(x)=\\ln(x)=\\log_e x$\n",
    "\n",
    "自然指数和自然对数函数互为反函数   \n",
    "> $\\log_b x=\\frac{\\ln x}{\\ln b}$\n",
    "\n",
    "numpy提供的特殊底数运算:\n",
    "- numpy.log2():以底数为2对数函数$\\log_2 x$\n",
    "- numpy.log():以底数为e的自然对数函数$\\ln x$\n",
    "- numpy.log10():以底数为10的对数函数 $\\log_10 x$\n",
    "\n",
    "对数运算特点:\n",
    "- $\\log_b x=\\frac{\\log_k x}{\\log_k b}$\n",
    "- $\\log_b x=\\frac{log_10 x}{log_10 b}=\\frac{\\ln x}{\\ln b}$\n",
    "- $\\log_{b^n}x^m=\\frac{m}{n}\\log_b x$\n",
    "- $x=b^{\\log_b x}$\n",
    "- $x^{\\log_b y}=y^{\\log_b x}$\n",
    "- $\\log_b{(xyz)}=\\log_b x+\\log_b y+\\log_b z$\n",
    "    > 利用对数函数把连乘编程连假,是因为连乘不容易求导\n"
   ]
  },
  {
   "cell_type": "code",
   "execution_count": null,
   "metadata": {},
   "outputs": [],
   "source": []
  },
  {
   "cell_type": "markdown",
   "metadata": {},
   "source": [
    "### 高斯函数\n",
    "复合函数(funtion composition)就是函数嵌套,把几个简单的函数进行复合得到一个较为复杂的函数\n",
    "\n",
    "自然指数函数经常与其他函数构造成复合函数,比如自然指数函数复合二次函数,得到高斯函数\n",
    "> $f(x)=exp(-rx^2)$\n",
    "\n",
    "其中r为参数,且r>0.高斯函数的定义域在$(-\\infty,+\\infty)$,值域(0,1].\n",
    "\n",
    "关于x=b对称\n",
    "> $f(x)=a·exp(\\frac{-(x-b)^2}{2c^2})$\n",
    "\n",
    "拉普拉斯核函数\n",
    "\n",
    "绝对值函数$\\left\\vert x \\right\\vert$进行复合,得到一元拉普拉斯函数(laplacian kernel function)\n",
    "> $f(x)=exp(-r\\left\\vert x \\right\\vert)$"
   ]
  },
  {
   "cell_type": "markdown",
   "metadata": {},
   "source": [
    "### 逻辑函数 在0和1之间取值\n",
    "逻辑函数(logistic function)也可以视为自然指数函数扩展得到的复合函数\n",
    "> $f(x)=\\frac{1}{1+exp(-x)}=\\frac{exp(x)}{1+exp(x)}$\n",
    "\n",
    "> $f(x)=\\frac{1}{1+exp(-(b_0+b_1x))}$\n",
    "\n",
    "逻辑函数的取值在0和1之间,函数无限接近0和1却不能达到\n",
    "> $f(x)=\\frac{1}{1+exp(-(b_0+b_1x))}=\\frac{1}{2}$,整理$-\\frac{b_0}{b_1}$\n",
    "\n",
    "### 逻辑曲线增长\n",
    "自然界中和人类中指数增长这种J型增长(J-shaped growth)一般只在一段时间内存在,各种条件会限制增长幅度.比较符合增长的是S型增长曲线(S-shaped growth curve)\n",
    "\n",
    "### S型函数\n",
    "逻辑函数是S型函数(sigmodid function)的一种,S型函数因其函数图像形似S而得名.常见的双曲线正切函数f(x)=tanh(x)[numpy.tanh()],反正切函数f(x)=arctan(x),误差函数f(x)=erf(x)[numpy.erf()]\n",
    "\n",
    "正切函数tanh(x)域逻辑函数关系\n",
    "> $f(x)=\\frac{1}{1+exp(-x)}=\\frac{exp(x)}{1+exp(x)}=\\frac{1}{2}+\\frac{1}{2}tanh(\\frac{x}{2})$\n",
    "\n",
    "代数函数归类为S型函数\n",
    "> $f(x)=\\frac{x}{1+\\left\\vert x\\right\\vert},f(x)=\\frac{x}{\\sqrt{1+x^2}}$\n"
   ]
  },
  {
   "cell_type": "markdown",
   "metadata": {},
   "source": [
    "### 三角函数 周期函数代表\n",
    "三角函数(circular function)是一类周期函数(periodic function)\n",
    "\n",
    "### 正弦函数\n",
    "正弦波(sine wave)是一种常见的波形,如无理中的正弦交流电.该函数是一个奇函数,关于原点对称,函数周期为2pi,值域[-1,1],numpy.sin()计算\n",
    "> f(x)=sin(x)\n",
    "### 余弦函数\n",
    "余弦函数是偶函数,关于纵轴对称,函数周期为2pi,值域[-1,1],numpy.cos()计算"
   ]
  }
 ],
 "metadata": {
  "kernelspec": {
   "display_name": "base",
   "language": "python",
   "name": "python3"
  },
  "language_info": {
   "name": "python",
   "version": "3.11.5"
  }
 },
 "nbformat": 4,
 "nbformat_minor": 2
}
