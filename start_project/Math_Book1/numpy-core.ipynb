{
 "cells": [
  {
   "cell_type": "markdown",
   "metadata": {},
   "source": [
    "### main differences with python lists are:\n",
    "\n",
    "1. Arrays support vectorised operations, while lists don’t.\n",
    "2. Once an array is created, you cannot change its size. You will have to create a new array or overwrite the existing one.\n",
    "3. Every array has one and only one dtype. All items in it should be of that dtype.\n",
    "4. An equivalent numpy array occupies much less space than a python list of lists\n",
    "\n",
    "> equivalent 等值;occupy 占用\n",
    "\n",
    "### bool index\n",
    "A boolean index array is of the same shape as the array-to-be-filtered and it contains only True and False values. The values corresponding to True positions are retained in the output\n",
    "\n",
    "> corresponding 相应的\n",
    "\n",
    "### compute mean, min, max on the ndarray\n",
    "compute the minimum values row wise or column wise, use the np.amin version instead (apply_over_axis)\n",
    "\n",
    "###  reshape flatten\n",
    "Reshaping is changing the arrangement of items so that shape of the array changes while maintaining the same number of dimensions.\n",
    "\n",
    "Flattening, however, will convert a multi-dimensional array to a flat 1d array. And not any other shape.\n",
    "\n",
    "> arrangements 商定; maintain 维持\n",
    "\n",
    "### difference between flatten() and ravel()\n",
    "flatten it does not create a copy\n",
    "\n",
    "\n",
    "> https://www.machinelearningplus.com/python/numpy-tutorial-part1-array-python-examples/\n"
   ]
  },
  {
   "cell_type": "code",
   "execution_count": null,
   "metadata": {},
   "outputs": [],
   "source": [
    "import numpy as np\n",
    "\n",
    "a=np.full((3,4),1)\n",
    "b=a.reshape((2,6))\n",
    "np.shares_memory(a,b)\n",
    "\n",
    "\n",
    "np.shares_memory(a.flatten(),a.ravel())\n"
   ]
  },
  {
   "cell_type": "markdown",
   "metadata": {},
   "source": [
    "### where\n",
    "1. locates the positions in the array where a given condition holds true\n",
    "2. np.where also accepts 2 more optional arguments x and y. Whenever condition is true, ‘x’ is yielded else ‘y’\n",
    "3. location of max `argmax`\n",
    "4. location of min `argmin`\n",
    "\n",
    "### import and export data as a csv file\n",
    "using `np.genfromtxt`.It can import datasets from web URLs, handle missing values, multiple delimiters, handle irregular number of columns etc.\n",
    "\n",
    "### handle datasets that has both numbers and text columns\n",
    "set the dtype as 'object' or None\n",
    "\n",
    "`np.savetxt`export the array as a csv file\n",
    "\n",
    "\n",
    "###  How to save and load numpy objects? \n",
    "we will want to save large transformed numpy arrays to disk and load it back to console directly without having the re-run the data transformations code. Numpy provides the .npy and the .npz file types for this purpose. If you want to store a single ndarray object, store it as a .npy file using np.save. This can be loaded back using the np.load. If you want to store more than 1 ndarray object in a single file, then save it as a .npz file using\n",
    "> transformed 有改观的;re-run重放\n",
    "\n",
    "###  concatenate two numpy arrays columnwise and row wise\n",
    "- np.concatenate by changeing the axis parameter to 0 and 1\n",
    "- np.vstack and np.hstack\n",
    "- np.r_[] and np.c_[]\n",
    "\n",
    "### sort a numpy array based on one or more columns\n",
    "- np.sort(arr,axis=0)\n",
    "- agrsort return the index position of that would make a given 1d array sorted\n",
    "- lexsort by passing a tuple of columns based on which the array should be sorted,Just remember to place the column to be sorted first at the rightmost side inside the tuple \n",
    "```python\n",
    "# sort by col 0, then by col 1 (0相同再排1)\n",
    "lexsorted_index = np.lexsort((arr[:, 1], arr[:, 0]))\n",
    "```\n",
    "> place 放在\n",
    "\n",
    "### working the dates\n",
    "np.datetime64 object which supports a precision till nanoseconds. You can create one using a standard YYYY-MM-DD formatted date strings.\n",
    "\n",
    "### create a sequence of dates\n",
    "using np.arange `dates = np.arange(np.datetime64('2018-02-01'), np.datetime64('2018-02-10'))`\n",
    "\n",
    "### vectorize - Make a scalar function work on vectors\n",
    "vectorize() you can make a function that is meant to work on individual numbers, to work on arrays\n",
    "\n",
    "### apply_along_axis – Apply a function column wise or row wise\n",
    "\n",
    "\n",
    "### searchsorted – Find the location to insert so the array will remain sorted\n",
    "It gives the index position at which a number should be inserted in order to keep the array sorted.\n",
    "\n",
    "### Digitize\n",
    "Use np.digitize to return the index position of the bin each element belongs to.\n",
    "> bin 容器; \n",
    "\n",
    "### Clip\n",
    "Use np.clip to cap the numbers within a given cutoff range. All number lesser than the lower limit will be replaced by the lower limit. Same applies to the upper limit also.\n",
    "\n",
    "> clip 剪短;cap 限制;cutoff 提供\n",
    "\n",
    "\n",
    "### Histogram and Bincount\n",
    "Both histogram() and bincount() gives the frequency of occurrences. But with certain differences. While histogram() gives the frequency counts of the bins, bincount() gives the frequency count of all the elements in the range of the array between the min and max values. Including the values that did not occur.\n",
    "\n",
    "> occurrences 存在的数量;occur 存在\n",
    "\n",
    "\n",
    "> https://www.machinelearningplus.com/python/numpy-tutorial-python-part2/"
   ]
  },
  {
   "cell_type": "code",
   "execution_count": null,
   "metadata": {},
   "outputs": [],
   "source": [
    "# where \n",
    "a=np.random.randint(1,4,size=10)\n",
    "# using take extract value\n",
    "a[np.where(a>2)],a.take(np.where(a>2))\n",
    "\n",
    "np.where(a>2,'gt2','le2')"
   ]
  },
  {
   "cell_type": "code",
   "execution_count": null,
   "metadata": {},
   "outputs": [],
   "source": [
    "# sort\n",
    "matrix=np.random.randint(1,20,size=20)\n",
    "\n",
    "matrix=matrix.reshape(4,-1)\n",
    "# sort arr by column \n",
    "matrix[matrix[:,0].argsort()]"
   ]
  },
  {
   "cell_type": "code",
   "execution_count": null,
   "metadata": {},
   "outputs": [],
   "source": [
    "index=np.lexsort((matrix[:,1],matrix[:,3]))\n",
    "matrix[index]"
   ]
  },
  {
   "cell_type": "code",
   "execution_count": null,
   "metadata": {},
   "outputs": [],
   "source": [
    "# 先排1列,如果第一列相同,在按照第二列的排序,排序列一般在最右边\n",
    "index=np.lexsort((matrix[:,-1],matrix[:,0]))\n",
    "matrix[index]\n"
   ]
  },
  {
   "cell_type": "code",
   "execution_count": null,
   "metadata": {},
   "outputs": [],
   "source": [
    "# datetime64\n",
    "np.datetime64('2024-01-01 12:01:01')\n",
    "\n",
    "np.arange(np.datetime64('2024-01-01 12:01:01'),np.datetime64('2024-01-10 12:01:01'))"
   ]
  },
  {
   "cell_type": "code",
   "execution_count": null,
   "metadata": {},
   "outputs": [],
   "source": [
    "# vectorize\n",
    "\n",
    "def mmax(a,b):\n",
    "    return a if a>b else b\n",
    "\n",
    "a=np.random.randint(1,9,size=4)\n",
    "b=np.random.randint(1,9,size=4)\n",
    "\n",
    "# 让函数支持向量化\n",
    "v_mmax=np.vectorize(mmax)\n",
    "\n",
    "v_mmax(a,b),a,b"
   ]
  },
  {
   "cell_type": "code",
   "execution_count": null,
   "metadata": {},
   "outputs": [],
   "source": [
    "# searchsort\n",
    "\n",
    "a=np.arange(1,10)\n",
    "\n",
    "np.searchsorted(a,9),np.searchsorted(a,9,side='right')\n",
    "\n",
    "# clip\n",
    "np.clip(a,3,8)"
   ]
  },
  {
   "cell_type": "code",
   "execution_count": null,
   "metadata": {},
   "outputs": [],
   "source": [
    "x = np.array([1,1,2,2,2,4,4,5,6,6,6])\n",
    "\n",
    "np.bincount(x) # 0 occurs 0 times, 1 occurs 2 times, 2 occurs thrice, 3 occurs 0 times,\n",
    "\n",
    "\n",
    "# Histogram example  bins=[]\n",
    "counts, bins = np.histogram(x, [0, 2, 4, 6, 8])\n",
    "print('Counts: ', counts)\n",
    "print('Bins: ', bins)"
   ]
  }
 ],
 "metadata": {
  "kernelspec": {
   "display_name": "base",
   "language": "python",
   "name": "python3"
  },
  "language_info": {
   "codemirror_mode": {
    "name": "ipython",
    "version": 3
   },
   "file_extension": ".py",
   "mimetype": "text/x-python",
   "name": "python",
   "nbconvert_exporter": "python",
   "pygments_lexer": "ipython3",
   "version": "3.11.5"
  }
 },
 "nbformat": 4,
 "nbformat_minor": 2
}
