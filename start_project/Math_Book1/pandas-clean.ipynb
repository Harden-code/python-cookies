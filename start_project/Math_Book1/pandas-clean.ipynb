{
 "cells": [
  {
   "cell_type": "markdown",
   "metadata": {},
   "source": [
    "## 数据清理"
   ]
  },
  {
   "cell_type": "code",
   "execution_count": 2,
   "metadata": {},
   "outputs": [],
   "source": [
    "import pandas as pd\n",
    "import numpy as np"
   ]
  },
  {
   "cell_type": "markdown",
   "metadata": {},
   "source": [
    "### none处理方法\n",
    "判断方法:\n",
    "- isna\n",
    "- isnull\n",
    "- notna \n",
    "\n",
    "替换方法:\n",
    "- dropna\n",
    "- fillna"
   ]
  },
  {
   "cell_type": "code",
   "execution_count": 8,
   "metadata": {},
   "outputs": [
    {
     "data": {
      "text/plain": [
       "(0    a\n",
       " 1    b\n",
       " 2    c\n",
       " 3    1\n",
       " dtype: object,\n",
       " 0    a\n",
       " 1    b\n",
       " 2    c\n",
       " dtype: object)"
      ]
     },
     "execution_count": 8,
     "metadata": {},
     "output_type": "execute_result"
    }
   ],
   "source": [
    "# Series对象\n",
    "s=pd.Series(data=['a','b','c',np.nan])\n",
    "\n",
    "s.isna(),s.isnull(),s.notna()\n",
    "\n",
    "s.fillna(1),s.dropna()"
   ]
  },
  {
   "cell_type": "markdown",
   "metadata": {},
   "source": [
    "### 处理重复数据\n",
    "- duplicated方法返回Series,反应了一行是否存在重复\n",
    "\n",
    "- drop_duplicates返会dupliated返回为false的部分\n",
    "\n",
    "这两个函数保留第一个观测到的值,可以通过keep='last'返回最后一个保留"
   ]
  }
 ],
 "metadata": {
  "kernelspec": {
   "display_name": "base",
   "language": "python",
   "name": "python3"
  },
  "language_info": {
   "codemirror_mode": {
    "name": "ipython",
    "version": 3
   },
   "file_extension": ".py",
   "mimetype": "text/x-python",
   "name": "python",
   "nbconvert_exporter": "python",
   "pygments_lexer": "ipython3",
   "version": "3.11.5"
  }
 },
 "nbformat": 4,
 "nbformat_minor": 2
}
