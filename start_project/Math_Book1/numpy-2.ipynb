{
 "cells": [
  {
   "cell_type": "code",
   "execution_count": 2,
   "metadata": {},
   "outputs": [],
   "source": [
    "import numpy as np"
   ]
  },
  {
   "cell_type": "markdown",
   "metadata": {},
   "source": [
    "### 整形"
   ]
  },
  {
   "cell_type": "code",
   "execution_count": 4,
   "metadata": {},
   "outputs": [
    {
     "data": {
      "text/plain": [
       "(array([[1, 2],\n",
       "        [3, 4],\n",
       "        [5, 6]]),\n",
       " array([[[[1, 2],\n",
       "          [3, 4],\n",
       "          [5, 6]]]]),\n",
       " array([[[[1],\n",
       "          [2]],\n",
       " \n",
       "         [[3],\n",
       "          [4]],\n",
       " \n",
       "         [[5],\n",
       "          [6]]]]))"
      ]
     },
     "execution_count": 4,
     "metadata": {},
     "output_type": "execute_result"
    }
   ],
   "source": [
    "# 特殊索引np.newaxis,用于增加数组维度;squeeze删除维度简化形状\n",
    "a=np.linspace(-5,5,11)\n",
    "\n",
    "a[np.newaxis,:]\n",
    "# a[:,np.newaxis]\n",
    "\n",
    "a.squeeze()\n",
    "\n",
    "b=np.array([[[1,2],[3,4],[5,6]]])\n",
    "np.squeeze(b),b[np.newaxis,:],b[...,np.newaxis]"
   ]
  },
  {
   "cell_type": "code",
   "execution_count": 35,
   "metadata": {},
   "outputs": [
    {
     "data": {
      "text/plain": [
       "array([[-5.],\n",
       "       [-4.],\n",
       "       [-3.],\n",
       "       [-2.],\n",
       "       [-1.],\n",
       "       [ 0.],\n",
       "       [ 1.],\n",
       "       [ 2.],\n",
       "       [ 3.],\n",
       "       [ 4.],\n",
       "       [ 5.]])"
      ]
     },
     "execution_count": 35,
     "metadata": {},
     "output_type": "execute_result"
    }
   ],
   "source": [
    "# reshape调整形态 -1表示根据上下文估算\n",
    "a.reshape(1,-1)\n",
    "a.reshape(-1,1)"
   ]
  },
  {
   "cell_type": "code",
   "execution_count": 37,
   "metadata": {},
   "outputs": [
    {
     "data": {
      "text/plain": [
       "array([[-5., -4., -3., -2., -1.,  0.,  1.,  2.,  3.,  4.,  5.]])"
      ]
     },
     "execution_count": 37,
     "metadata": {},
     "output_type": "execute_result"
    }
   ],
   "source": [
    "# 使用None调整\n",
    "a[:,None]\n",
    "a[None,:]"
   ]
  },
  {
   "cell_type": "markdown",
   "metadata": {},
   "source": [
    "### 索引和切片"
   ]
  },
  {
   "cell_type": "code",
   "execution_count": 33,
   "metadata": {},
   "outputs": [
    {
     "data": {
      "text/plain": [
       "array([-5., -4., -3.,  5.])"
      ]
     },
     "execution_count": 33,
     "metadata": {},
     "output_type": "execute_result"
    }
   ],
   "source": [
    "# 索引和切片\n",
    "a=np.linspace(-5,5,11)\n",
    "\n",
    "# 嵌套数组取对应下标\n",
    "a[[0,1,2,-1]]\n",
    "\n"
   ]
  },
  {
   "cell_type": "code",
   "execution_count": 40,
   "metadata": {},
   "outputs": [
    {
     "data": {
      "text/plain": [
       "(array([-4., -2.,  0.,  2.,  4.]), array([-5., -3., -1.,  1.,  3.,  5.]))"
      ]
     },
     "execution_count": 40,
     "metadata": {},
     "output_type": "execute_result"
    }
   ],
   "source": [
    "# 取奇偶下标\n",
    "a[1::2],a[0::2]"
   ]
  },
  {
   "cell_type": "code",
   "execution_count": 38,
   "metadata": {},
   "outputs": [
    {
     "data": {
      "text/plain": [
       "array([1., 2., 3., 4., 5.])"
      ]
     },
     "execution_count": 38,
     "metadata": {},
     "output_type": "execute_result"
    }
   ],
   "source": [
    "# bool索引\n",
    "a[a>0]"
   ]
  },
  {
   "cell_type": "code",
   "execution_count": 73,
   "metadata": {},
   "outputs": [
    {
     "data": {
      "text/plain": [
       "(array([-5., -4., -3.,  5.]),\n",
       " array([-5., -4., -3.,  5.]),\n",
       " array([[-5., -4., -3.],\n",
       "        [ 3.,  4.,  5.]]))"
      ]
     },
     "execution_count": 73,
     "metadata": {},
     "output_type": "execute_result"
    }
   ],
   "source": [
    "# 索引\n",
    "# np.r_用于将切片对象转换为沿着第一个轴叠加的数组\n",
    "np.r_[0:3,-1]\n",
    "# concatenate和vstack效果相同\n",
    "a[np.r_[0:3,-1]],np.concatenate((a[0:3],a[-1:])),np.vstack((a[0:3],a[-3:]))"
   ]
  },
  {
   "cell_type": "markdown",
   "metadata": {},
   "source": [
    "### 视图和副本"
   ]
  },
  {
   "cell_type": "code",
   "execution_count": 5,
   "metadata": {},
   "outputs": [
    {
     "data": {
      "text/plain": [
       "(True,\n",
       " array([[-5., -4., -3., -2., -1.,  0.,  1.,  2.,  3.,  4.,  5.],\n",
       "        [-5., -4., -3., -2., -1.,  0.,  1.,  2.,  3.,  4.,  5.]]))"
      ]
     },
     "execution_count": 5,
     "metadata": {},
     "output_type": "execute_result"
    }
   ],
   "source": [
    "# 视图和副本\n",
    "# copy函数生成副本\n",
    "# 可以用may_share_memory来判断是否共享内存\n",
    "a=np.linspace(-5,5,11)\n",
    "b=np.vstack((a[:],a[:]))\n",
    "\n",
    "np.may_share_memory(a,a[:]),b"
   ]
  },
  {
   "cell_type": "markdown",
   "metadata": {},
   "source": [
    "### 二维索引和切片"
   ]
  },
  {
   "cell_type": "code",
   "execution_count": null,
   "metadata": {},
   "outputs": [],
   "source": [
    "# 二维数组索引和切片"
   ]
  },
  {
   "cell_type": "code",
   "execution_count": 83,
   "metadata": {},
   "outputs": [],
   "source": [
    "a2d = np.array([[-7,-6,-5,-4,-3],\n",
    "                 [-2,-1, 0, 1, 2],\n",
    "                 [ 3, 4, 5, 6, 7]])"
   ]
  },
  {
   "cell_type": "code",
   "execution_count": 86,
   "metadata": {},
   "outputs": [
    {
     "data": {
      "text/plain": [
       "(-7, -7)"
      ]
     },
     "execution_count": 86,
     "metadata": {},
     "output_type": "execute_result"
    }
   ],
   "source": [
    "# 取一个元素\n",
    "a2d[0][0],a2d[0,0]"
   ]
  },
  {
   "cell_type": "code",
   "execution_count": 87,
   "metadata": {},
   "outputs": [
    {
     "data": {
      "text/plain": [
       "array([-7])"
      ]
     },
     "execution_count": 87,
     "metadata": {},
     "output_type": "execute_result"
    }
   ],
   "source": [
    "# 取一个元素,返回数组\n",
    "a2d[[0],[0]] # 嵌套数组取的"
   ]
  },
  {
   "cell_type": "code",
   "execution_count": 89,
   "metadata": {},
   "outputs": [
    {
     "data": {
      "text/plain": [
       "array([-7, -2,  3])"
      ]
     },
     "execution_count": 89,
     "metadata": {},
     "output_type": "execute_result"
    }
   ],
   "source": [
    "# 取列\n",
    "a2d[:,0]"
   ]
  },
  {
   "cell_type": "code",
   "execution_count": 88,
   "metadata": {},
   "outputs": [
    {
     "data": {
      "text/plain": [
       "array([-7, -6, -5, -4, -3])"
      ]
     },
     "execution_count": 88,
     "metadata": {},
     "output_type": "execute_result"
    }
   ],
   "source": [
    "# 取行\n",
    "a2d[0]"
   ]
  },
  {
   "cell_type": "code",
   "execution_count": 92,
   "metadata": {},
   "outputs": [
    {
     "data": {
      "text/plain": [
       "(array([[-7, -6, -5, -4, -3]]), array([[-7, -6, -5, -4, -3]]))"
      ]
     },
     "execution_count": 92,
     "metadata": {},
     "output_type": "execute_result"
    }
   ],
   "source": [
    "# 取出第一行,结果为二维数组\n",
    "a2d[[0],:],a2d[0,np.newaxis]"
   ]
  },
  {
   "cell_type": "code",
   "execution_count": 115,
   "metadata": {},
   "outputs": [
    {
     "data": {
      "text/plain": [
       "array([[-7, -6],\n",
       "       [ 3,  4]])"
      ]
     },
     "execution_count": 115,
     "metadata": {},
     "output_type": "execute_result"
    }
   ],
   "source": [
    "# np.ix_\n",
    "a2d[np.ix_([0,2],[0,2])] # 取0,2行 再取0,2列\n",
    "a2d[[0,2],:][:,0:2] # 先去2行得到一个子矩阵,在从这个矩阵里继续取"
   ]
  },
  {
   "cell_type": "markdown",
   "metadata": {},
   "source": [
    "更多有关NumPy索引和切片，请参考：  \n",
    "https://numpy.org/doc/stable/user/how-to-index.html  \n",
    "https://numpy.org/doc/stable/user/basics.indexing.html\n",
    "https://www.numpy.org.cn/article/advanced/numpy_exercises_for_data_analysis.html\n"
   ]
  }
 ],
 "metadata": {
  "kernelspec": {
   "display_name": "base",
   "language": "python",
   "name": "python3"
  },
  "language_info": {
   "codemirror_mode": {
    "name": "ipython",
    "version": 3
   },
   "file_extension": ".py",
   "mimetype": "text/x-python",
   "name": "python",
   "nbconvert_exporter": "python",
   "pygments_lexer": "ipython3",
   "version": "3.11.5"
  }
 },
 "nbformat": 4,
 "nbformat_minor": 2
}
