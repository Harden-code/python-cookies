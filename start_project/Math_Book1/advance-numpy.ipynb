{
 "cells": [
  {
   "cell_type": "code",
   "execution_count": 2,
   "metadata": {},
   "outputs": [],
   "source": [
    "import numpy as np "
   ]
  },
  {
   "cell_type": "code",
   "execution_count": 6,
   "metadata": {},
   "outputs": [
    {
     "data": {
      "text/plain": [
       "array([1, 3, 5, 7, 9])"
      ]
     },
     "execution_count": 6,
     "metadata": {},
     "output_type": "execute_result"
    }
   ],
   "source": [
    "# 从 arr 中提取所有的奇数\n",
    "arr = np.array([0, 1, 2, 3, 4, 5, 6, 7, 8, 9])\n",
    "\n",
    "arr[arr%2==1]"
   ]
  },
  {
   "cell_type": "code",
   "execution_count": 11,
   "metadata": {},
   "outputs": [
    {
     "data": {
      "text/plain": [
       "(array([-1,  1,  0,  1,  0,  1,  0,  1,  0,  1]), False)"
      ]
     },
     "execution_count": 11,
     "metadata": {},
     "output_type": "execute_result"
    }
   ],
   "source": [
    "# 将arr中的所有奇数替换为-1\n",
    "arr = np.array([0, 1, 2, 3, 4, 5, 6, 7, 8, 9])\n",
    "\n",
    "arr[arr%2==1]=-1\n",
    "arr\n",
    "\n",
    "# 将arr中的所有奇数替换为-1，而不改变arr\n",
    "t=arr.copy()\n",
    "t[t%2==1]=-1\n",
    "t,np.shares_memory(t,arr)\n",
    "\n",
    "t1=np.where(arr,arr%2==1,-1) # where会生成新的副本\n",
    "t1,np.shares_memory(t1,arr)"
   ]
  },
  {
   "cell_type": "code",
   "execution_count": 12,
   "metadata": {},
   "outputs": [
    {
     "data": {
      "text/plain": [
       "array([[0, 1, 2, 3, 4],\n",
       "       [5, 6, 7, 8, 9]])"
      ]
     },
     "execution_count": 12,
     "metadata": {},
     "output_type": "execute_result"
    }
   ],
   "source": [
    "# 将一维数组转换为2行的2维数组\n",
    "arr =np.arange(10)\n",
    "\n",
    "arr.reshape(2,-1)"
   ]
  },
  {
   "cell_type": "code",
   "execution_count": 4,
   "metadata": {},
   "outputs": [
    {
     "data": {
      "text/plain": [
       "(array([[0, 1, 2, 3, 4],\n",
       "        [5, 6, 7, 8, 9],\n",
       "        [1, 1, 1, 1, 1],\n",
       "        [1, 1, 1, 1, 1]]),\n",
       " array([[0, 1, 2, 3, 4],\n",
       "        [5, 6, 7, 8, 9],\n",
       "        [1, 1, 1, 1, 1],\n",
       "        [1, 1, 1, 1, 1]]),\n",
       " array([[0, 1, 2, 3, 4],\n",
       "        [5, 6, 7, 8, 9],\n",
       "        [1, 1, 1, 1, 1],\n",
       "        [1, 1, 1, 1, 1]]))"
      ]
     },
     "execution_count": 4,
     "metadata": {},
     "output_type": "execute_result"
    }
   ],
   "source": [
    "# 垂直堆叠数组a和数组b\n",
    "# dim必须相同\n",
    "a = np.arange(10).reshape(2,-1)\n",
    "b = np.repeat(1, 10).reshape(2,-1)\n",
    "\n",
    "np.vstack((a,b)),np.concatenate([a,b],axis=0),np.r_[a,b]"
   ]
  },
  {
   "cell_type": "code",
   "execution_count": 32,
   "metadata": {},
   "outputs": [
    {
     "data": {
      "text/plain": [
       "array([[0, 1, 2, 3, 4, 1, 1, 1, 1, 1],\n",
       "       [5, 6, 7, 8, 9, 1, 1, 1, 1, 1]])"
      ]
     },
     "execution_count": 32,
     "metadata": {},
     "output_type": "execute_result"
    }
   ],
   "source": [
    "# 将数组a和数组b水平堆叠\n",
    "a = np.arange(10).reshape(2,-1)\n",
    "\n",
    "b = np.repeat(1, 10).reshape(2,-1)\n",
    "\n",
    "np.hstack((a,b))\n",
    "\n",
    "np.concatenate((a,b),axis=1)\n",
    "\n",
    "np.c_[a,b]"
   ]
  },
  {
   "cell_type": "code",
   "execution_count": 36,
   "metadata": {},
   "outputs": [
    {
     "data": {
      "text/plain": [
       "array([1, 1, 1, 2, 2, 2, 3, 3, 3, 1, 2, 3, 1, 2, 3, 1, 2, 3])"
      ]
     },
     "execution_count": 36,
     "metadata": {},
     "output_type": "execute_result"
    }
   ],
   "source": [
    "# > array([1, 1, 1, 2, 2, 2, 3, 3, 3, 1, 2, 3, 1, 2, 3, 1, 2, 3])\n",
    "a = np.array([1,2,3])\n",
    "\n",
    "np.r_[np.repeat(a,3),np.tile(a,3)]"
   ]
  },
  {
   "cell_type": "code",
   "execution_count": 46,
   "metadata": {},
   "outputs": [
    {
     "data": {
      "text/plain": [
       "array([2, 4])"
      ]
     },
     "execution_count": 46,
     "metadata": {},
     "output_type": "execute_result"
    }
   ],
   "source": [
    "# 获取数组a和数组b之间的公共项\n",
    "a = np.array([1,2,3,2,3,4,3,4,5,6])\n",
    "b = np.array([7,2,10,2,7,4,9,4,9,8])\n",
    "np.intersect1d(a,b) #intersect 交集\n",
    "# np.unique 并集"
   ]
  },
  {
   "cell_type": "code",
   "execution_count": 47,
   "metadata": {},
   "outputs": [
    {
     "data": {
      "text/plain": [
       "array([1, 2, 3, 4])"
      ]
     },
     "execution_count": 47,
     "metadata": {},
     "output_type": "execute_result"
    }
   ],
   "source": [
    "# 从数组a中删除数组b中的所有项\n",
    "a = np.array([1,2,3,4,5])\n",
    "b = np.array([5,6,7,8,9])\n",
    "\n",
    "np.setdiff1d(a,b) # setdiff1d 差集"
   ]
  },
  {
   "cell_type": "code",
   "execution_count": 50,
   "metadata": {},
   "outputs": [
    {
     "data": {
      "text/plain": [
       "(array([1, 3, 5, 7]),)"
      ]
     },
     "execution_count": 50,
     "metadata": {},
     "output_type": "execute_result"
    }
   ],
   "source": [
    "# 获取a和b元素匹配的位置\n",
    "\n",
    "a = np.array([1,2,3,2,3,4,3,4,5,6])\n",
    "b = np.array([7,2,10,2,7,4,9,4,9,8])\n",
    "\n",
    "np.where(a==b) # where 返回的下标"
   ]
  },
  {
   "cell_type": "code",
   "execution_count": 62,
   "metadata": {},
   "outputs": [
    {
     "data": {
      "text/plain": [
       "array([ 6,  9, 10])"
      ]
     },
     "execution_count": 62,
     "metadata": {},
     "output_type": "execute_result"
    }
   ],
   "source": [
    "# 获取5到10之间的所有项目\n",
    "\n",
    "a = np.array([2, 6, 1, 9, 10, 3, 27])\n",
    "\n",
    "# 1\n",
    "a[np.where((a>=5) & (a<=10))]\n",
    "\n",
    "# 2\n",
    "a[np.where(np.logical_and(a>=5,a<=10))]\n",
    "\n",
    "# 3\n",
    "a[(a>=5) & (a<=10)]\n"
   ]
  },
  {
   "cell_type": "code",
   "execution_count": 2,
   "metadata": {},
   "outputs": [
    {
     "data": {
      "text/plain": [
       "array([6., 7., 9., 8., 9., 7., 5.])"
      ]
     },
     "execution_count": 2,
     "metadata": {},
     "output_type": "execute_result"
    }
   ],
   "source": [
    "# 转换适用于两个标量的函数maxx，以处理两个数组\n",
    "a = np.array([5, 7, 9, 8, 6, 4, 5])\n",
    "b = np.array([6, 3, 4, 8, 9, 7, 1])\n",
    "def maxx(x, y):\n",
    "    \"\"\"Get the maximum of two items\"\"\"\n",
    "    if x >= y:\n",
    "        return x\n",
    "    else:\n",
    "        return y\n",
    "''' \n",
    "Define a vectorized function which takes a nested sequence of objects or numpy arrays as \n",
    "inputs and returns a single numpy array or a tuple of numpy arrays. The vectorized function \n",
    "evaluates pyfunc over successive tuples of the input arrays like the python map function, \n",
    "except it uses the broadcasting rules of nump\n",
    "'''   \n",
    "\n",
    "pair_max = np.vectorize(maxx, otypes=[float])\n",
    "\n",
    "pair_max(a,b)\n"
   ]
  },
  {
   "cell_type": "code",
   "execution_count": 23,
   "metadata": {},
   "outputs": [
    {
     "data": {
      "text/plain": [
       "array([[1, 0, 2],\n",
       "       [4, 3, 5],\n",
       "       [7, 6, 8]])"
      ]
     },
     "execution_count": 23,
     "metadata": {},
     "output_type": "execute_result"
    }
   ],
   "source": [
    "# 在数组arr中交换列1和2。\n",
    "arr = np.arange(9).reshape(3,3)\n",
    "\n",
    "arr[:,[1,0,2]]"
   ]
  },
  {
   "cell_type": "code",
   "execution_count": 24,
   "metadata": {},
   "outputs": [
    {
     "data": {
      "text/plain": [
       "array([[3, 4, 5],\n",
       "       [0, 1, 2],\n",
       "       [6, 7, 8]])"
      ]
     },
     "execution_count": 24,
     "metadata": {},
     "output_type": "execute_result"
    }
   ],
   "source": [
    "# 交换数组arr中的第1和第2行\n",
    "arr = np.arange(9).reshape(3,3)\n",
    "\n",
    "arr[[1,0,2],:]"
   ]
  },
  {
   "cell_type": "code",
   "execution_count": 27,
   "metadata": {},
   "outputs": [
    {
     "data": {
      "text/plain": [
       "array([[6, 7, 8],\n",
       "       [3, 4, 5],\n",
       "       [0, 1, 2]])"
      ]
     },
     "execution_count": 27,
     "metadata": {},
     "output_type": "execute_result"
    }
   ],
   "source": [
    "# 反转二维数组arr的行\n",
    "arr = np.arange(9).reshape(3,3)\n",
    "\n",
    "arr[::-1]"
   ]
  },
  {
   "cell_type": "code",
   "execution_count": 28,
   "metadata": {},
   "outputs": [
    {
     "data": {
      "text/plain": [
       "array([[2, 1, 0],\n",
       "       [5, 4, 3],\n",
       "       [8, 7, 6]])"
      ]
     },
     "execution_count": 28,
     "metadata": {},
     "output_type": "execute_result"
    }
   ],
   "source": [
    "# 反转二维数组arr的列\n",
    "\n",
    "arr = np.arange(9).reshape(3,3)\n",
    "\n",
    "arr[...,::-1]"
   ]
  },
  {
   "cell_type": "code",
   "execution_count": 32,
   "metadata": {},
   "outputs": [
    {
     "data": {
      "text/plain": [
       "array([[6.49551223, 6.88437036, 9.2429001 ],\n",
       "       [7.09356481, 6.68276593, 7.31474126],\n",
       "       [8.5851779 , 7.73493304, 7.62629723],\n",
       "       [9.91731638, 7.55649556, 7.04716298],\n",
       "       [6.30662383, 7.81423917, 9.08100919]])"
      ]
     },
     "execution_count": 32,
     "metadata": {},
     "output_type": "execute_result"
    }
   ],
   "source": [
    "# 创建一个形状为5x3的二维数组，以包含5到10之间的随机十进制数\n",
    "np.random.randint(5,10,15).reshape(5,-1)+np.random.random((5,3))\n",
    "\n",
    "np.random.uniform(5,10,(5,3))"
   ]
  },
  {
   "cell_type": "code",
   "execution_count": 33,
   "metadata": {},
   "outputs": [
    {
     "data": {
      "text/plain": [
       "array([[0.987, 0.605, 0.292],\n",
       "       [0.183, 0.66 , 0.251],\n",
       "       [0.607, 0.082, 0.825],\n",
       "       [0.394, 0.876, 0.797],\n",
       "       [0.816, 0.415, 0.67 ]])"
      ]
     },
     "execution_count": 33,
     "metadata": {},
     "output_type": "execute_result"
    }
   ],
   "source": [
    "# 只打印或显示numpy数组rand_arr的小数点后3位\n",
    "\n",
    "rand_arr = np.random.random((5,3))\n",
    "\n",
    "np.set_printoptions(precision=3)\n",
    "rand_arr"
   ]
  },
  {
   "cell_type": "code",
   "execution_count": 34,
   "metadata": {},
   "outputs": [
    {
     "data": {
      "text/plain": [
       "array([[5.434e-04, 2.784e-04, 4.245e-04],\n",
       "       [8.448e-04, 4.719e-06, 1.216e-04],\n",
       "       [6.707e-04, 8.259e-04, 1.367e-04]])"
      ]
     },
     "execution_count": 34,
     "metadata": {},
     "output_type": "execute_result"
    }
   ],
   "source": [
    "# 通过e式科学记数法来打印rand_arr\n",
    "np.random.seed(100)\n",
    "rand_arr = np.random.random([3,3])/1e3\n",
    "# suppress 抑制\n",
    "np.set_printoptions(suppress=False)\n",
    "\n",
    "rand_arr"
   ]
  },
  {
   "cell_type": "code",
   "execution_count": 36,
   "metadata": {},
   "outputs": [
    {
     "data": {
      "text/plain": [
       "array([ 0,\n",
       "        1,\n",
       "        2,\n",
       "       ...,\n",
       "       12,\n",
       "       13,\n",
       "       14])"
      ]
     },
     "execution_count": 36,
     "metadata": {},
     "output_type": "execute_result"
    }
   ],
   "source": [
    "# 将numpy数组a中打印的项数限制为最多6个元素\n",
    "np.set_printoptions(threshold=6)\n",
    "a = np.arange(15)\n",
    "a\n",
    "\n",
    "# 打印完整的numpy数组a而不截断\n"
   ]
  },
  {
   "cell_type": "code",
   "execution_count": 4,
   "metadata": {},
   "outputs": [
    {
     "data": {
      "text/plain": [
       "array([[b'5.1', b'3.5', b'1.4', b'0.2', b'Iris-setosa'],\n",
       "       [b'4.9', b'3.0', b'1.4', b'0.2', b'Iris-setosa']], dtype=object)"
      ]
     },
     "execution_count": 4,
     "metadata": {},
     "output_type": "execute_result"
    }
   ],
   "source": [
    "# 导入鸢尾属植物数据集，保持文本不变\n",
    "\n",
    "url = 'https://archive.ics.uci.edu/ml/machine-learning-databases/iris/iris.data'\n",
    "# genfromtxt 导入文本\n",
    "iris = np.genfromtxt(url, delimiter=',', dtype='object')\n",
    "names = ('sepallength', 'sepalwidth', 'petallength', 'petalwidth', 'species')\n",
    "iris[:2]"
   ]
  },
  {
   "cell_type": "code",
   "execution_count": 46,
   "metadata": {},
   "outputs": [
    {
     "data": {
      "text/plain": [
       "[b'Iris-setosa', b'Iris-setosa']"
      ]
     },
     "execution_count": 46,
     "metadata": {},
     "output_type": "execute_result"
    }
   ],
   "source": [
    "# 从前面问题中导入的一维鸢尾属植物数据集中提取文本列的物种\n",
    "iris=np.genfromtxt(url,delimiter=',',dtype='object')\n",
    "iris.ndim\n",
    "np.squeeze(iris[:,[4]])\n",
    "[row[4] for row in iris][:2]\n"
   ]
  },
  {
   "cell_type": "code",
   "execution_count": 55,
   "metadata": {},
   "outputs": [
    {
     "data": {
      "text/plain": [
       "array([[5.1, 3.5, 1.4, 0.2],\n",
       "       [4.9, 3. , 1.4, 0.2],\n",
       "       [4.7, 3.2, 1.3, 0.2],\n",
       "       ...,\n",
       "       [6.5, 3. , 5.2, 2. ],\n",
       "       [6.2, 3.4, 5.4, 2.3],\n",
       "       [5.9, 3. , 5.1, 1.8]])"
      ]
     },
     "execution_count": 55,
     "metadata": {},
     "output_type": "execute_result"
    }
   ],
   "source": [
    "# 通过省略鸢尾属植物数据集种类的文本字段，将一维鸢尾属植物数据集转换为二维数组iris_2d\n",
    "np.array([row.tolist()[:4] for row in iris],dtype='float')\n",
    "\n",
    "np.genfromtxt(url,delimiter=',',dtype='float',usecols=[0,1,2,3])"
   ]
  },
  {
   "cell_type": "code",
   "execution_count": 58,
   "metadata": {},
   "outputs": [
    {
     "data": {
      "text/plain": [
       "(5.843333333333334, 5.8, 0.8253012917851409)"
      ]
     },
     "execution_count": 58,
     "metadata": {},
     "output_type": "execute_result"
    }
   ],
   "source": [
    "# 求出鸢尾属植物萼片长度的平均值、中位数和标准差(第1列)\n",
    "d=np.genfromtxt(url,delimiter=',',dtype='float',usecols=[0])\n",
    "# 平均数(mean)  中位数(median) 标准差(standard deviation)\n",
    "np.mean(d),np.median(d),np.std(d)"
   ]
  },
  {
   "cell_type": "code",
   "execution_count": 61,
   "metadata": {},
   "outputs": [
    {
     "data": {
      "text/plain": [
       "array([0.222, 0.167, 0.111, ..., 0.611, 0.528, 0.444])"
      ]
     },
     "execution_count": 61,
     "metadata": {},
     "output_type": "execute_result"
    }
   ],
   "source": [
    "# 创建一种标准化形式的鸢尾属植物间隔长度，其值正好介于0和1之间，这样最小值为0，最大值为1。\n",
    "d=np.genfromtxt(url,delimiter=',',dtype='float',usecols=[0])\n",
    "dmax,dmin=d.max(),d.min()\n",
    "\n",
    "(d-dmin)/(dmax-dmin)\n",
    "\n",
    "(d-dmin)/d.ptp()"
   ]
  },
  {
   "cell_type": "code",
   "execution_count": null,
   "metadata": {},
   "outputs": [],
   "source": [
    "# 计算sepallength的softmax分数\n"
   ]
  },
  {
   "cell_type": "code",
   "execution_count": 5,
   "metadata": {},
   "outputs": [
    {
     "data": {
      "text/plain": [
       "array([4.6  , 7.255])"
      ]
     },
     "execution_count": 5,
     "metadata": {},
     "output_type": "execute_result"
    }
   ],
   "source": [
    "# 找到鸢尾属植物数据集的第5和第95百分位数\n",
    "d=np.genfromtxt(url,delimiter=',',usecols=[0],dtype='float')\n",
    "np.percentile(d,q=[5,95]) # percentile 百分位"
   ]
  },
  {
   "cell_type": "code",
   "execution_count": 26,
   "metadata": {},
   "outputs": [
    {
     "data": {
      "text/plain": [
       "array([b'1.5', b'6.7', b'1.2', b'1.2', b'7.2', b'6.7', b'4.6', b'3.6',\n",
       "       b'3.5', b'3.1', b'3.0', b'2.8', b'3.4', b'7.3', b'3.2', b'2.9',\n",
       "       b'0.2', b'2.5', b'6.7', b'4.9'], dtype=object)"
      ]
     },
     "execution_count": 26,
     "metadata": {},
     "output_type": "execute_result"
    }
   ],
   "source": [
    "# 在iris_2d数据集中的20个随机位置插入np.nan值\n",
    "d=np.genfromtxt(url,delimiter=',',dtype='object')\n",
    "# 不加condi返回mesh grid\n",
    "# method 1\n",
    "i,j=np.where(d)\n",
    "np.random.seed=100\n",
    "d[np.random.choice(i,20),np.random.choice(j,20)]=np.nan\n",
    "d[0:20]\n",
    "\n",
    "# method 2\n",
    "np.random.seed=100\n",
    "d[np.random.randint(150,size=20),np.random.randint(4,size=20)]=np.nan\n"
   ]
  },
  {
   "cell_type": "code",
   "execution_count": 30,
   "metadata": {},
   "outputs": [
    {
     "data": {
      "text/plain": [
       "((array([ 48,  55,  84, 110, 120]),), 5)"
      ]
     },
     "execution_count": 30,
     "metadata": {},
     "output_type": "execute_result"
    }
   ],
   "source": [
    "# 在iris_2d的sepallength中查找缺失值的数量和位置（第1列）\n",
    "iris_2d = np.genfromtxt(url, delimiter=',', dtype='float')\n",
    "iris_2d[np.random.randint(150, size=20), np.random.randint(4, size=20)] = np.nan\n",
    "\n",
    "np.where(np.isnan(iris_2d[:,0])),np.isnan(iris_2d[:,0]).sum()"
   ]
  },
  {
   "cell_type": "code",
   "execution_count": 46,
   "metadata": {},
   "outputs": [
    {
     "data": {
      "text/plain": [
       "array([[b'4.8', b'3.4', b'1.6', b'0.2', b'Iris-setosa'],\n",
       "       [b'4.8', b'3.4', b'1.9', b'0.2', b'Iris-setosa'],\n",
       "       [b'4.7', b'3.2', b'1.6', b'0.2', b'Iris-setosa'],\n",
       "       [b'4.8', b'3.1', b'1.6', b'0.2', b'Iris-setosa'],\n",
       "       [b'4.9', b'2.4', b'3.3', b'1.0', b'Iris-versicolor'],\n",
       "       [b'4.9', b'2.5', b'4.5', b'1.7', b'Iris-virginica']], dtype=object)"
      ]
     },
     "execution_count": 46,
     "metadata": {},
     "output_type": "execute_result"
    }
   ],
   "source": [
    "# 过滤具有petallength（第3列）> 1.5 和 sepallength（第1列）< 5.0 的iris_2d行\n",
    "iris_2d=np.genfromtxt(url,delimiter=',',dtype='float',usecols=[0,1,2,3])\n",
    "\n",
    "#\n",
    "iris_2d[np.where(np.logical_and(iris_2d[:,2]>1.5,iris_2d[:,1]<5.0))]\n",
    "\n",
    "condition=(iris_2d[:,2]>1.5) & (iris_2d[:,0]<5.0)\n",
    "iris[condition]"
   ]
  },
  {
   "cell_type": "code",
   "execution_count": 55,
   "metadata": {},
   "outputs": [
    {
     "data": {
      "text/plain": [
       "array([[5.1, 3.5, 1.4, 0.2],\n",
       "       [4.9, 3. , 1.4, 0.2],\n",
       "       [4.7, 3.2, 1.3, 0.2],\n",
       "       [4.6, 3.1, 1.5, 0.2],\n",
       "       [5. , 3.6, 1.4, 0.2]])"
      ]
     },
     "execution_count": 55,
     "metadata": {},
     "output_type": "execute_result"
    }
   ],
   "source": [
    "# 选择没有任何nan值的iris_2d行\n",
    "iris_2d = np.genfromtxt(url, delimiter=',', dtype='float', usecols=[0,1,2,3])\n",
    "iris_2d[np.random.randint(150, size=20), np.random.randint(4, size=20)] = np.nan\n",
    "# method 1\n",
    "data=[~np.any(np.isnan(row))for row in iris_2d]\n",
    "iris_2d[data][:5]\n",
    "\n",
    "# method 2 \n",
    "iris_2d[np.sum(np.isnan(iris_2d),axis=1)==0][:5]\n"
   ]
  },
  {
   "cell_type": "code",
   "execution_count": null,
   "metadata": {},
   "outputs": [],
   "source": [
    "#在iris_2d中找出SepalLength（第1列）和PetalLength（第3列）之间的相关性\n"
   ]
  },
  {
   "cell_type": "code",
   "execution_count": 56,
   "metadata": {},
   "outputs": [
    {
     "data": {
      "text/plain": [
       "False"
      ]
     },
     "execution_count": 56,
     "metadata": {},
     "output_type": "execute_result"
    }
   ],
   "source": [
    "# 找出iris_2d是否有任何缺失值。\n",
    "iris_2d=np.genfromtxt(url,delimiter=',',dtype='float',usecols=[0,1,2,3])\n",
    "\n",
    "np.isnan(iris_2d).any()"
   ]
  },
  {
   "cell_type": "code",
   "execution_count": 62,
   "metadata": {},
   "outputs": [],
   "source": [
    "# 在numpy数组中将所有出现的nan替换为0\n",
    "iris_2d = np.genfromtxt(url, delimiter=',', dtype='float', usecols=[0,1,2,3])\n",
    "iris_2d[np.random.randint(150, size=20), np.random.randint(4, size=20)] = np.nan\n",
    "\n",
    "# np.where(np.isnan(iris_2d),iris_2d,0)\n",
    "iris_2d[np.isnan(iris_2d)]=0\n"
   ]
  },
  {
   "cell_type": "code",
   "execution_count": 63,
   "metadata": {},
   "outputs": [
    {
     "data": {
      "text/plain": [
       "(array([b'Iris-setosa', b'Iris-versicolor', b'Iris-virginica'],\n",
       "       dtype='|S15'),\n",
       " array([50, 50, 50]))"
      ]
     },
     "execution_count": 63,
     "metadata": {},
     "output_type": "execute_result"
    }
   ],
   "source": [
    "# 找出鸢尾属植物物种中的独特值和独特值的数量\n",
    "iris = np.genfromtxt(url, delimiter=',', dtype='object')\n",
    "names = ('sepallength', 'sepalwidth', 'petallength', 'petalwidth', 'species')\n",
    "\n",
    "data=[row.tolist()[4] for row in iris]\n",
    "np.unique(data,return_counts=True)"
   ]
  },
  {
   "cell_type": "code",
   "execution_count": 66,
   "metadata": {},
   "outputs": [
    {
     "data": {
      "text/plain": [
       "['small', 'small', 'small', 'small', 'small']"
      ]
     },
     "execution_count": 66,
     "metadata": {},
     "output_type": "execute_result"
    }
   ],
   "source": [
    "# 将iris_2d的花瓣长度（第3列）加入以形成文本数组，这样如果花瓣长度为\n",
    "# Less than 3 --> 'small'\n",
    "# 3-5 --> 'medium'\n",
    "# >=5 --> 'large'\n",
    "\n",
    "iris_2d=np.genfromtxt(url,delimiter=',',dtype='float',usecols=[0,1,2,3])\n",
    "# digitize 转换\n",
    "data=np.digitize(iris_2d[:,2],[0,3,5,10])\n",
    "mapping={1:'small',2:'medium',3:'large',4:np.nan}\n",
    "\n",
    "[mapping[i] for i in data][:5]"
   ]
  },
  {
   "cell_type": "code",
   "execution_count": 93,
   "metadata": {},
   "outputs": [
    {
     "data": {
      "text/plain": [
       "array([[5.1       , 3.5       , 1.4       , 0.2       , 7.47699052],\n",
       "       [4.9       , 3.        , 1.4       , 0.2       , 7.1837752 ],\n",
       "       [4.7       , 3.2       , 1.3       , 0.2       , 6.39837704],\n",
       "       [4.6       , 3.1       , 1.5       , 0.2       , 7.2256631 ],\n",
       "       [5.        , 3.6       , 1.4       , 0.2       , 7.33038286]])"
      ]
     },
     "execution_count": 93,
     "metadata": {},
     "output_type": "execute_result"
    }
   ],
   "source": [
    "# 在iris_2d中为卷创建一个新列，其中volume是（pi x petallength x sepal_length ^ 2）/ 3\n",
    "ris_2d = np.genfromtxt(url, delimiter=',', dtype='object')\n",
    "names = ('sepallength', 'sepalwidth', 'petallength', 'petalwidth', 'species')\n",
    "\n",
    "data=(np.pi*iris_2d[:,2]*iris_2d[:,0])/3\n",
    "# dim 必须相同\n",
    "np.concatenate([iris_2d,data[:,np.newaxis]],axis=1)\n",
    "np.c_[iris_2d,data[:,np.newaxis]][:5]\n"
   ]
  },
  {
   "cell_type": "code",
   "execution_count": 95,
   "metadata": {},
   "outputs": [
    {
     "data": {
      "text/plain": [
       "array(['Iris-setosa', 'Iris-versicolor', 'Iris-setosa', 'Iris-setosa',\n",
       "       'Iris-setosa'], dtype='<U15')"
      ]
     },
     "execution_count": 95,
     "metadata": {},
     "output_type": "execute_result"
    }
   ],
   "source": [
    "# 随机抽鸢尾属植物的种类，使得刚毛的数量是云芝和维吉尼亚的两倍\n",
    "iris = np.genfromtxt(url, delimiter=',', dtype='object')\n",
    "a = np.array(['Iris-setosa', 'Iris-versicolor', 'Iris-virginica'])\n",
    "\n",
    "np.random.seed=100\n",
    "\n",
    "np.random.choice(a,150,p=[0.5,0.25,0.25])[:5]"
   ]
  },
  {
   "cell_type": "code",
   "execution_count": 97,
   "metadata": {},
   "outputs": [
    {
     "data": {
      "text/plain": [
       "1.7"
      ]
     },
     "execution_count": 97,
     "metadata": {},
     "output_type": "execute_result"
    }
   ],
   "source": [
    "# 第二长的物种setosa的值是多少\n",
    "iris = np.genfromtxt(url, delimiter=',', dtype='object')\n",
    "\n",
    "setosa=iris[iris[:,4]==b'Iris-setosa',[2]].astype('float')\n",
    "np.unique(np.sort(setosa))[-2]"
   ]
  },
  {
   "cell_type": "code",
   "execution_count": 100,
   "metadata": {},
   "outputs": [
    {
     "data": {
      "text/plain": [
       "array([[5.1, 3.5, 1. , 0.2],\n",
       "       [4.9, 3. , 1.1, 0.2],\n",
       "       [4.7, 3.2, 1.2, 0.2],\n",
       "       [4.6, 3.1, 1.2, 0.2],\n",
       "       [5.4, 3.7, 1.3, 0.2],\n",
       "       [4.9, 3.1, 1.3, 0.1],\n",
       "       [5. , 3.4, 1.3, 0.2],\n",
       "       [4.4, 2.9, 1.3, 0.2],\n",
       "       [5.4, 3.9, 1.3, 0.4],\n",
       "       [5. , 3.6, 1.3, 0.2]])"
      ]
     },
     "execution_count": 100,
     "metadata": {},
     "output_type": "execute_result"
    }
   ],
   "source": [
    "# 根据sepallength列对虹膜数据集进行排序\n",
    "# argsort 返回排序的索引\n",
    "iris_2d[iris_2d[:,2].argsort()][:10]"
   ]
  },
  {
   "cell_type": "code",
   "execution_count": 106,
   "metadata": {},
   "outputs": [
    {
     "data": {
      "text/plain": [
       "1.5"
      ]
     },
     "execution_count": 106,
     "metadata": {},
     "output_type": "execute_result"
    }
   ],
   "source": [
    "#在鸢尾属植物数据集中找到最常见的花瓣长度值（第3列）\n",
    "val,count=np.unique(iris_2d[:,2],return_counts=True)\n",
    "val[count.argmax()]"
   ]
  },
  {
   "cell_type": "code",
   "execution_count": 16,
   "metadata": {},
   "outputs": [
    {
     "data": {
      "text/plain": [
       "array([50])"
      ]
     },
     "execution_count": 16,
     "metadata": {},
     "output_type": "execute_result"
    }
   ],
   "source": [
    "# 数据集的petalwidth第4列中查找第一次出现的值大于1.0的位置\n",
    "iris=np.genfromtxt(url,delimiter=',',dtype='object')\n",
    "# argmin argmax 都是返回的index\n",
    "np.argwhere(iris[:, 3].astype(float) > 1.0)[0]"
   ]
  },
  {
   "cell_type": "code",
   "execution_count": 36,
   "metadata": {},
   "outputs": [
    {
     "data": {
      "text/plain": [
       "array([27.62684215, 14.64009987, 21.80136195, 30.        , 10.        ,\n",
       "       10.        , 30.        , 30.        , 10.        , 29.17957314,\n",
       "       30.        , 11.25090398, 10.08108276, 10.        , 11.76517714,\n",
       "       30.        , 30.        , 10.        , 30.        , 14.42961361])"
      ]
     },
     "execution_count": 36,
     "metadata": {},
     "output_type": "execute_result"
    }
   ],
   "source": [
    "# 从数组a中，替换所有大于30到30和小于10到10的值\n",
    "np.random.seed(100)\n",
    "a = np.random.uniform(1,50, 20)\n",
    "\n",
    "# clip 回型针\n",
    "np.clip(a,a_min=10,a_max=30)\n",
    "\n",
    "# method 2\n",
    "np.where(a<10,10,np.where(a>30,30,a))\n",
    "\n",
    "# help(np.where)\n"
   ]
  },
  {
   "cell_type": "code",
   "execution_count": 44,
   "metadata": {},
   "outputs": [
    {
     "data": {
      "text/plain": [
       "array([11.25090398, 14.42961361, 21.80136195,  9.42510962,  1.23122395,\n",
       "        6.95688692, 11.76517714,  6.31046763,  7.69862289, 14.64009987,\n",
       "       10.08108276, 27.62684215, 40.77247431, 33.86670515, 29.17957314,\n",
       "       40.99501269, 41.466785  , 42.39403048, 44.67477576, 48.95256545])"
      ]
     },
     "execution_count": 44,
     "metadata": {},
     "output_type": "execute_result"
    }
   ],
   "source": [
    "# 获取给定数组a中前5个最大值的位置\n",
    "np.random.seed(100)\n",
    "a = np.random.uniform(1,50, 20)\n",
    "a.argsort()[:5]\n",
    "\n",
    " # a.argpartition(kth=5)\n",
    "np.partition(a,kth=-5)\n"
   ]
  },
  {
   "cell_type": "code",
   "execution_count": 53,
   "metadata": {},
   "outputs": [
    {
     "data": {
      "text/plain": [
       "[array([1, 2, 1, 1, 1, 2, 2]),\n",
       " array([2, 1, 3, 1, 1, 1, 1]),\n",
       " array([3, 2, 3, 1, 1]),\n",
       " array([1, 2, 1, 1, 2, 1, 2]),\n",
       " array([2, 2, 2, 1, 1, 1, 1]),\n",
       " array([1, 1, 1, 1, 1, 2, 2, 1])]"
      ]
     },
     "execution_count": 53,
     "metadata": {},
     "output_type": "execute_result"
    }
   ],
   "source": [
    "# 按行计算唯一值的计数 ? error\n",
    "np.random.seed(100)\n",
    "arr = np.random.randint(1,11,size=(6, 10))\n",
    "\n",
    "[np.unique(row,return_counts=True)[1] for row in arr]"
   ]
  },
  {
   "cell_type": "code",
   "execution_count": 83,
   "metadata": {},
   "outputs": [
    {
     "data": {
      "text/plain": [
       "array([0, 1, 2, 3, 4, 5, 6, 7, 8, 9])"
      ]
     },
     "execution_count": 83,
     "metadata": {},
     "output_type": "execute_result"
    }
   ],
   "source": [
    "# 将array_of_arrays转换为扁平线性1d数组\n",
    "\n",
    "# **给定：**\n",
    "arr1 = np.arange(3)\n",
    "arr2 = np.arange(3,7)\n",
    "arr3 = np.arange(7,10)\n",
    "# array_of_arrays = np.array([arr1, arr2, arr3])\n",
    "np.append(np.append(arr1,arr2),arr3)"
   ]
  },
  {
   "cell_type": "code",
   "execution_count": null,
   "metadata": {},
   "outputs": [],
   "source": [
    "# 计算一次性编码(数组中每个唯一值的虚拟二进制变量) 51?\n",
    "np.random.seed(101) \n",
    "arr = np.random.randint(1,4, size=6)"
   ]
  },
  {
   "cell_type": "code",
   "execution_count": null,
   "metadata": {},
   "outputs": [],
   "source": [
    "# 创建按分类变量分组的行号。使用以下来自鸢尾属植物物种的样本作为输入 52?\n",
    "species = np.genfromtxt(url, delimiter=',', dtype='str', usecols=4)\n",
    "species_small = np.sort(np.random.choice(species, size=20))"
   ]
  },
  {
   "cell_type": "code",
   "execution_count": 88,
   "metadata": {},
   "outputs": [],
   "source": [
    "# 根据给定的分类变量创建组ID。使用以下来自鸢尾属植物物种的样本作为输入 53?\n",
    "species = np.genfromtxt(url, delimiter=',', dtype='str', usecols=4)\n",
    "species_small = np.sort(np.random.choice(species, size=20))\n"
   ]
  },
  {
   "cell_type": "code",
   "execution_count": 90,
   "metadata": {},
   "outputs": [
    {
     "data": {
      "text/plain": [
       "array([4, 2, 6, 0, 8, 7, 9, 3, 5, 1])"
      ]
     },
     "execution_count": 90,
     "metadata": {},
     "output_type": "execute_result"
    }
   ],
   "source": [
    "# 为给定的数字数组a创建排名\n",
    "np.random.seed(10)\n",
    "a = np.random.randint(20, size=10)\n",
    "a.argsort().argsort()"
   ]
  },
  {
   "cell_type": "code",
   "execution_count": 94,
   "metadata": {},
   "outputs": [
    {
     "data": {
      "text/plain": [
       "array([[4, 2, 6, 0, 8],\n",
       "       [7, 9, 3, 5, 1]])"
      ]
     },
     "execution_count": 94,
     "metadata": {},
     "output_type": "execute_result"
    }
   ],
   "source": [
    "# 创建与给定数字数组a相同形状的排名数组\n",
    "np.random.seed(10)\n",
    "a = np.random.randint(20, size=[2,5])\n",
    "\n",
    "a.ravel().argsort().argsort().reshape(a.shape)"
   ]
  },
  {
   "cell_type": "code",
   "execution_count": 9,
   "metadata": {},
   "outputs": [
    {
     "data": {
      "text/plain": [
       "array([9, 8, 6, 3, 9])"
      ]
     },
     "execution_count": 9,
     "metadata": {},
     "output_type": "execute_result"
    }
   ],
   "source": [
    "# 计算给定数组中每行的最大值\n",
    "\n",
    "np.random.seed(100)\n",
    "a = np.random.randint(1,10, [5,3])\n",
    "\n",
    "[row[np.argmax(row)] for row in a]\n",
    "\n",
    "# method-1\n",
    "np.amax(a,axis=1)\n",
    "\n",
    "# method-2\n",
    "np.apply_along_axis(np.max,axis=1,arr=a)\n"
   ]
  },
  {
   "cell_type": "code",
   "execution_count": 10,
   "metadata": {},
   "outputs": [
    {
     "data": {
      "text/plain": [
       "array([4, 1, 3, 3, 1])"
      ]
     },
     "execution_count": 10,
     "metadata": {},
     "output_type": "execute_result"
    }
   ],
   "source": [
    "# 为给定的二维numpy数组计算每行的最小值\n",
    "np.random.seed(100)\n",
    "a = np.random.randint(1,10, [5,3])\n",
    "\n",
    "np.amin(a,axis=1)"
   ]
  },
  {
   "cell_type": "code",
   "execution_count": 29,
   "metadata": {},
   "outputs": [
    {
     "name": "stdout",
     "output_type": "stream",
     "text": [
      "Array:  [0 0 3 0 2 4 2 2 2 2]\n",
      "[0. 0. 0. 0. 0. 0. 0. 0. 0. 0.]\n"
     ]
    },
    {
     "data": {
      "text/plain": [
       "array([1., 0., 1., 0., 1., 1., 0., 0., 0., 0.])"
      ]
     },
     "execution_count": 29,
     "metadata": {},
     "output_type": "execute_result"
    }
   ],
   "source": [
    "# 在给定的numpy数组中找到重复的条目(第二次出现以后)\n",
    "# 并将它们标记为True。第一次出现应该是False的\n",
    "\n",
    "np.random.seed(100)\n",
    "a = np.random.randint(0, 5, 10)\n",
    "print('Array: ', a)\n",
    "# > Array: [0 0 3 0 2 4 2 2 2 2]\n",
    "\n",
    "unique=np.unique(a,return_index=True)[1]\n",
    "\n",
    "b=np.zeros(a.shape)\n",
    "\n",
    "b.fill(False)#\n",
    "b[unique]=True\n",
    "b\n"
   ]
  },
  {
   "cell_type": "code",
   "execution_count": 38,
   "metadata": {},
   "outputs": [
    {
     "data": {
      "text/plain": [
       "[{b'Iris-setosa': 3.418},\n",
       " {b'Iris-versicolor': 2.7700000000000005},\n",
       " {b'Iris-virginica': 2.974}]"
      ]
     },
     "execution_count": 38,
     "metadata": {},
     "output_type": "execute_result"
    }
   ],
   "source": [
    "# 在二维数字数组中查找按分类列分组的数值列的平均值\n",
    "url = 'https://archive.ics.uci.edu/ml/machine-learning-databases/iris/iris.data'\n",
    "iris = np.genfromtxt(url, delimiter=',', dtype='object')\n",
    "names = ('sepallength', 'sepalwidth', 'petallength', 'petalwidth', 'species')\n",
    "\n",
    "sepalwidth=iris[:,1].astype('float')\n",
    "\n",
    "species=np.unique(d)\n",
    "\n",
    "[{spe:np.mean(sepalwidth[iris[:,4]==spe])} for spe in species]"
   ]
  },
  {
   "cell_type": "code",
   "execution_count": 40,
   "metadata": {},
   "outputs": [],
   "source": [
    "from io import BytesIO\n",
    "from PIL import Image\n",
    "import PIL,requests\n",
    "\n",
    "URL = 'https://upload.wikimedia.org/wikipedia/commons/8/8b/Denali_Mt_McKinley.jpg'\n",
    "response = requests.get(URL)\n",
    "\n",
    "I=Image.open(BytesIO(response.content))\n",
    "image=I.resize([150,150])\n",
    "arr=np.asarray(image)\n",
    "\n",
    "im=Image.fromarray(np.uint8(arr))\n",
    "Image.Image.show(im)"
   ]
  },
  {
   "cell_type": "code",
   "execution_count": 42,
   "metadata": {},
   "outputs": [
    {
     "data": {
      "text/plain": [
       "array([1., 2., 3., 5., 6., 7.])"
      ]
     },
     "execution_count": 42,
     "metadata": {},
     "output_type": "execute_result"
    }
   ],
   "source": [
    "# 从一维numpy数组中删除所有NaN值\n",
    "\n",
    "a=np.array([1,2,3,np.nan,5,6,7,np.nan])\n",
    "\n",
    "a[~np.isnan(a)]\n"
   ]
  },
  {
   "cell_type": "code",
   "execution_count": 43,
   "metadata": {},
   "outputs": [
    {
     "data": {
      "text/plain": [
       "6.708203932499369"
      ]
     },
     "execution_count": 43,
     "metadata": {},
     "output_type": "execute_result"
    }
   ],
   "source": [
    "# 计算两个数组a和数组b之间的欧氏距离\n",
    "a = np.array([1,2,3,4,5])\n",
    "b = np.array([4,5,6,7,8])\n",
    "\n",
    "np.linalg.norm(a-b)"
   ]
  },
  {
   "cell_type": "code",
   "execution_count": 58,
   "metadata": {},
   "outputs": [
    {
     "data": {
      "text/plain": [
       "array([ 0, -2,  2,  0, -2,  2])"
      ]
     },
     "execution_count": 58,
     "metadata": {},
     "output_type": "execute_result"
    }
   ],
   "source": [
    "# 找到一个一维数字数组a中的所有峰值。峰顶是两边被较小数值包围的点\n",
    "a = np.array([1, 3, 7, 1, 2, 6, 0, 1])\n",
    "# 找diff找到差距是否正向,在用diff找到为-2的\n",
    "double_diff=np.diff(np.sign(np.diff(a)))\n",
    "\n",
    "np.where(double_diff==-2)[0]+1\n",
    "\n",
    "double_diff"
   ]
  },
  {
   "cell_type": "code",
   "execution_count": 67,
   "metadata": {},
   "outputs": [
    {
     "data": {
      "text/plain": [
       "array([[2, 2, 2],\n",
       "       [2, 2, 2],\n",
       "       [2, 2, 2]])"
      ]
     },
     "execution_count": 67,
     "metadata": {},
     "output_type": "execute_result"
    }
   ],
   "source": [
    "# 从2d数组a_2d中减去一维数组b_1D，使得b_1D的每一项从a_2d的相应行中减去\n",
    "a_2d = np.array([[3,3,3],[4,4,4],[5,5,5]])\n",
    "b_1d = np.array([1,2,3]) \n",
    "\n",
    "# > [[2 2 2]\n",
    "# >  [2 2 2]\n",
    "# >  [2 2 2]]\n",
    "a_2d-b_1d[:,None] # 让b_1d变成列\n"
   ]
  },
  {
   "cell_type": "code",
   "execution_count": 75,
   "metadata": {},
   "outputs": [
    {
     "data": {
      "text/plain": [
       "8"
      ]
     },
     "execution_count": 75,
     "metadata": {},
     "output_type": "execute_result"
    }
   ],
   "source": [
    "# 找出x中数字1的第5次重复的索引\n",
    "\n",
    "x = np.array([1, 2, 1, 1, 3, 4, 3, 1, 1, 2, 1, 1, 2])\n",
    "unique=np.unique(x,return_counts=True,return_index=True)\n",
    "n=5\n",
    "np.where(x==1)[0][n-1]"
   ]
  },
  {
   "cell_type": "code",
   "execution_count": null,
   "metadata": {},
   "outputs": [],
   "source": [
    "# 66 .."
   ]
  }
 ],
 "metadata": {
  "kernelspec": {
   "display_name": "base",
   "language": "python",
   "name": "python3"
  },
  "language_info": {
   "codemirror_mode": {
    "name": "ipython",
    "version": 3
   },
   "file_extension": ".py",
   "mimetype": "text/x-python",
   "name": "python",
   "nbconvert_exporter": "python",
   "pygments_lexer": "ipython3",
   "version": "3.11.5"
  }
 },
 "nbformat": 4,
 "nbformat_minor": 2
}
