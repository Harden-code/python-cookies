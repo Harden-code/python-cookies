{
 "cells": [
  {
   "cell_type": "markdown",
   "metadata": {},
   "source": [
    "数组操作:索引,切片,迭代,转置,变形,合并\n",
    "\n",
    "数学函数库:三角函数,指数函数,对数函数,逻辑函数,统计函数,随机函数\n",
    "\n",
    "线性代数:矩阵乘法,求逆矩阵,特征值分解,奇异值分解"
   ]
  },
  {
   "cell_type": "code",
   "execution_count": 48,
   "metadata": {},
   "outputs": [],
   "source": [
    "import numpy as np\n",
    "import matplotlib.pyplot as plt\n",
    "from matplotlib.patches import Circle\n",
    "from matplotlib import cm\n",
    "import seaborn as sns"
   ]
  },
  {
   "cell_type": "code",
   "execution_count": 54,
   "metadata": {},
   "outputs": [
    {
     "data": {
      "text/plain": [
       "array([[1, 2, 3, 4]])"
      ]
     },
     "execution_count": 54,
     "metadata": {},
     "output_type": "execute_result"
    }
   ],
   "source": [
    "'''\n",
    "    np.array(i,dtype)创建数组\n",
    "'''\n",
    "a = np.array([1, 2, 3, 4], ndmin=2)  # 创建2维\n",
    "\n",
    "a"
   ]
  },
  {
   "cell_type": "code",
   "execution_count": 56,
   "metadata": {},
   "outputs": [
    {
     "data": {
      "image/png": "[encoded data removed]",
      "text/plain": [
       "<Figure size 640x480 with 1 Axes>"
      ]
     },
     "metadata": {},
     "output_type": "display_data"
    },
    {
     "data": {
      "image/png": "[encoded data removed]",
      "text/plain": [
       "<Figure size 640x480 with 1 Axes>"
      ]
     },
     "metadata": {},
     "output_type": "display_data"
    }
   ],
   "source": [
    "# 可视化\n",
    "def visualize_2d(array, title, vmin, vmax):\n",
    "    fig, ax = plt.subplots()\n",
    "    sns.heatmap(data=array, square=True,  # 正方形框\n",
    "                vmin=vmin, vmax=vmax, cmap='RdYlBu_r', annot=False  # 注释\n",
    "                , cbar=False  # 色谱\n",
    "                , xticklabels=False  # x标签\n",
    "                , yticklabels=False  # y标签\n",
    "                )\n",
    "\n",
    "\n",
    "visualize_2d(a, '2', a.min(), a.max())\n",
    "\n",
    "\n",
    "def visualize_1d(array):\n",
    "    fig, ax = plt.subplots()\n",
    "    color = cm.RdYlBu_r(np.linspace(0, 1, len(array)))\n",
    "    for idx, item in enumerate(array):\n",
    "        c = Circle((idx+0.5, 0), 0.5, facecolor=color[idx],\n",
    "                   edgecolor='w')\n",
    "        ax.add_patch(c)\n",
    "        ax.text(idx+0.5, 0, s=str(item), horizontalalignment='center',\n",
    "                verticalalignment='center')\n",
    "    ax.set_xbound(-0.6, 0.6+len(array))\n",
    "    ax.set_ybound(-0.6, 0.6)\n",
    "    ax.set_aspect('equal', adjustable='box')\n",
    "    ax.set_xticks([])\n",
    "    ax.set_yticks([])\n",
    "    ax.axis('off')\n",
    "\n",
    "\n",
    "b = [1, 2, 3]\n",
    "\n",
    "visualize_1d(b)"
   ]
  },
  {
   "cell_type": "code",
   "execution_count": 59,
   "metadata": {},
   "outputs": [
    {
     "data": {
      "text/plain": [
       "(dtype('int64'), 2, 2, 6)"
      ]
     },
     "execution_count": 59,
     "metadata": {},
     "output_type": "execute_result"
    }
   ],
   "source": [
    "# array属性\n",
    "# dtype 类型\n",
    "# len 长度,如果是二维数组就是2\n",
    "# ndim 维度\n",
    "# size 元素个数\n",
    "# 术语 axis=0,1,2\n",
    "\n",
    "c=np.array([[1,2,3],[4,5,6]])\n",
    "c.dtype,c.ndim,len(c),c.size"
   ]
  },
  {
   "cell_type": "code",
   "execution_count": 62,
   "metadata": {},
   "outputs": [
    {
     "data": {
      "text/plain": [
       "array([1., 2., 4.])"
      ]
     },
     "execution_count": 62,
     "metadata": {},
     "output_type": "execute_result"
    }
   ],
   "source": [
    "# 生成数列\n",
    "# np.arange(start,end,step) 生成等差数列\n",
    "# np.linespace(start,end,num,endpoint) 生成等差数列,num为生成个数,endpoint闭区间\n",
    "# np.logspace(start,end,num,endpoint,base) 生成等比数列从base的start开始到base的end结束\n",
    "# > num默认50个\n",
    "np.logspace(0,2,num=3,base=2)\n"
   ]
  },
  {
   "cell_type": "code",
   "execution_count": 66,
   "metadata": {},
   "outputs": [
    {
     "data": {
      "text/plain": [
       "[array([[1., 2., 3., 4., 5.],\n",
       "        [1., 2., 3., 4., 5.],\n",
       "        [1., 2., 3., 4., 5.],\n",
       "        [1., 2., 3., 4., 5.],\n",
       "        [1., 2., 3., 4., 5.]]),\n",
       " array([[1., 1., 1., 1., 1.],\n",
       "        [2., 2., 2., 2., 2.],\n",
       "        [3., 3., 3., 3., 3.],\n",
       "        [4., 4., 4., 4., 4.],\n",
       "        [5., 5., 5., 5., 5.]])]"
      ]
     },
     "execution_count": 66,
     "metadata": {},
     "output_type": "execute_result"
    }
   ],
   "source": [
    "# 生网格数据\n",
    "\n",
    "x=np.linspace(1,5,5)\n",
    "\n",
    "np.meshgrid(x,x)"
   ]
  },
  {
   "cell_type": "code",
   "execution_count": 69,
   "metadata": {},
   "outputs": [
    {
     "data": {
      "text/plain": [
       "(array([[1, 1],\n",
       "        [1, 1]]),\n",
       " array([[1., 0., 0.],\n",
       "        [0., 1., 0.],\n",
       "        [0., 0., 1.]]))"
      ]
     },
     "execution_count": 69,
     "metadata": {},
     "output_type": "execute_result"
    }
   ],
   "source": [
    "# 生成特殊矩阵\n",
    "# np.empty\n",
    "# np.empty_like\n",
    "# np.eye 创建单位矩阵\n",
    "# np.full 填充\n",
    "# np.full_like\n",
    "# np.ones\n",
    "# np.ones_like\n",
    "# np.zeros\n",
    "# np.zeros_like  \n",
    "np.full((2,2),1),np.eye(3)"
   ]
  },
  {
   "cell_type": "code",
   "execution_count": 74,
   "metadata": {},
   "outputs": [
    {
     "data": {
      "text/plain": [
       "[<matplotlib.axis.YTick at 0x1765dc810>,\n",
       " <matplotlib.axis.YTick at 0x176585990>,\n",
       " <matplotlib.axis.YTick at 0x17550dc90>]"
      ]
     },
     "execution_count": 74,
     "metadata": {},
     "output_type": "execute_result"
    },
    {
     "data": {
      "image/png": "[encoded data removed]",
      "text/plain": [
       "<Figure size 640x480 with 1 Axes>"
      ]
     },
     "metadata": {},
     "output_type": "display_data"
    }
   ],
   "source": [
    "# numpy.random包下生成随机数\n",
    "num=500\n",
    "data=np.random.uniform(-3,3,(num,2))\n",
    "fig,ax=plt.subplots()\n",
    "\n",
    "ax.scatter(data[:,0],data[:,1],s=100,marker='.',edgecolors='w')\n",
    "\n",
    "ax.set_aspect('equal',adjustable='box')\n",
    "ax.set_xlim(-3,3)\n",
    "ax.set_ylim(-3,3)\n",
    "ax.set_xticks((-3,0,3))\n",
    "ax.set_yticks((-3,0,3))\n",
    "                "
   ]
  },
  {
   "cell_type": "code",
   "execution_count": 83,
   "metadata": {},
   "outputs": [
    {
     "data": {
      "text/plain": [
       "(array([[3., 0., 1., ..., 0., 1., 1.],\n",
       "        [2., 0., 4., ..., 0., 1., 2.]]),\n",
       " array([-2.99678728, -2.99079161, -2.98479594, ...,  2.98689183,\n",
       "         2.9928875 ,  2.99888317]),\n",
       " <a list of 2 BarContainer objects>)"
      ]
     },
     "execution_count": 83,
     "metadata": {},
     "output_type": "execute_result"
    },
    {
     "data": {
      "image/png": "[encoded data removed]",
      "text/plain": [
       "<Figure size 640x480 with 1 Axes>"
      ]
     },
     "metadata": {},
     "output_type": "display_data"
    }
   ],
   "source": [
    "# 题目\n",
    "np.full((3,4),10)\n",
    "\n",
    "np.ones((3,4))*10\n",
    "\n",
    "\n",
    "fig,ax=plt.subplots()\n",
    "data=np.random.uniform(-3,3,size=(1000,2))\n",
    "\n",
    "ax.hist(data,1000)"
   ]
  }
 ],
 "metadata": {
  "kernelspec": {
   "display_name": "base",
   "language": "python",
   "name": "python3"
  },
  "language_info": {
   "codemirror_mode": {
    "name": "ipython",
    "version": 3
   },
   "file_extension": ".py",
   "mimetype": "text/x-python",
   "name": "python",
   "nbconvert_exporter": "python",
   "pygments_lexer": "ipython3",
   "version": "3.11.5"
  }
 },
 "nbformat": 4,
 "nbformat_minor": 2
}
