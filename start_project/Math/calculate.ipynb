{
 "cells": [
  {
   "cell_type": "markdown",
   "metadata": {},
   "source": [
    "### 代数运算操作"
   ]
  },
  {
   "cell_type": "code",
   "execution_count": 1,
   "metadata": {},
   "outputs": [],
   "source": [
    "from sympy import *\n",
    "\n",
    "x,y,z,a,b=symbols('x,y,z,a,b')"
   ]
  },
  {
   "cell_type": "markdown",
   "metadata": {},
   "source": [
    "合并同类项\n",
    "\n",
    "$abx^2+ax^2$ => $ax^2(1+b)$"
   ]
  },
  {
   "cell_type": "code",
   "execution_count": 11,
   "metadata": {},
   "outputs": [
    {
     "name": "stdout",
     "output_type": "stream",
     "text": [
      "   2        \n",
      "a⋅x ⋅(b + 1)\n"
     ]
    }
   ],
   "source": [
    "# 合并同类项\n",
    "expr=a*b*x**2+a*x**2\n",
    "# collect 第二个参数公共项符号\n",
    "pprint(collect(expr,a*x**2))"
   ]
  },
  {
   "cell_type": "code",
   "execution_count": 12,
   "metadata": {},
   "outputs": [
    {
     "name": "stdout",
     "output_type": "stream",
     "text": [
      "2⋅x + 3\n"
     ]
    }
   ],
   "source": [
    "expr=x**2+3*x\n",
    "#  求导\n",
    "pprint(diff(expr))"
   ]
  },
  {
   "cell_type": "code",
   "execution_count": 12,
   "metadata": {},
   "outputs": [
    {
     "name": "stdout",
     "output_type": "stream",
     "text": [
      "       2\n",
      "(x + 1) \n",
      " 2    \n",
      "x  - 1\n"
     ]
    }
   ],
   "source": [
    "# 因式分解\n",
    "\n",
    "expr=x**2+2*x+1\n",
    "\n",
    "pprint(factor(expr))\n",
    "\n",
    "expr=x**2-1\n",
    "pprint(expand(factor(expr)))"
   ]
  },
  {
   "cell_type": "code",
   "execution_count": 2,
   "metadata": {},
   "outputs": [
    {
     "name": "stdout",
     "output_type": "stream",
     "text": [
      " 2          \n",
      "x  + 2⋅x + 1\n"
     ]
    }
   ],
   "source": [
    "# 展开多项式\n",
    "expr=(x+1)**2\n",
    "pprint(expand(expr))"
   ]
  }
 ],
 "metadata": {
  "kernelspec": {
   "display_name": "base",
   "language": "python",
   "name": "python3"
  },
  "language_info": {
   "codemirror_mode": {
    "name": "ipython",
    "version": 3
   },
   "file_extension": ".py",
   "mimetype": "text/x-python",
   "name": "python",
   "nbconvert_exporter": "python",
   "pygments_lexer": "ipython3",
   "version": "3.1.-1"
  }
 },
 "nbformat": 4,
 "nbformat_minor": 2
}
