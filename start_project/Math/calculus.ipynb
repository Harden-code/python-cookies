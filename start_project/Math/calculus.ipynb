{
 "cells": [
  {
   "cell_type": "code",
   "execution_count": 41,
   "metadata": {},
   "outputs": [],
   "source": [
    "from sympy import diff,symbols,integrate,Derivative,exp,pprint,oo,Integral,Limit,limit,series\n",
    "x,y,n=symbols('x,y,n')"
   ]
  },
  {
   "cell_type": "markdown",
   "metadata": {},
   "source": [
    "### Derivatives"
   ]
  },
  {
   "cell_type": "code",
   "execution_count": 11,
   "metadata": {},
   "outputs": [
    {
     "data": {
      "text/latex": [
       "$\\displaystyle \\frac{d^{n}}{d x^{n}} x^{2}$"
      ],
      "text/plain": [
       "Derivative(x**2, (x, n))"
      ]
     },
     "execution_count": 11,
     "metadata": {},
     "output_type": "execute_result"
    }
   ],
   "source": [
    "expr=x**2\n",
    "# 通过参数控制几阶导数\n",
    "diff(expr,x,x),diff(expr,x,2)\n",
    "\n",
    "# 通过expr调用diff\n",
    "expr.diff(x)\n",
    "\n",
    "# 通过Derivativ创建,通过doit方法求导数\n",
    "df=Derivative(x**2,x)\n",
    "df.doit()\n",
    "\n",
    "# 通过传递(x,n)n是x的阶数\n",
    "expr.diff((x,n))"
   ]
  },
  {
   "cell_type": "markdown",
   "metadata": {},
   "source": [
    "### Integrals "
   ]
  },
  {
   "cell_type": "code",
   "execution_count": 31,
   "metadata": {},
   "outputs": [
    {
     "name": "stdout",
     "output_type": "stream",
     "text": [
      " x\n",
      "ℯ \n",
      "      2\n",
      "-1 + ℯ \n"
     ]
    },
    {
     "data": {
      "text/latex": [
       "$\\displaystyle \\frac{8}{3}$"
      ],
      "text/plain": [
       "8/3"
      ]
     },
     "execution_count": 31,
     "metadata": {},
     "output_type": "execute_result"
    }
   ],
   "source": [
    "# 不定积分\n",
    "expr=exp(x)\n",
    "\n",
    "pprint(integrate(expr))\n",
    "\n",
    "# 定积分\n",
    "\n",
    "pprint(integrate(expr,(x,0,2)))\n",
    "\n",
    "# 多重积分\n",
    "integrate(exp(-x**2 - y**2), (x, -oo, oo), (y, -oo, oo))\n",
    "\n",
    "# 创建积分对象\n",
    "it=Integral(x**2,(x,0,2))\n",
    "\n",
    "it.doit() # 求积分\n"
   ]
  },
  {
   "cell_type": "markdown",
   "metadata": {},
   "source": [
    "### limit"
   ]
  },
  {
   "cell_type": "code",
   "execution_count": 40,
   "metadata": {},
   "outputs": [
    {
     "data": {
      "text/latex": [
       "$\\displaystyle 1$"
      ],
      "text/plain": [
       "1"
      ]
     },
     "execution_count": 40,
     "metadata": {},
     "output_type": "execute_result"
    }
   ],
   "source": [
    "expr=x**2\n",
    "\n",
    "limit(expr,x,1) # x**2 在1的极限\n",
    "\n",
    "li=Limit(expr,x,1,dir='+-') # 创建极限对象\n",
    "\n",
    "li.doit()"
   ]
  },
  {
   "cell_type": "markdown",
   "metadata": {},
   "source": [
    "### series"
   ]
  },
  {
   "cell_type": "code",
   "execution_count": 51,
   "metadata": {},
   "outputs": [
    {
     "name": "stdout",
     "output_type": "stream",
     "text": [
      "             3            2    \n",
      "5⋅x + (x - 1)  + 4⋅(x - 1)  - 2\n",
      "            ⎛       2       ⎞\n",
      "-2 + 5⋅x + O⎝(x - 1) ; x → 1⎠\n"
     ]
    },
    {
     "data": {
      "text/latex": [
       "$\\displaystyle 5 x - 2$"
      ],
      "text/plain": [
       "5*x - 2"
      ]
     },
     "execution_count": 51,
     "metadata": {},
     "output_type": "execute_result"
    }
   ],
   "source": [
    "# 泰勒级数\n",
    "expr=x**3+x**2+1\n",
    "\n",
    "pprint(series(expr,x,1))\n",
    "\n",
    "\n",
    "pprint(expr.series(x,1,2))\n",
    "\n",
    "# remove 删除O\n",
    "expr.series(x,1,2).removeO()"
   ]
  }
 ],
 "metadata": {
  "kernelspec": {
   "display_name": "base",
   "language": "python",
   "name": "python3"
  },
  "language_info": {
   "codemirror_mode": {
    "name": "ipython",
    "version": 3
   },
   "file_extension": ".py",
   "mimetype": "text/x-python",
   "name": "python",
   "nbconvert_exporter": "python",
   "pygments_lexer": "ipython3",
   "version": "3.11.5"
  }
 },
 "nbformat": 4,
 "nbformat_minor": 2
}
