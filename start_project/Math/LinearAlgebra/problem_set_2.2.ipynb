{
 "cells": [
  {
   "cell_type": "code",
   "execution_count": 3,
   "metadata": {},
   "outputs": [],
   "source": [
    "import numpy as np\n",
    "import sympy"
   ]
  },
  {
   "cell_type": "markdown",
   "metadata": {},
   "source": [
    "1. 2/10 \n",
    "[10,15,5] [2,3,1]\n",
    "[10,9,11] [0,1,-1] x=2 y=-1\n",
    "\n",
    "2. x=8 y=-4\n",
    "\n",
    "3. -1/2 x=5,y=1; x=-5 y=-1\n",
    "[1,-2,3]\n",
    "[-1,5,0]\n",
    "\n",
    "4. a/c;ad-bc;y=0\n",
    "\n",
    "5. !=10 =10\n",
    "\n",
    "6. 4;16\n",
    "\n",
    "7. a=2(permanently 永久);a=0 (temporarily 暂时) \n",
    "\n",
    "8. k=0 oo; k=3 0 ; k=-3 1 \n",
    "\n",
    "9. 2b1-b2=0;(1,2)->oo (1,0)->0\n",
    "\n",
    "10. 1 (4,1);16"
   ]
  },
  {
   "cell_type": "code",
   "execution_count": 2,
   "metadata": {},
   "outputs": [
    {
     "data": {
      "text/plain": [
       "array([ 8., -4.])"
      ]
     },
     "execution_count": 2,
     "metadata": {},
     "output_type": "execute_result"
    }
   ],
   "source": [
    "a=np.array([[2,3],[10,9]])\n",
    "\n",
    "b=np.array([4,44])\n",
    "\n",
    "np.linalg.solve(a,b)"
   ]
  },
  {
   "cell_type": "code",
   "execution_count": 9,
   "metadata": {},
   "outputs": [
    {
     "data": {
      "text/latex": [
       "$\\displaystyle \\left[\\begin{matrix}a & b & f\\\\0 & a d - b c & a g - c f\\end{matrix}\\right]$"
      ],
      "text/plain": [
       "Matrix([\n",
       "[a,         b,         f],\n",
       "[0, a*d - b*c, a*g - c*f]])"
      ]
     },
     "execution_count": 9,
     "metadata": {},
     "output_type": "execute_result"
    }
   ],
   "source": [
    "# 4 \n",
    "a,b,c,d,f,g,x,y=sympy.symbols('a,b,c,d,f,g,x,y')\n",
    "\n",
    "A=sympy.Matrix([[a,b,f],[c,d,g]])\n",
    "\n",
    "# b=sympy.Matrix([f,g])\n",
    "A.echelon_form()"
   ]
  }
 ],
 "metadata": {
  "kernelspec": {
   "display_name": "base",
   "language": "python",
   "name": "python3"
  },
  "language_info": {
   "codemirror_mode": {
    "name": "ipython",
    "version": 3
   },
   "file_extension": ".py",
   "mimetype": "text/x-python",
   "name": "python",
   "nbconvert_exporter": "python",
   "pygments_lexer": "ipython3",
   "version": "3.1.-1"
  }
 },
 "nbformat": 4,
 "nbformat_minor": 2
}
