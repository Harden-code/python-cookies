{
 "cells": [
  {
   "cell_type": "code",
   "execution_count": 12,
   "metadata": {},
   "outputs": [],
   "source": [
    "from sympy import *\n",
    "x,y,z=symbols('x,y,z')\n",
    "init_printing(use_unicode=True)"
   ]
  },
  {
   "cell_type": "code",
   "execution_count": 23,
   "metadata": {},
   "outputs": [
    {
     "name": "stdout",
     "output_type": "stream",
     "text": [
      "⎧  │         ⎛      x    ⎞⎫\n",
      "⎨x │ x ∊ ℂ ∧ ⎝-x + ℯ  = 0⎠⎬\n",
      "⎩  │                      ⎭\n",
      "∅\n"
     ]
    }
   ],
   "source": [
    "# solveset(equation, variable=None, domain=S.Complexes)\n",
    "# 在表达式Eq(x-1,0)与x-1=0一样,它会自动等于0\n",
    "solveset(x**2-4,x)\n",
    "solveset(Eq(x**2-4,0),x)\n",
    "\n",
    "# the output of solveset is a FiniteSet or an Interval or ImageSet of the solutions\n",
    "solveset(x-x,x,domain=S.Reals)\n",
    "\n",
    "solve(x**2-4,x) # 代替方法\n",
    "\n",
    "# If there are no solutions, an EmptySet is returned and\n",
    "# if it is not able to find solutions then a ConditionSet is returned\n",
    "pprint(solveset(exp(x)-x,x)) # not able to find solution\n",
    "\n",
    "pprint(solveset(exp(x),x)) # no solution exist\n"
   ]
  },
  {
   "cell_type": "code",
   "execution_count": 36,
   "metadata": {},
   "outputs": [
    {
     "data": {
      "image/png": "[encoded data removed]",
      "text/latex": [
       "$\\displaystyle x \\left(x - 3\\right)^{2}$"
      ],
      "text/plain": [
       "         2\n",
       "x⋅(x - 3) "
      ]
     },
     "execution_count": 36,
     "metadata": {},
     "output_type": "execute_result"
    }
   ],
   "source": [
    "# linsolve method use solve linear system of equations\n",
    "linsolve(Matrix(([1, 1, 1, 1], [1, 1, 2, 3])), (x, y, z))\n",
    "\n",
    "linsolve([x + y + z - 1, x + y + 2*z - 3 ], (x, y, z))\n",
    "\n",
    "# nonlinsolve method use solve no linear system of equations\n",
    "nonlinsolve([x**2+x,x-y],[x,y]) # The order of solution corresponds the order of given symbols\n",
    "\n",
    "## \n",
    "\n",
    "# 1.if there is solution,reture from is the LambertW\n",
    "solve([x**2+x,x-y],[x,y],dict=True)\n",
    "\n",
    "# 2.Currently nonlinsolve is not properly capable of solving \n",
    "# the system of equations having trigonometric functions\n",
    "\n",
    "solve([sin(x + y), cos(x - y)], [x, y],dict=True)\n",
    "\n",
    "# solveset reports each solution only once.\n",
    "solveset(x**3 - 6*x**2 + 9*x,x)\n",
    "\n",
    "factor(simplify(x**3 - 6*x**2 + 9*x))\n"
   ]
  },
  {
   "cell_type": "code",
   "execution_count": 43,
   "metadata": {},
   "outputs": [
    {
     "data": {
      "image/png": "[encoded data removed]",
      "text/latex": [
       "$\\displaystyle f{\\left(x \\right)} = \\left(C_{1} + C_{2} x\\right) e^{x} + \\frac{\\cos{\\left(x \\right)}}{2}$"
      ],
      "text/plain": [
       "                    x   cos(x)\n",
       "f(x) = (C₁ + C₂⋅x)⋅ℯ  + ──────\n",
       "                          2   "
      ]
     },
     "execution_count": 43,
     "metadata": {},
     "output_type": "execute_result"
    }
   ],
   "source": [
    "# solving differential equations dsolve\n",
    "# ODE 常微分方程\n",
    "f,g=symbols('f,g',cls=Function)\n",
    "diffEq=Eq(f(x).diff(x,2)-2*f(x).diff(x)+f(x),sin(x)) \n",
    "diffEq\n",
    "\n",
    "dsolve(diffEq,f(x))"
   ]
  }
 ],
 "metadata": {
  "kernelspec": {
   "display_name": "base",
   "language": "python",
   "name": "python3"
  },
  "language_info": {
   "codemirror_mode": {
    "name": "ipython",
    "version": 3
   },
   "file_extension": ".py",
   "mimetype": "text/x-python",
   "name": "python",
   "nbconvert_exporter": "python",
   "pygments_lexer": "ipython3",
   "version": "3.11.5"
  }
 },
 "nbformat": 4,
 "nbformat_minor": 2
}
