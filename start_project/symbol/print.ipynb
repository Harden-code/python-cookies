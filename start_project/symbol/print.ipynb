{
 "cells": [
  {
   "cell_type": "code",
   "execution_count": 2,
   "metadata": {},
   "outputs": [],
   "source": [
    "from sympy import *"
   ]
  },
  {
   "cell_type": "markdown",
   "metadata": {},
   "source": [
    "### printer\n",
    "- str\n",
    "- srepr\n",
    "- ASCII pretty printer\n",
    "- Unicode pretty printer\n",
    "- Latex\n",
    "- MathML\n",
    "- Dot\n",
    "\n",
    "init_printing自动选择最好的printer在当前环境,init_session在响应式环境下使用"
   ]
  },
  {
   "cell_type": "code",
   "execution_count": 12,
   "metadata": {},
   "outputs": [
    {
     "name": "stdout",
     "output_type": "stream",
     "text": [
      "Integral(sqrt(1/x), x)\n",
      "Integral(Pow(Pow(Symbol('x'), Integer(-1)), Rational(1, 2)), Tuple(Symbol('x')))\n",
      "  /          \n",
      " |           \n",
      " |     ___   \n",
      " |    / 1    \n",
      " |   /  -  dx\n",
      " | \\/   x    \n",
      " |           \n",
      "/            \n",
      "⌠           \n",
      "⎮     ___   \n",
      "⎮    ╱ 1    \n",
      "⎮   ╱  ─  dx\n",
      "⎮ ╲╱   x    \n",
      "⌡           \n",
      "\\int \\sqrt{\\frac{1}{x}}\\, dx\n",
      "<apply>\n",
      "\t<int/>\n",
      "\t<bvar>\n",
      "\t\t<ci>x</ci>\n",
      "\t</bvar>\n",
      "\t<apply>\n",
      "\t\t<root/>\n",
      "\t\t<apply>\n",
      "\t\t\t<power/>\n",
      "\t\t\t<ci>x</ci>\n",
      "\t\t\t<cn>-1</cn>\n",
      "\t\t</apply>\n",
      "\t</apply>\n",
      "</apply>\n",
      "\n",
      "digraph{\n",
      "\n",
      "# Graph style\n",
      "\"ordering\"=\"out\"\n",
      "\"rankdir\"=\"TD\"\n",
      "\n",
      "#########\n",
      "# Nodes #\n",
      "#########\n",
      "\n",
      "\"Add(Integer(1), Symbol('x'))_()\" [\"color\"=\"black\", \"label\"=\"Add\", \"shape\"=\"ellipse\"];\n",
      "\"Integer(1)_(0,)\" [\"color\"=\"black\", \"label\"=\"1\", \"shape\"=\"ellipse\"];\n",
      "\"Symbol('x')_(1,)\" [\"color\"=\"black\", \"label\"=\"x\", \"shape\"=\"ellipse\"];\n",
      "\n",
      "#########\n",
      "# Edges #\n",
      "#########\n",
      "\n",
      "\"Add(Integer(1), Symbol('x'))_()\" -> \"Integer(1)_(0,)\";\n",
      "\"Add(Integer(1), Symbol('x'))_()\" -> \"Symbol('x')_(1,)\";\n",
      "}\n"
     ]
    }
   ],
   "source": [
    "init_printing()\n",
    "x=symbols('x')\n",
    "integral=Integral(sqrt(1/x),x)\n",
    "\n",
    "# str 无法现实正确格式\n",
    "print(str(integral))\n",
    "\n",
    "# srepr 展示sympy对象的结构\n",
    "print(srepr(integral))\n",
    "\n",
    "# ASCII pprint\n",
    "pprint(integral,use_unicode=False)\n",
    "\n",
    "# Unicode pprint\n",
    "pprint(integral,use_unicode=True)\n",
    "\n",
    "# latex \n",
    "print(latex(integral))\n",
    "\n",
    "# print_mathml\n",
    "from sympy.printing.mathml import print_mathml\n",
    "print_mathml(integral)\n",
    "\n",
    "# dot dotprint()\n",
    "from sympy.printing.dot import dotprint\n",
    "print(dotprint(x+1))"
   ]
  },
  {
   "cell_type": "code",
   "execution_count": null,
   "metadata": {},
   "outputs": [],
   "source": []
  }
 ],
 "metadata": {
  "kernelspec": {
   "display_name": "base",
   "language": "python",
   "name": "python3"
  },
  "language_info": {
   "codemirror_mode": {
    "name": "ipython",
    "version": 3
   },
   "file_extension": ".py",
   "mimetype": "text/x-python",
   "name": "python",
   "nbconvert_exporter": "python",
   "pygments_lexer": "ipython3",
   "version": "3.11.5"
  }
 },
 "nbformat": 4,
 "nbformat_minor": 2
}
