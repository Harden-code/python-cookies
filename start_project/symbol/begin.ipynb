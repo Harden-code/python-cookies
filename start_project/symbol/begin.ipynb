{
 "cells": [
  {
   "cell_type": "markdown",
   "metadata": {},
   "source": [
    "### 简介"
   ]
  },
  {
   "cell_type": "code",
   "execution_count": 1,
   "metadata": {},
   "outputs": [
    {
     "data": {
      "text/latex": [
       "$\\displaystyle 2 \\sqrt{2}$"
      ],
      "text/plain": [
       "2*sqrt(2)"
      ]
     },
     "execution_count": 1,
     "metadata": {},
     "output_type": "execute_result"
    }
   ],
   "source": [
    "import sympy\n",
    "# irrational number 有理数表达\n",
    "sympy.sqrt(8)"
   ]
  },
  {
   "cell_type": "code",
   "execution_count": 8,
   "metadata": {},
   "outputs": [
    {
     "name": "stdout",
     "output_type": "stream",
     "text": [
      "x + 2*y\n",
      "x*(x + 2*y)\n",
      "x**2 + 2*x*y\n",
      "x*(x + 2*y)\n"
     ]
    }
   ],
   "source": [
    "from sympy import symbols\n",
    "# symbols 定义表达式\n",
    "x,y=symbols('x y')\n",
    "\n",
    "expr= x+2*y\n",
    "print(expr)\n",
    "# 定义的表达式还可以在计算\n",
    "\n",
    "expr1=x*expr\n",
    "print(expr1)\n",
    "\n",
    "from sympy import factor,expand\n",
    "# expand公式展开\n",
    "expr_expand=expand(expr1)\n",
    "print(expr_expand)\n",
    "\n",
    "# factor 因式分解\n",
    "expr_factor=factor(expr_expand)\n",
    "print(expr_factor)"
   ]
  },
  {
   "cell_type": "code",
   "execution_count": 10,
   "metadata": {},
   "outputs": [
    {
     "name": "stdout",
     "output_type": "stream",
     "text": [
      "2*x\n"
     ]
    }
   ],
   "source": [
    "# diff函数用于对给定的表达式进行微分\n",
    "from sympy import symbols,diff\n",
    "\n",
    "x=symbols('x')\n",
    "\n",
    "print(diff(x**2+1,))"
   ]
  },
  {
   "cell_type": "markdown",
   "metadata": {},
   "source": [
    "### symbols\n",
    "\n",
    "在sympy中变量必须通过symbols进行定义了才能使用.需要计算symbols定义的表达式可以通过subs方法进行变量替换得到值 (substibute)"
   ]
  },
  {
   "cell_type": "code",
   "execution_count": 16,
   "metadata": {},
   "outputs": [
    {
     "name": "stdout",
     "output_type": "stream",
     "text": [
      "x + 2\n",
      "4\n"
     ]
    }
   ],
   "source": [
    "from sympy import symbols\n",
    "\n",
    "x=symbols('x')\n",
    "\n",
    "expr=x+2\n",
    "print(expr.subs(x,2))\n",
    "x=2 # x赋值成了python变量\n",
    "print(expr)\n"
   ]
  },
  {
   "cell_type": "markdown",
   "metadata": {},
   "source": [
    "### Equals signs\n",
    "在sympy中不能直接使用==或者=来表达式数据表达式中的=(==和=在python中有特定意义的),Eq函数来构造这样的表达式\n",
    "\n",
    ">[https://docs.sympy.org/latest/explanation/gotchas.html#gotchas]"
   ]
  },
  {
   "cell_type": "code",
   "execution_count": 21,
   "metadata": {},
   "outputs": [
    {
     "name": "stdout",
     "output_type": "stream",
     "text": [
      "False\n",
      "0\n",
      "True\n"
     ]
    }
   ],
   "source": [
    "from sympy import Eq,solve\n",
    "from sympy.abc import x\n",
    "\n",
    "expr=x+2\n",
    "eq=Eq(expr,4)\n",
    "solve(eq)\n",
    "\n",
    "# 比较两个表达式是否相等\n",
    "\n",
    "a=x**2+2*x+1\n",
    "b=(x+1)**2\n",
    "print(a==b)\n",
    "from sympy import simplify\n",
    "# 通过两表达式相减,通过simplify简化表达式看是否为0\n",
    "print(simplify(a-b))\n",
    "# equals方法进行比较\n",
    "print(a.equals(b))"
   ]
  },
  {
   "cell_type": "markdown",
   "metadata": {},
   "source": [
    "### Rational and Interger\n",
    "Rational有理数 Rational(1,2)展示$\\frac{1}{2}$\n"
   ]
  },
  {
   "cell_type": "code",
   "execution_count": 23,
   "metadata": {},
   "outputs": [
    {
     "name": "stdout",
     "output_type": "stream",
     "text": [
      "4/3\n",
      "<class 'sympy.core.numbers.Integer'>\n"
     ]
    }
   ],
   "source": [
    "from sympy import Rational,Integer\n",
    "\n",
    "x=Rational(1,3)\n",
    "print(x+1)\n",
    "\n",
    "y=Integer(2)\n",
    "print(type(y+2))"
   ]
  },
  {
   "cell_type": "markdown",
   "metadata": {},
   "source": [
    "### 代数\n",
    "- symbols:定义符号变量\n",
    "    - symbols('k',integer=True) 定义变量k,该变量为整数\n",
    "    - symbols('z',real=True) 定义变量z,并且z为实数\n",
    "- factor:因式分解\n",
    "- expand:因式展开\n",
    "- factorial:阶乘\n",
    "- binomial:排列组合\n",
    "- gamma:累乘"
   ]
  },
  {
   "cell_type": "code",
   "execution_count": null,
   "metadata": {},
   "outputs": [],
   "source": []
  },
  {
   "cell_type": "markdown",
   "metadata": {},
   "source": [
    "### 区间\n",
    "Interval对象表示区间,oo表示正无穷.\n",
    "\n",
    "- 区间可以用来计算,比如Interval(0,2)-Interval(0,1)=(1,2]\n",
    "\n",
    "- has可以判断区间是否包含具体元素,比如i1=Interval.lopen(0,1)的到区间(0,1],利用has和contains来判断\n",
    "\n",
    "- 构造函数\n",
    "    - Interval(0,1,left_open=bool,right_open=bool)\n",
    "    - Interval.Ropen 左闭右开\n",
    "    - Interval.Lopen 左开右闭\n",
    "    - Interval(0,1).complments(S.Reals) (-oo,0)U(1,oo)"
   ]
  },
  {
   "cell_type": "code",
   "execution_count": null,
   "metadata": {},
   "outputs": [],
   "source": []
  },
  {
   "cell_type": "markdown",
   "metadata": {},
   "source": [
    "### 等式求解\n",
    "solve"
   ]
  },
  {
   "cell_type": "code",
   "execution_count": 27,
   "metadata": {},
   "outputs": [
    {
     "data": {
      "text/plain": [
       "[(-b - sqrt(-4*a*c + b**2))/(2*a), (-b + sqrt(-4*a*c + b**2))/(2*a)]"
      ]
     },
     "execution_count": 27,
     "metadata": {},
     "output_type": "execute_result"
    }
   ],
   "source": [
    "from sympy.abc import x\n",
    "from sympy import solve,Eq,symbols\n",
    "a,b,c=symbols('a,b,c')\n",
    "equation=Eq(a*x**2+b*x+c,0)\n",
    "solve(equation,x)\n"
   ]
  }
 ],
 "metadata": {
  "kernelspec": {
   "display_name": "base",
   "language": "python",
   "name": "python3"
  },
  "language_info": {
   "codemirror_mode": {
    "name": "ipython",
    "version": 3
   },
   "file_extension": ".py",
   "mimetype": "text/x-python",
   "name": "python",
   "nbconvert_exporter": "python",
   "pygments_lexer": "ipython3",
   "version": "3.11.5"
  }
 },
 "nbformat": 4,
 "nbformat_minor": 2
}
