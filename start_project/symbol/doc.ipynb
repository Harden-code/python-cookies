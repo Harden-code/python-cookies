{
 "cells": [
  {
   "cell_type": "code",
   "execution_count": 9,
   "metadata": {},
   "outputs": [
    {
     "data": {
      "text/latex": [
       "$\\displaystyle x^{3} + 3 x^{2} + 3 x + 1$"
      ],
      "text/plain": [
       "x**3 + 3*x**2 + 3*x + 1"
      ]
     },
     "execution_count": 9,
     "metadata": {},
     "output_type": "execute_result"
    }
   ],
   "source": [
    "from sympy.abc import x\n",
    "from sympy import expand,factor\n",
    "\n",
    "expr=(x+1)*(x+4)\n",
    "\n",
    "#expand(expr)\n",
    "\n",
    "expand((x+1)**3)\n",
    "#factor(expand((x+1)**2))"
   ]
  },
  {
   "cell_type": "code",
   "execution_count": 6,
   "metadata": {},
   "outputs": [
    {
     "data": {
      "text/latex": [
       "$\\displaystyle 2 \\sqrt{2}$"
      ],
      "text/plain": [
       "2*sqrt(2)"
      ]
     },
     "execution_count": 6,
     "metadata": {},
     "output_type": "execute_result"
    }
   ],
   "source": [
    "# 求极限\n",
    "from sympy import limit,symbols,oo,sqrt,evalf\n",
    "x= symbols('x')\n",
    "expr=1/x+1\n",
    "limit(expr,x,oo)\n",
    "\n",
    "sqrt(8)"
   ]
  },
  {
   "cell_type": "code",
   "execution_count": 2,
   "metadata": {},
   "outputs": [
    {
     "name": "stdout",
     "output_type": "stream",
     "text": [
      "2⋅y\n",
      "-x \n",
      "───\n",
      " y \n",
      "3⋅tan(y)⋅sec(y) - 1\n",
      "2⋅x + 5⋅cos(x)\n",
      " -(2⋅x + 5⋅cos(x)) \n",
      "───────────────────\n",
      "3⋅tan(y)⋅sec(y) - 1\n"
     ]
    }
   ],
   "source": [
    "from sympy import *\n",
    "x,y=symbols('x,y')\n",
    "\n",
    "ex=x**2+y**2-4\n",
    "\n",
    "ex1=Eq(x**2+y**2,4)\n",
    "pprint(diff(ex,y))\n",
    "pprint(idiff(ex,y,x))\n",
    "\n",
    "\n",
    "ex=5*sin(x)+3*sec(y)-y+x**2-3\n",
    "pprint(diff(ex,y))\n",
    "pprint(diff(ex,x))\n",
    "# 隐式求导\n",
    "pprint(idiff(ex,y,x))"
   ]
  },
  {
   "cell_type": "code",
   "execution_count": 4,
   "metadata": {},
   "outputs": [
    {
     "name": "stdout",
     "output_type": "stream",
     "text": [
      "d              2 d    \n",
      "──(V) = 4.0⋅π⋅r ⋅──(r)\n",
      "dt               dt   \n",
      "[0.0]\n",
      "              2 d    \n",
      "12⋅π = 4.0⋅π⋅r ⋅──(r)\n",
      "                dt   \n",
      "         2 d           \n",
      "- 4.0⋅π⋅r ⋅──(r) + 12⋅π\n",
      "           dt          \n",
      "[3.0/r**2]\n",
      "<class 'sympy.core.add.Add'> <class 'sympy.core.relational.Equality'>\n"
     ]
    }
   ],
   "source": [
    "V,r,t=symbols('V,r,t')\n",
    "ex=3/4*pi*r**3-V\n",
    "o=Derivative(r,t)\n",
    "\n",
    "a=Derivative(V,t)\n",
    "b=Derivative(r,t)*diff(4/3*pi*r**3,r)\n",
    "c=Eq(a,b)\n",
    "pprint(c)\n",
    "print(solveset(c,o))\n",
    "\n",
    "\n",
    "e=c.subs(a,12*pi)\n",
    "\n",
    "pprint(e)\n",
    "\n",
    "d=a-b\n",
    "f=d.subs(a,12*pi)\n",
    "pprint(f)\n",
    "print(solve(f,o))\n",
    "\n",
    "# Eq不能解析\n",
    "\n",
    "print(type(f),type(c))\n"
   ]
  }
 ],
 "metadata": {
  "kernelspec": {
   "display_name": "base",
   "language": "python",
   "name": "python3"
  },
  "language_info": {
   "codemirror_mode": {
    "name": "ipython",
    "version": 3
   },
   "file_extension": ".py",
   "mimetype": "text/x-python",
   "name": "python",
   "nbconvert_exporter": "python",
   "pygments_lexer": "ipython3",
   "version": "3.11.5"
  }
 },
 "nbformat": 4,
 "nbformat_minor": 2
}
