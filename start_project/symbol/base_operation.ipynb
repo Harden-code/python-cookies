{
 "cells": [
  {
   "cell_type": "code",
   "execution_count": 4,
   "metadata": {},
   "outputs": [],
   "source": [
    "from sympy import *"
   ]
  },
  {
   "cell_type": "markdown",
   "metadata": {},
   "source": [
    "### 替换操作\n",
    "subs方法\n",
    "- 替换表达式符号变成指定的值\n",
    "- 代替表达式里的另外一个符号\n",
    "> subs返回的是一个新的表达式,sympy对象是一个不可变对象\n",
    "\n",
    "expand_trig分解三角函数\n",
    "\n",
    "sympify吧字符串转换成sympy表达式"
   ]
  },
  {
   "cell_type": "code",
   "execution_count": 14,
   "metadata": {},
   "outputs": [
    {
     "name": "stdout",
     "output_type": "stream",
     "text": [
      "sin(x)\n",
      "sin(3)\n",
      "sin(y)\n",
      "4\n",
      "c + x**2\n"
     ]
    }
   ],
   "source": [
    "x,y,z=symbols('x,y,z')\n",
    "\n",
    "sin_expr=sin(x)\n",
    "print(sin_expr)\n",
    "print(sin_expr.subs(x,3))\n",
    "print(sin_expr.subs(x,y))\n",
    "\n",
    "sin2x=sin(2*x)\n",
    "# 分解三角函数\n",
    "expand_trig(sin2x)\n",
    "\n",
    "expr=x**3+4*x*y-z\n",
    "# 多个字符替换\n",
    "print(expr.subs([(x,1),(y,1),(z,1)]))\n",
    "\n",
    "expr_str='x**2+c*1'\n",
    "expr=sympify(expr_str)\n",
    "print(expr)"
   ]
  },
  {
   "cell_type": "markdown",
   "metadata": {},
   "source": [
    "### evalf \n",
    "将数字表达式计算成浮点数.默认计算出来的浮点数精度在15,可以通过在evalf设置精度"
   ]
  },
  {
   "cell_type": "code",
   "execution_count": 23,
   "metadata": {},
   "outputs": [
    {
     "data": {
      "text/latex": [
       "$\\displaystyle 2.82842712474619$"
      ],
      "text/plain": [
       "2.82842712474619"
      ]
     },
     "execution_count": 23,
     "metadata": {},
     "output_type": "execute_result"
    }
   ],
   "source": [
    "x,y=symbols('x y')\n",
    "\n",
    "sqrt(8)\n",
    "\n",
    "sqrt(x).evalf(subs={x:8})\n"
   ]
  },
  {
   "cell_type": "markdown",
   "metadata": {},
   "source": [
    "### lambdtify\n",
    "把sympy对象转换成调用函数,可通过设置module来改变实现函数的库\n",
    "- args: 数组参数\n",
    "- expr: 表达式\n",
    "- modules: 第三方库\n"
   ]
  },
  {
   "cell_type": "code",
   "execution_count": 34,
   "metadata": {},
   "outputs": [],
   "source": [
    "import numpy as np \n",
    "x,y=symbols('x y')\n",
    "expr=sin(x)\n",
    "f=lambdify(x,expr,'numpy')\n",
    "f(2)\n",
    "\n",
    "expr=x**2+y**2\n",
    "expr=lambdify([x,y],expr)\n"
   ]
  }
 ],
 "metadata": {
  "kernelspec": {
   "display_name": "base",
   "language": "python",
   "name": "python3"
  },
  "language_info": {
   "codemirror_mode": {
    "name": "ipython",
    "version": 3
   },
   "file_extension": ".py",
   "mimetype": "text/x-python",
   "name": "python",
   "nbconvert_exporter": "python",
   "pygments_lexer": "ipython3",
   "version": "3.11.5"
  }
 },
 "nbformat": 4,
 "nbformat_minor": 2
}
