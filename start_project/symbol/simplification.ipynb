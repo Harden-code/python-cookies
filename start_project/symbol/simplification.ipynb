{
 "cells": [
  {
   "cell_type": "code",
   "execution_count": 1,
   "metadata": {},
   "outputs": [],
   "source": [
    "from sympy import *\n",
    "# polynomial 多项式\n",
    "# integral 积分"
   ]
  },
  {
   "cell_type": "markdown",
   "metadata": {},
   "source": [
    "### simplify\n",
    "简化方程,一般用在响应式输入的情况"
   ]
  },
  {
   "cell_type": "code",
   "execution_count": 3,
   "metadata": {},
   "outputs": [
    {
     "data": {
      "text/latex": [
       "$\\displaystyle x^{2} + x + 1$"
      ],
      "text/plain": [
       "x**2 + x + 1"
      ]
     },
     "execution_count": 3,
     "metadata": {},
     "output_type": "execute_result"
    }
   ],
   "source": [
    "x=symbols('x')\n",
    "expr=x**2+x*3-4-2*x+5\n",
    "simplify(expr)"
   ]
  },
  {
   "cell_type": "markdown",
   "metadata": {},
   "source": [
    "### Polynomial/Rational\n",
    "- expand() 展开多项式\n",
    "- factor() 因数分解\n",
    "- collect() 收集相同项,结合coeff提取系数,coeff(x,n)\n",
    "n式几次(x**n)\n",
    "- cancel() p/q 化简\n",
    "- apart() 部分展开有理函数\n",
    " \n",
    "> - Polynomial 多项式\n",
    "> - Rational 有理数\n",
    "> - Expand 展开\n",
    "> - coeff 系数\n",
    "> - cancel 取消"
   ]
  },
  {
   "cell_type": "code",
   "execution_count": 13,
   "metadata": {},
   "outputs": [
    {
     "name": "stdout",
     "output_type": "stream",
     "text": [
      "x**2 + 2*x + 1\n",
      "(x + 1)**2\n",
      "x**3 + x**2*(y + 1) + 1\n",
      "y + 1\n",
      "(x + 1)/x\n",
      "(4*x**3 + 21*x**2 + 10*x + 12)/(x**4 + 5*x**3 + 5*x**2 + 4*x)\n",
      "(2*x - 1)/(x**2 + x + 1) - 1/(x + 4) + 3/x\n"
     ]
    }
   ],
   "source": [
    "expr_str='(x+1)**2'\n",
    "expr=sympify(expr_str)\n",
    "# expand 展开\n",
    "expr_expand=expand(expr)\n",
    "print(expr_expand)\n",
    "\n",
    "# 因式分解\n",
    "expr_fac=factor(expr_expand)\n",
    "print(expr_fac)\n",
    "\n",
    "x,y=symbols('x,y')\n",
    "expr=x**3+x**2+(x**2)*y+1\n",
    "expr_col=collect(expr,x)\n",
    "print(expr_col)\n",
    "\n",
    "print(expr_col.coeff(x,2))\n",
    "\n",
    "# cancel 化简q/p\n",
    "print(cancel((x**2+2*x+1)/(x**2+x)))\n",
    "\n",
    "# apart部分展开\n",
    "expr = (4*x**3 + 21*x**2 + 10*x + 12)/(x**4 + 5*x**3 + 5*x**2 + 4*x)\n",
    "print(expr)\n",
    "print(apart(expr))"
   ]
  },
  {
   "cell_type": "markdown",
   "metadata": {},
   "source": [
    "### Trigonometric\n",
    "反三角函数在原有的名字前多a,trigsimp,expand_trig针对三角函数化简\n",
    ">  trigonometirc 三角函数"
   ]
  },
  {
   "cell_type": "code",
   "execution_count": 32,
   "metadata": {},
   "outputs": [
    {
     "name": "stdout",
     "output_type": "stream",
     "text": [
      "1\n",
      "0 1\n",
      "2*sin(x)*cos(x)\n"
     ]
    }
   ],
   "source": [
    "x=symbols('x')\n",
    "\n",
    "expr=sin(asin(x))\n",
    "print(expr.subs(x,1))\n",
    "\n",
    "print(acos(1),cos(0))\n",
    "\n",
    "expr=sin(2*x)\n",
    "print(expand_trig(expr))\n"
   ]
  },
  {
   "cell_type": "markdown",
   "metadata": {},
   "source": [
    "### powers\n",
    "sqrt(x)==x**Rational(1,2),与三角函数一样,幂函数的方法也是在原有名基础上pow\n",
    "> power 幂函数"
   ]
  },
  {
   "cell_type": "code",
   "execution_count": 39,
   "metadata": {},
   "outputs": [
    {
     "name": "stdout",
     "output_type": "stream",
     "text": [
      " a  b\n",
      "x ⋅x \n",
      "     a\n",
      "(x⋅y) \n",
      "    b\n",
      "⎛ a⎞ \n",
      "⎝x ⎠ \n"
     ]
    }
   ],
   "source": [
    "x,a,b=symbols('x,a,b')\n",
    "\n",
    "pprint(expand_power_exp(x**(a + b)))\n",
    "\n",
    "pprint(expand_power_base((x*y)**a))\n",
    "# 嵌套\n",
    "pprint(powdenest((x**a)**b))\n"
   ]
  },
  {
   "cell_type": "markdown",
   "metadata": {},
   "source": [
    "### exponentials and logarithms\n",
    "log(ab)=log(a)+log(b)\n",
    "\n",
    "log(x**n)=nlog(x) \n",
    "\n",
    "常用方法\n",
    "- expand_log() 化简\n",
    "- logcombine() 组合\n",
    "> - exponential 指数\n",
    "> - logarithms 对数"
   ]
  },
  {
   "cell_type": "code",
   "execution_count": 43,
   "metadata": {},
   "outputs": [
    {
     "name": "stdout",
     "output_type": "stream",
     "text": [
      "log(a) + log(b)\n"
     ]
    },
    {
     "data": {
      "image/png": "[encoded data removed]",
      "text/latex": [
       "$\\displaystyle \\log{\\left(a b \\right)}$"
      ],
      "text/plain": [
       "log(a⋅b)"
      ]
     },
     "execution_count": 43,
     "metadata": {},
     "output_type": "execute_result"
    }
   ],
   "source": [
    "a,b=symbols('a,b',positive=True) # 正数\n",
    "\n",
    "# 符号规定是正数才能化简\n",
    "expr=expand_log(log(a*b))\n",
    "\n",
    "pprint(expr)\n",
    "\n",
    "logcombine(expr)"
   ]
  }
 ],
 "metadata": {
  "kernelspec": {
   "display_name": "base",
   "language": "python",
   "name": "python3"
  },
  "language_info": {
   "codemirror_mode": {
    "name": "ipython",
    "version": 3
   },
   "file_extension": ".py",
   "mimetype": "text/x-python",
   "name": "python",
   "nbconvert_exporter": "python",
   "pygments_lexer": "ipython3",
   "version": "3.11.5"
  }
 },
 "nbformat": 4,
 "nbformat_minor": 2
}
