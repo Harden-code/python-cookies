{
 "cells": [
  {
   "cell_type": "code",
   "execution_count": 46,
   "metadata": {},
   "outputs": [],
   "source": [
    "from sympy import symbols,idiff,Function,collect,series,diff,pprint,simplify"
   ]
  },
  {
   "cell_type": "code",
   "execution_count": 48,
   "metadata": {},
   "outputs": [
    {
     "name": "stdout",
     "output_type": "stream",
     "text": [
      "             3            2    \n",
      "6⋅x + (x - 1)  + 4⋅(x - 1)  - 3\n"
     ]
    }
   ],
   "source": [
    "# 求解隐函数\n",
    "x,y=symbols('x,y')\n",
    "\n",
    "i_expr=x**2+y**2-4\n",
    "\n",
    "idiff(i_expr,y,x)\n",
    "\n",
    "expr=x**3+x**2+x\n",
    "collect(expr,x)\n",
    "pprint(series(expr,x,1))\n",
    "\n",
    "\n",
    "# help(collect)"
   ]
  },
  {
   "cell_type": "code",
   "execution_count": 61,
   "metadata": {},
   "outputs": [
    {
     "data": {
      "text/latex": [
       "$\\displaystyle 2 x$"
      ],
      "text/plain": [
       "2*x"
      ]
     },
     "execution_count": 61,
     "metadata": {},
     "output_type": "execute_result"
    }
   ],
   "source": [
    "# help(symbols)\n",
    "f=symbols('f',cls=Function)\n",
    "f=f(x)\n",
    "# expr=x+2\n",
    "# f=f.subs(f,expr)\n",
    "expr=f+x\n",
    "expr.subs(f,x)"
   ]
  }
 ],
 "metadata": {
  "kernelspec": {
   "display_name": "base",
   "language": "python",
   "name": "python3"
  },
  "language_info": {
   "codemirror_mode": {
    "name": "ipython",
    "version": 3
   },
   "file_extension": ".py",
   "mimetype": "text/x-python",
   "name": "python",
   "nbconvert_exporter": "python",
   "pygments_lexer": "ipython3",
   "version": "3.11.5"
  }
 },
 "nbformat": 4,
 "nbformat_minor": 2
}
