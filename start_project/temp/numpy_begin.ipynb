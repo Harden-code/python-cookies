{
 "cells": [
  {
   "cell_type": "markdown",
   "metadata": {},
   "source": [
    "### numpy优势\n",
    "- 对所有数据进行快速矩阵运算,无需编写循环程序\n",
    "- 对硬盘中的数组数据进行读写,并对内存映射文件进行操作\n",
    "- 线性代数,随机数生成,博里叶变化功能\n",
    "- numpy连接到c\n",
    "\n",
    "> 内部数据存储在连续的内存块上,算法库也是c语言写的"
   ]
  },
  {
   "cell_type": "code",
   "execution_count": 1,
   "metadata": {},
   "outputs": [],
   "source": [
    "import numpy as np"
   ]
  },
  {
   "cell_type": "code",
   "execution_count": 2,
   "metadata": {},
   "outputs": [
    {
     "name": "stdout",
     "output_type": "stream",
     "text": [
      "CPU times: user 4.26 ms, sys: 1.19 ms, total: 5.45 ms\n",
      "Wall time: 1.12 ms\n",
      "CPU times: user 61.8 ms, sys: 1.84 ms, total: 63.6 ms\n",
      "Wall time: 21.4 ms\n"
     ]
    }
   ],
   "source": [
    "arr1=np.arange(100000)\n",
    "arr2=list(range(100000))\n",
    "%time for _ in range(10):arr3=arr1*2\n",
    "%time for _ in range(10):arr4=[x * 2 for x in arr2]"
   ]
  },
  {
   "cell_type": "markdown",
   "metadata": {},
   "source": [
    "### 多位数组对象\n",
    "numpy的核心之一就是n-维数组对象ndarray\n",
    "\n",
    "一个ndarray是一个通用的多维同类数据容器,它包含的每一个元素均为相同类型.每个数组都有一个shape表示数组的每一个维度的数量,每一个数组都有一个dtype属性,来描述数组的类型"
   ]
  },
  {
   "cell_type": "code",
   "execution_count": 3,
   "metadata": {},
   "outputs": [
    {
     "name": "stdout",
     "output_type": "stream",
     "text": [
      "[[ 0.77055584 -0.5734972 ]\n",
      " [ 0.18028575  0.22532238]\n",
      " [ 0.11468121 -1.55238354]]\n",
      "[[  7.70555842  -5.73497195]\n",
      " [  1.80285754   2.25322377]\n",
      " [  1.14681213 -15.52383538]]\n",
      "2\n",
      "(3, 2) float64\n"
     ]
    }
   ],
   "source": [
    "# np.random.randint生成int\n",
    "\n",
    "data=np.random.randn(3,2)#生成3行2列\n",
    "print(data)\n",
    "print(data*10)\n",
    "print(data.ndim)\n",
    "\n",
    "# 数组维度 数组类型\n",
    "print(data.shape,data.dtype)"
   ]
  },
  {
   "cell_type": "markdown",
   "metadata": {},
   "source": [
    "生成ndarray\n",
    "\n",
    "1. 最简单的方式array函数,array函数接受任意的序列对象,生成一个新的包含传递数据的numpy数组\n",
    "> 嵌套相同的行列,将编程多维数组;ndim确定维度[行]\n",
    "\n",
    "> np.array会自动推断生成数组的数据类型\n",
    "\n",
    "2. zeros创建全0数组,ones创建全1数组,empty创建没有初始化值的数组,想要创建高维数据shape对象传递元组\n",
    "\n",
    "> empty生出来一个全0数组并不安全;\n",
    "\n",
    "> zeros_like生成和传入参数形状一样的数组\n",
    "\n",
    "3. asarray将输入转换为ndarray,如果输入已是ndarray则不在复制\n",
    "\n",
    "4. arrange 内建range的版本"
   ]
  },
  {
   "cell_type": "code",
   "execution_count": 4,
   "metadata": {},
   "outputs": [
    {
     "name": "stdout",
     "output_type": "stream",
     "text": [
      "int64\n",
      "float64 [[0. 0.]\n",
      " [0. 0.]]\n",
      "[0 1 2 3 4 5 6 7 8 9] int64\n"
     ]
    }
   ],
   "source": [
    "data=np.array([[1,1,1],[1,1,1]])\n",
    "zero_arr=np.zeros_like(data)\n",
    "print(data.dtype)\n",
    "\n",
    "zeros=np.zeros((2,2))\n",
    "print(zeros.dtype,zeros)\n",
    "\n",
    "arr=[i for i in range(10)]\n",
    "a=np.asarray(arr)\n",
    "print(a,a.dtype)\n"
   ]
  },
  {
   "cell_type": "markdown",
   "metadata": {},
   "source": [
    "ndarray数据类型\n",
    "\n",
    "- int有符合无符号,8位-64位\n",
    "- float类型,16位-128位\n",
    "- complex64,128,256复数\n",
    "- bool\n",
    "- object\n",
    "\n",
    "- string_\n",
    "- unicode,长度为10\n",
    "\n",
    "astype显示转换数组类型，**使用astype总是生成一个新数组,即使传入dtype与之前的一样**\n",
    "\n",
    "在NumPy中，当使用numpy.string_类型作字符串数据要小心，因为NumPy会修正它的大小或删除输入且不发出警告\n",
    "\n",
    "如果某些原因导致类型转换失败,将抛出ValueError"
   ]
  },
  {
   "cell_type": "code",
   "execution_count": 5,
   "metadata": {},
   "outputs": [
    {
     "name": "stdout",
     "output_type": "stream",
     "text": [
      "[0. 1. 2. 3. 4. 5. 6. 7. 8. 9.]\n",
      "[0 1 2 3 4 5 6 7 8 9]\n"
     ]
    }
   ],
   "source": [
    "arr=np.arange(10,dtype='float16')\n",
    "print(arr)\n",
    "print(arr.astype('int8'))"
   ]
  },
  {
   "cell_type": "markdown",
   "metadata": {},
   "source": [
    "算术运算\n",
    "\n",
    "允许进行批量操作无需任何for循环,任何两个等尺寸数组之间的算术操作都应用列逐元素操作的方式"
   ]
  },
  {
   "cell_type": "code",
   "execution_count": 6,
   "metadata": {},
   "outputs": [
    {
     "name": "stdout",
     "output_type": "stream",
     "text": [
      "[3 4]\n"
     ]
    }
   ],
   "source": [
    "a=np.array([1,2])\n",
    "b=np.array([2,2])\n",
    "print(a+b)"
   ]
  },
  {
   "cell_type": "markdown",
   "metadata": {},
   "source": [
    "基础索引切片\n",
    "\n",
    "与python内建列表的区别,数组切片是用的元数组的视图,意味着数据并不是被复制的\n",
    "\n",
    "如果想要一份数组切片的拷贝必须显示复制这个数组,arr[1,4].copy()\n",
    "\n",
    "对于高维度数组,每个索引值对应的元素不在是一个值,而是一个数组.获取方式可以当个获取a[0][1]或者在一个括号内获取a[0,1]\n",
    "\n",
    "数组切片索引\n",
    "\n",
    "与python列表的一维对象类似,可以通过类似语法进行切片.多组切片与多组索引类似a[:3,:-1]\n"
   ]
  },
  {
   "cell_type": "code",
   "execution_count": 7,
   "metadata": {},
   "outputs": [
    {
     "name": "stdout",
     "output_type": "stream",
     "text": [
      "[[1. 1. 1.]\n",
      " [1. 2. 2.]\n",
      " [1. 2. 2.]]\n",
      "[[3. 3.]\n",
      " [3. 3.]]\n",
      "[[1. 1. 1.]\n",
      " [1. 2. 2.]\n",
      " [1. 2. 2.]]\n"
     ]
    }
   ],
   "source": [
    "a=np.ones((3,3))\n",
    "a[1:,1:]=2\n",
    "print(a)\n",
    "b=a[:-1,:-1].copy()\n",
    "b[:,:]=3\n",
    "print(b)\n",
    "print(a)"
   ]
  },
  {
   "cell_type": "markdown",
   "metadata": {},
   "source": [
    "布尔索引\n",
    "\n",
    "使用boolean取数据,数据行和索引行必须大小必须相同\n",
    "\n",
    "**当布尔数组长度不正确时,布尔值选择数据的方式不会报错**\n",
    "\n",
    "当要使用多个布尔条件进行联合需要使用&(and)或|(or),~取反使用布尔值索引选择数据时,总是生成数据拷贝,即使返回的数组并没有变化.python的关键字and or 不能使用用逻辑符号代替"
   ]
  },
  {
   "cell_type": "code",
   "execution_count": 8,
   "metadata": {},
   "outputs": [
    {
     "name": "stdout",
     "output_type": "stream",
     "text": [
      "[[ 0.46146797 -0.41010508  0.91716543]\n",
      " [-0.9541424  -0.0532385  -0.47387627]\n",
      " [-0.232479   -0.26445269  1.15282603]]\n",
      "[[ 0.46146797 -0.41010508  0.91716543]]\n",
      "[[-0.9541424 -0.0532385]]\n",
      "[[ 0.46146797 -0.41010508  0.91716543]]\n",
      "[]\n",
      "[[ 0.         -0.41010508  0.        ]\n",
      " [-0.9541424  -0.0532385  -0.47387627]\n",
      " [-0.232479   -0.26445269  0.        ]]\n"
     ]
    }
   ],
   "source": [
    "names=np.array(['a','b','c'])\n",
    "data=np.random.randn(3,3)\n",
    "print(data)\n",
    "\n",
    "print(data[names=='a'])\n",
    "print(data[names=='b',:-1])\n",
    "# 注意数组长度\n",
    "new_names=names[:-1].copy()\n",
    "\n",
    "print(data[(names=='a')&True])\n",
    "print(data[(names=='a')&(False)])\n",
    "\n",
    "data[data>0]=0\n",
    "print(data)"
   ]
  },
  {
   "cell_type": "markdown",
   "metadata": {},
   "source": [
    "神奇索引\n",
    "\n",
    "用于描述使用整数数组进行数据索引.神奇索引与切片不同,它总是将数据复制到一个新的数组中"
   ]
  },
  {
   "cell_type": "code",
   "execution_count": 9,
   "metadata": {},
   "outputs": [
    {
     "name": "stdout",
     "output_type": "stream",
     "text": [
      "[[0. 0. 0. 0.]\n",
      " [1. 1. 1. 1.]\n",
      " [2. 2. 2. 2.]\n",
      " [3. 3. 3. 3.]\n",
      " [4. 4. 4. 4.]\n",
      " [5. 5. 5. 5.]\n",
      " [6. 6. 6. 6.]\n",
      " [7. 7. 7. 7.]]\n",
      "[[4. 4. 4. 4.]\n",
      " [6. 6. 6. 6.]\n",
      " [5. 5. 5. 5.]]\n",
      "[[7. 7. 7. 7.]\n",
      " [3. 3. 3. 3.]]\n"
     ]
    },
    {
     "data": {
      "text/plain": [
       "array([ 4,  9, 19])"
      ]
     },
     "execution_count": 9,
     "metadata": {},
     "output_type": "execute_result"
    }
   ],
   "source": [
    "data=np.empty((8,4))\n",
    "for i in range(8):\n",
    "    data[i]=i\n",
    "print(data)\n",
    "# 通过序列集合选取数组\n",
    "print(data[[4,6,5]])\n",
    "# 也可为负\n",
    "print(data[[-1,-5]])\n",
    "# 传递多个所以数组,会根据每个索引数组选取对应元素的一维数组\n",
    "data=np.arange(32).reshape((8,4))\n",
    "data[[1,2,4],[0,1,3]]"
   ]
  },
  {
   "cell_type": "markdown",
   "metadata": {},
   "source": [
    "### 数据转置和换轴\n",
    "转置是一种特殊的数据重组形式,可以返回底层数据的视图而不需要复制出任何内容.数组有transpose方法,也有特殊T属性"
   ]
  },
  {
   "cell_type": "code",
   "execution_count": 26,
   "metadata": {},
   "outputs": [
    {
     "name": "stdout",
     "output_type": "stream",
     "text": [
      "[[ 0  1  2  3  4]\n",
      " [ 5  6  7  8  9]\n",
      " [10 11 12 13 14]]\n",
      "[[[ 0  1  2  3]\n",
      "  [ 4  5  6  7]]\n",
      "\n",
      " [[ 8  9 10 11]\n",
      "  [12 13 14 15]]]\n",
      "[[[ 0  4]\n",
      "  [ 1  5]\n",
      "  [ 2  6]\n",
      "  [ 3  7]]\n",
      "\n",
      " [[ 8 12]\n",
      "  [ 9 13]\n",
      "  [10 14]\n",
      "  [11 15]]]\n"
     ]
    }
   ],
   "source": [
    "data=np.arange(15).reshape((3,5))\n",
    "print(data)\n",
    "#swapaxes 接受轴编号,并对轴进行调整重组\n",
    "\n",
    "data=np.arange(16).reshape((2,2,4))\n",
    "print(data)\n",
    "print(data.swapaxes(1,2))"
   ]
  },
  {
   "cell_type": "markdown",
   "metadata": {},
   "source": [
    "### 通用函数\n",
    "通用函数成ufunc,是一种在ndarray数据中进行逐元素操作的函数\n",
    "\n",
    "一元通用函数\n",
    "- abs,fabs:逐个计算整数,浮点数或复数的绝对值\n",
    "- sqrt:计算每个元素的平方根\n",
    "- square:计算每个元素的平方\n",
    "\n",
    "二元通用函数\n",
    "- add:两数元素相加\n",
    "- subtract:在第二个数组中,将第一个数组中包含的元素去除\n",
    "- multiply:将数组对应元素相乘\n",
    "- divide,floor_divide:整除(放弃余数)\n",
    "- power:将第二个数组的元素作为第一个数组对应元素的幂次方\n",
    "- maximum,fmax:逐个计算最大值\n",
    "- minimum,fmin:逐个计算最小值\n",
    "- mod:按元素求余\n",
    "- copysign:将第一个数组的符号值改为第二个数字的符号值\n",
    "- greater,greater_equal,less,less_equal,equal,not_equal:逐个比较返回bool,>,>=,<,<=,==!=\n",
    "- logical_and,logical_or,logical_xor:逻辑运算& | ^"
   ]
  },
  {
   "cell_type": "code",
   "execution_count": 11,
   "metadata": {},
   "outputs": [
    {
     "name": "stdout",
     "output_type": "stream",
     "text": [
      "[0.         1.         1.41421356 1.73205081 2.         2.23606798\n",
      " 2.44948974 2.64575131 2.82842712 3.        ]\n"
     ]
    },
    {
     "data": {
      "text/plain": [
       "array([-2.,  4.,  6.,  8.])"
      ]
     },
     "execution_count": 11,
     "metadata": {},
     "output_type": "execute_result"
    }
   ],
   "source": [
    "\n",
    "data=np.arange(10)\n",
    "\n",
    "print(np.sqrt(data))\n",
    "\n",
    "a=np.array([2,4,6,8])\n",
    "b=np.array([-2,2,2,2])\n",
    "\n",
    "np.divide(a,b)\n",
    "\n",
    "np.copysign(a,b)"
   ]
  },
  {
   "cell_type": "markdown",
   "metadata": {},
   "source": [
    "### 将条件逻辑作为数组操作\n",
    "numpy.where函数是三元表达式x if condition else y的向量话版本`np.where(cond,x,y)`,where的第二个和第三个参数并不需要数组,它们可以标量.where在数据分析中典型的用法根据一个数组生成一个新数组"
   ]
  },
  {
   "cell_type": "code",
   "execution_count": 12,
   "metadata": {},
   "outputs": [
    {
     "data": {
      "text/plain": [
       "array([[-1, -1, -1],\n",
       "       [ 1, -1, -1],\n",
       "       [-1,  1, -1]])"
      ]
     },
     "execution_count": 12,
     "metadata": {},
     "output_type": "execute_result"
    }
   ],
   "source": [
    "# 将随机矩阵中的复数替换成2\n",
    "data=np.random.randn(3,3)\n",
    "\n",
    "np.where(data>0,1,-1)"
   ]
  },
  {
   "cell_type": "markdown",
   "metadata": {},
   "source": [
    "### 数学和统计方法\n",
    "- sum:沿着轴向计算所有的累和\n",
    "- mean:数学平均,0长度的数组平均值为NAN\n",
    "- std,var:标准差和方差,可以自由选择调整(默认分母是n)\n",
    "- min,max:最大值和最小值\n",
    "- argmin,argmax:最大值和最小值位置\n",
    "- cumsum:从0开始元素累积\n",
    "- cumprod;从1开始元素累积积"
   ]
  },
  {
   "cell_type": "code",
   "execution_count": 13,
   "metadata": {},
   "outputs": [
    {
     "name": "stdout",
     "output_type": "stream",
     "text": [
      "5.0 2.581988897471611\n",
      "[     1      2      6     24    120    720   5040  40320 362880] [ 1  3  6 10 15 21 28 36 45]\n"
     ]
    }
   ],
   "source": [
    "data=np.arange(start=1,stop=10)\n",
    "\n",
    "print(data.mean(),data.std())\n",
    "\n",
    "print(data.cumprod(),data.cumsum())\n"
   ]
  },
  {
   "cell_type": "markdown",
   "metadata": {},
   "source": [
    "### bool数组的方法\n",
    "布尔值会被强制为1和0,因此sum通常用于计算bool值的为True的个数\n",
    "\n",
    "### 排序\n",
    "排序跟内建列表相似,使用sort方法按位置排序,可以在多维数组中传递axis值\n",
    "\n",
    "### 唯一值与其他集合逻辑\n",
    "np.unique返回数组中唯一值排序后形成的数组\n",
    "- unique:计算唯一值,并排序\n",
    "- intersect1d():计算x和y的交集\n",
    "- union1d():计算x和y的并集\n",
    "- in1d():计算x中元素是否包含y中,返回一个bool数组\n",
    "- setdiff1d():差集在x中但不在y中的x元素\n",
    "- setxor1d():异或集,在x或y中,但不属于x,y交集的元素"
   ]
  },
  {
   "cell_type": "code",
   "execution_count": 16,
   "metadata": {},
   "outputs": [
    {
     "name": "stdout",
     "output_type": "stream",
     "text": [
      "[0 1 2 3 4 5]\n",
      "[5]\n",
      "[0 1 2 3 4 5 6 7 8]\n"
     ]
    }
   ],
   "source": [
    "a=np.arange(6)\n",
    "b=np.arange(start=5,stop=9)\n",
    "\n",
    "print(np.unique(a))\n",
    "# 交集\n",
    "print(np.intersect1d(a,b))\n",
    "\n",
    "print(np.union1d(a,b))"
   ]
  },
  {
   "cell_type": "markdown",
   "metadata": {},
   "source": [
    "### 使用数组进行文本输入输出\n",
    "- np.save\n",
    "- np.load\n",
    "- np.savez将数组作为参数给函数,用于在未压缩文件中保持多个\n",
    "- np.savez_compressed将压缩号的数组进行保存\n",
    "\n",
    "数组默认情况下以未压缩进行存储,后缀名.npy"
   ]
  },
  {
   "cell_type": "markdown",
   "metadata": {},
   "source": [
    "### 伪随机数生成\n",
    "np.random模块填补了内建模块的不足,可以高效生成多种概率分布下完整样本数组\n",
    "> 内建一次只能生成一个值\n",
    "\n",
    "由于它们是具有确定性行为的算法根据随机数生成种子生成,可以通过弄np.random.seed修改生成种子.但是这个里面使用的全局种子,可以使用np.random.RandomState生成一个随机数生成器\n",
    "\n",
    "- seed\n",
    "- permutation\n",
    "- shuffle\n",
    "- rand\n",
    "- randint\n",
    "- randn\n",
    "- binomial\n",
    "- normal\n",
    "- beta\n",
    "- chisquare"
   ]
  },
  {
   "cell_type": "code",
   "execution_count": 20,
   "metadata": {},
   "outputs": [
    {
     "name": "stdout",
     "output_type": "stream",
     "text": [
      "2.57 ms ± 15.1 µs per loop (mean ± std. dev. of 7 runs, 100 loops each)\n",
      "146 µs ± 581 ns per loop (mean ± std. dev. of 7 runs, 10,000 loops each)\n"
     ]
    }
   ],
   "source": [
    "from random import normalvariate\n",
    "%timeit sample=[normalvariate(0,1) for _ in range(10000)]\n",
    "\n",
    "%timeit sample=np.random.normal(size=10000)"
   ]
  },
  {
   "cell_type": "code",
   "execution_count": 22,
   "metadata": {},
   "outputs": [
    {
     "name": "stdout",
     "output_type": "stream",
     "text": [
      "[[ 0.07312614  0.60901625  0.9007848 ]\n",
      " [ 0.54481367  0.67841868  0.29206619]\n",
      " [-0.77920636 -1.21147114  0.28734516]]\n",
      "[[ 0.05056171  0.49995133 -0.99590893]\n",
      " [ 0.69359851 -0.41830152 -1.58457724]\n",
      " [-0.64770677  0.59857517  0.33225003]]\n"
     ]
    }
   ],
   "source": [
    "# 正态分布样本\n",
    "samples=np.random.normal(size=(3,3))\n",
    "\n",
    "print(samples)\n",
    "\n",
    "\n",
    "r=np.random.RandomState(4)\n",
    "\n",
    "print(r.normal(size=(3,3)))"
   ]
  }
 ],
 "metadata": {
  "kernelspec": {
   "display_name": "base",
   "language": "python",
   "name": "python3"
  },
  "language_info": {
   "codemirror_mode": {
    "name": "ipython",
    "version": 3
   },
   "file_extension": ".py",
   "mimetype": "text/x-python",
   "name": "python",
   "nbconvert_exporter": "python",
   "pygments_lexer": "ipython3",
   "version": "3.9.6"
  }
 },
 "nbformat": 4,
 "nbformat_minor": 2
}
