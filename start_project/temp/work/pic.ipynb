{
 "cells": [
  {
   "cell_type": "code",
   "execution_count": 1,
   "metadata": {},
   "outputs": [],
   "source": [
    "import Ask"
   ]
  },
  {
   "cell_type": "code",
   "execution_count": 2,
   "metadata": {},
   "outputs": [],
   "source": [
    "result=[]\n",
    "message='''这张图片内容是一张表格和一行标题,标题是对应的表名,\n",
    "表格里面存放的数据库的表信息.第一列是表字段名,第二列是字段注释,\n",
    "第四列是数据类型,第五列是唯一约束.利用这些信息帮我生成对应的建\n",
    "表语句,把字段注释也加到建表语句里,行列之间排列整齐生成格式如下\n",
    "\n",
    "```sql\n",
    "CREATE TABLE demo (\n",
    "create_by  VARCHAR(64)   COMMENT '创建人',\n",
    "update_by  VARCHAR(64)   COMMENT '修改人',\n",
    "```\n",
    "'''\n"
   ]
  },
  {
   "cell_type": "code",
   "execution_count": 3,
   "metadata": {},
   "outputs": [],
   "source": [
    "ps=[f'{i}.png'for i in range(1,9)]\n",
    "for p in ps:\n",
    "    result.append(Ask.ask_gpt_picture(p,message))\n"
   ]
  },
  {
   "cell_type": "code",
   "execution_count": 6,
   "metadata": {},
   "outputs": [],
   "source": [
    "with open('temp','w') as f:\n",
    "    \n",
    "    f.writelines(result)"
   ]
  },
  {
   "cell_type": "code",
   "execution_count": 5,
   "metadata": {},
   "outputs": [],
   "source": [
    "\n",
    "result.append(Ask.ask_gpt_picture('9.png',message))"
   ]
  }
 ],
 "metadata": {
  "kernelspec": {
   "display_name": "openai",
   "language": "python",
   "name": "python3"
  },
  "language_info": {
   "codemirror_mode": {
    "name": "ipython",
    "version": 3
   },
   "file_extension": ".py",
   "mimetype": "text/x-python",
   "name": "python",
   "nbconvert_exporter": "python",
   "pygments_lexer": "ipython3",
   "version": "3.11.7"
  }
 },
 "nbformat": 4,
 "nbformat_minor": 2
}
