{
 "cells": [
  {
   "cell_type": "code",
   "execution_count": null,
   "metadata": {},
   "outputs": [],
   "source": [
    "%pip install pytesseract\n",
    "# 必须装 tesseract-lang"
   ]
  },
  {
   "cell_type": "code",
   "execution_count": 1,
   "metadata": {},
   "outputs": [],
   "source": [
    "import pytesseract\n",
    "from PIL import Image,ImageDraw\n",
    "import easyocr"
   ]
  },
  {
   "cell_type": "code",
   "execution_count": 31,
   "metadata": {},
   "outputs": [],
   "source": [
    "def cencos(image_path,out_path,box):\n",
    "    \n",
    "    image=Image.open(image_path)\n",
    "\n",
    "    draw=ImageDraw.Draw(image)\n",
    "\n",
    "    draw.rectangle(box,fill='white')\n",
    "\n",
    "    image.save(out_path)\n",
    "\n",
    "\n",
    "    "
   ]
  },
  {
   "cell_type": "code",
   "execution_count": 14,
   "metadata": {},
   "outputs": [],
   "source": [
    "image=Image.open('gml.png')\n",
    "rst=pytesseract.image_to_string(image=image,lang='chi_sim')\n",
    "print(rst)"
   ]
  },
  {
   "cell_type": "code",
   "execution_count": null,
   "metadata": {},
   "outputs": [],
   "source": [
    "# cnorc\n",
    "%pip install 'cnocr[ort-cpu]'"
   ]
  },
  {
   "cell_type": "code",
   "execution_count": null,
   "metadata": {},
   "outputs": [],
   "source": [
    "import cnocr\n",
    "# https://cnocr.readthedocs.io/zh/latest/usage/\n",
    "\n",
    "orc=cnocr.CnOcr()\n",
    "info=orc.ocr(image)\n",
    "\n",
    "info"
   ]
  },
  {
   "cell_type": "code",
   "execution_count": 14,
   "metadata": {},
   "outputs": [
    {
     "name": "stdout",
     "output_type": "stream",
     "text": [
      "4 用于感冒引起的头痛,发热,鼻塞,流涕，咽痛\n"
     ]
    }
   ],
   "source": [
    "import numpy as np\n",
    "position=info[3]['position']\n",
    "\n",
    "for index,data in enumerate(info):\n",
    "    if index==3:continue\n",
    "    position=data['position'].astype('int').tolist()\n",
    "    box=[*position[0],*position[2]]\n",
    "    try:\n",
    "        cencos('copy.png','copy.png',box)\n",
    "    except Exception:\n",
    "        print(index,data['text'])"
   ]
  },
  {
   "cell_type": "code",
   "execution_count": null,
   "metadata": {},
   "outputs": [],
   "source": [
    "%pip install easyocr"
   ]
  },
  {
   "cell_type": "code",
   "execution_count": 58,
   "metadata": {},
   "outputs": [],
   "source": [
    "'''\n",
    "    [335, 256], [975, 256], [975, 497], [335, 497]\n",
    "'''\n",
    "def find_max_height(text):\n",
    "    ret=-1\n",
    "    val=-1\n",
    "    for idx,info in enumerate(text):\n",
    "        position,*_=info\n",
    "        top,bottom,*_=position\n",
    "        height=bottom[0]-top[0]\n",
    "        if val < height:\n",
    "            ret=idx\n",
    "            val=height\n",
    "    return ret,val\n",
    "\n",
    "def apply_mosaic(image,area,block_size):\n",
    "    x1, y1, x2, y2 = area\n",
    "    \n",
    "    # 对给定区域进行马赛克处理\n",
    "    for y in range(y1, y2, block_size):\n",
    "        for x in range(x1, x2, block_size):\n",
    "            box = (x, y, min(x2, x + block_size), min(y2, y + block_size))\n",
    "            color = image.crop(box).getcolors()[0][1]\n",
    "            image.paste(color, box)\n",
    "    \n",
    " \n",
    "    \n",
    "def masaic(path):\n",
    "    reader=easyocr.Reader(lang_list=['ch_sim'])\n",
    "    text=reader.readtext(path)\n",
    "    idx,_=find_max_height(text)\n",
    "    temp=Image.open(path)\n",
    "    for index,data in enumerate(text):\n",
    "        position,*info=data\n",
    "        if index==idx:continue\n",
    "        box=[e.astype('int') for e in (*position[0],*position[2])]\n",
    "        try:\n",
    "            apply_mosaic(temp,box,10)\n",
    "        except Exception as e:\n",
    "            e.with_traceback()\n",
    "            print(e,index,info[0])\n",
    "    \n",
    "    temp.save('temp.png')"
   ]
  },
  {
   "cell_type": "code",
   "execution_count": 61,
   "metadata": {},
   "outputs": [],
   "source": [
    "masaic('gml.png')"
   ]
  }
 ],
 "metadata": {
  "kernelspec": {
   "display_name": "openai",
   "language": "python",
   "name": "python3"
  },
  "language_info": {
   "codemirror_mode": {
    "name": "ipython",
    "version": 3
   },
   "file_extension": ".py",
   "mimetype": "text/x-python",
   "name": "python",
   "nbconvert_exporter": "python",
   "pygments_lexer": "ipython3",
   "version": "3.11.7"
  }
 },
 "nbformat": 4,
 "nbformat_minor": 2
}
